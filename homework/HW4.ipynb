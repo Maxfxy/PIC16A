{
 "cells": [
  {
   "cell_type": "markdown",
   "metadata": {},
   "source": [
    "# Homework 4"
   ]
  },
  {
   "cell_type": "markdown",
   "metadata": {},
   "source": [
    "## Problem 1\n",
    "\n",
    "What's your favorite movie? Search for it on IMDB. If you can't find your favorite movie there, pick your second favorite or third favorite. \n",
    "\n",
    "Once you've found your favorite movie on IMDB, find the \"Full Cast and Crew\" page (under the \"Cast\") section. Here's the [Full Cast and Crew page](https://www.imdb.com/title/tt0211915/fullcredits?ref_=tt_cl_sm#cast) for my favorite movie, *Amelie*. Yours should look similar to this one.  \n",
    "\n",
    "We are going to use regular expressions to extract a list of all the actors in your favorite movie. \n",
    "\n",
    "### (A).\n",
    "\n",
    "Load the HTML from the Full Cast and Crew page into a variable called `html`. You will need to import the `urllib` library; copy/paste the page's URL; retrieve the data, read the data, and decode the data. The code pattern required should be nearly identical to that used in Discussion Activity 10. \n",
    "\n",
    "### Your Solution"
   ]
  },
  {
   "cell_type": "code",
   "execution_count": null,
   "metadata": {},
   "outputs": [],
   "source": []
  },
  {
   "cell_type": "markdown",
   "metadata": {},
   "source": [
    "### (B). \n",
    "\n",
    "In order to extract the complete cast, we are going to be a little bit sneaky. A sneaky streak is often helpful when working with regular expressions. \n",
    "\n",
    "If you investigate the HTML (which you are welcome but not required to do), you will find that all the actors have a small image associated to their names. The \"alt text\" on this image (i.e. the text displayed when you hover over that image with a mouse) contains the actor's name. So, we can simply extract the alt text to get a list of the actors. \n",
    "\n",
    "The corresponding HTML element looks like this: \n",
    "\n",
    "```\n",
    "<img height=\"44\" width=\"32\" alt=\"Audrey Tautou\" title=\"Audrey Tautou\" src=\"img.png\" class=\"loadlate hidden \" loadlate=\"img2.jpg\" />\n",
    "```\n",
    "Write a pattern that matches this HTML element and captures the name of the actor in a group. You should be able to use your pattern with `re.findall` to construct a complete list of actors in the movie:\n",
    "\n",
    "```python\n",
    "import re\n",
    "pattern = ?? # your solution here\n",
    "re.findall(pattern, html)\n",
    "```\n",
    "```\n",
    "['Audrey Tautou',\n",
    " 'Mathieu Kassovitz',\n",
    " 'Rufus',\n",
    " 'Lorella Cravotta',\n",
    " 'Serge Merlin',\n",
    " ...]\n",
    "```\n",
    "\n",
    "You should show your list output with your solution, and check it against the IMDB page to ensure that you've got everyone. You should also check whether your expression matches anything that ISN'T an actor, and adjust it if so. \n",
    "\n",
    "Feel free to grab some relevant chunks of HTML and paste them into [Pythex](https://pythex.org/) as you construct your expression. \n",
    "\n",
    "### Your Solution"
   ]
  },
  {
   "cell_type": "code",
   "execution_count": null,
   "metadata": {},
   "outputs": [],
   "source": []
  },
  {
   "cell_type": "markdown",
   "metadata": {},
   "source": [
    "## Problem 2\n",
    "\n",
    "Construct the following `numpy` arrays. For full credit, you should **not** use the code pattern `np.array(my_list)` in any of your answers, nor should you use `for`-loops or any other solution that involves creating or modifying the array one entry at a time. \n",
    "\n",
    "### (A). \n",
    "\n",
    "```\n",
    "array([[0, 1],\n",
    "       [2, 3],\n",
    "       [4, 5],\n",
    "       [6, 7],\n",
    "       [8, 9]])\n",
    "```"
   ]
  },
  {
   "cell_type": "markdown",
   "metadata": {},
   "source": [
    "#### Your Solution"
   ]
  },
  {
   "cell_type": "code",
   "execution_count": null,
   "metadata": {},
   "outputs": [],
   "source": [
    "# run this block to import numpy\n",
    "import numpy as np"
   ]
  },
  {
   "cell_type": "code",
   "execution_count": null,
   "metadata": {},
   "outputs": [],
   "source": []
  },
  {
   "cell_type": "markdown",
   "metadata": {},
   "source": [
    "### (B). \n",
    "\n",
    "```\n",
    "array([[0, 1, 2, 3, 4],\n",
    "       [5, 6, 7, 8, 9]])\n",
    "```\n",
    "\n",
    "#### Your Solution"
   ]
  },
  {
   "cell_type": "code",
   "execution_count": null,
   "metadata": {},
   "outputs": [],
   "source": []
  },
  {
   "cell_type": "markdown",
   "metadata": {},
   "source": [
    "### (C). \n",
    "\n",
    "```\n",
    "array([0. , 0.1, 0.2, 0.3, 0.4, 0.5, 0.6, 0.7, 0.8, 0.9, 1. ])\n",
    "```\n",
    "\n",
    "#### Your Solution"
   ]
  },
  {
   "cell_type": "code",
   "execution_count": null,
   "metadata": {},
   "outputs": [],
   "source": []
  },
  {
   "cell_type": "markdown",
   "metadata": {},
   "source": [
    "### (D). \n",
    "\n",
    "```\n",
    "array([ 1,  1,  1,  1,  1, 10, 10, 10, 10, 10])\n",
    "```\n",
    "\n",
    "#### Your Solution"
   ]
  },
  {
   "cell_type": "code",
   "execution_count": null,
   "metadata": {},
   "outputs": [],
   "source": []
  },
  {
   "cell_type": "markdown",
   "metadata": {},
   "source": [
    "### (E).\n",
    "```\n",
    "array([[30,  1,  2, 30,  4],\n",
    "       [ 5, 30,  7,  8, 30]])\n",
    "```\n",
    "\n",
    "#### Your Solution"
   ]
  },
  {
   "cell_type": "code",
   "execution_count": null,
   "metadata": {},
   "outputs": [],
   "source": []
  },
  {
   "cell_type": "markdown",
   "metadata": {},
   "source": [
    "### (F).\n",
    "\n",
    "```\n",
    "array([[ 5,  6,  7,  8,  9],\n",
    "       [10, 11, 12, 13, 14]])\n",
    "```\n",
    "#### Your Solution"
   ]
  },
  {
   "cell_type": "code",
   "execution_count": null,
   "metadata": {},
   "outputs": [],
   "source": []
  },
  {
   "cell_type": "markdown",
   "metadata": {},
   "source": [
    "### (G). \n",
    "\n",
    "```\n",
    "array([[ 1,  3],\n",
    "       [ 5,  7],\n",
    "       [ 9, 11],\n",
    "       [13, 15],\n",
    "       [17, 19]])\n",
    "```\n",
    "#### Your Solution"
   ]
  },
  {
   "cell_type": "code",
   "execution_count": null,
   "metadata": {},
   "outputs": [],
   "source": []
  },
  {
   "cell_type": "markdown",
   "metadata": {},
   "source": [
    "## Problem 3\n",
    "\n",
    "Consider the following array:\n",
    "\n",
    "```python\n",
    "A = np.arange(12).reshape(4, 3)\n",
    "A\n",
    "```\n",
    "```\n",
    "array([[ 0,  1,  2],\n",
    "       [ 3,  4,  5],\n",
    "       [ 6,  7,  8],\n",
    "       [ 9, 10, 11]])\n",
    "```\n",
    "\n",
    "Construct the specified arrays by indexing `A`. For example, if asked for `array([0, 1, 2])`, a correct answer would be `A[0,:]`. Each of the parts below may be performed in a single line. \n",
    "\n",
    "### (A). \n",
    "\n",
    "```\n",
    "array([6, 7, 8])\n",
    "```"
   ]
  },
  {
   "cell_type": "code",
   "execution_count": null,
   "metadata": {},
   "outputs": [],
   "source": [
    "# run this block to initialize A\n",
    "A = np.arange(12).reshape(4, 3)\n",
    "A"
   ]
  },
  {
   "cell_type": "markdown",
   "metadata": {},
   "source": [
    "#### Your Solution"
   ]
  },
  {
   "cell_type": "code",
   "execution_count": null,
   "metadata": {},
   "outputs": [],
   "source": []
  },
  {
   "cell_type": "markdown",
   "metadata": {},
   "source": [
    "### (B). \n",
    "\n",
    "```\n",
    "array([5, 8])\n",
    "```\n",
    "\n",
    "#### Your Solution"
   ]
  },
  {
   "cell_type": "code",
   "execution_count": null,
   "metadata": {},
   "outputs": [],
   "source": []
  },
  {
   "cell_type": "markdown",
   "metadata": {},
   "source": [
    "### (C). \n",
    "\n",
    "```\n",
    "array([ 6,  7,  8,  9, 10, 11])\n",
    "```\n",
    "\n",
    "#### Your Solution"
   ]
  },
  {
   "cell_type": "code",
   "execution_count": null,
   "metadata": {},
   "outputs": [],
   "source": []
  },
  {
   "cell_type": "markdown",
   "metadata": {},
   "source": [
    "### (D). \n",
    "\n",
    "```\n",
    "array([ 0,  2,  4,  6,  8, 10])\n",
    "```\n",
    "\n",
    "#### Your Solution"
   ]
  },
  {
   "cell_type": "code",
   "execution_count": null,
   "metadata": {},
   "outputs": [],
   "source": []
  },
  {
   "cell_type": "markdown",
   "metadata": {},
   "source": [
    "### (E). \n",
    "\n",
    "```\n",
    "array([ 0,  1,  2,  3,  4,  5, 11])\n",
    "```\n",
    "\n",
    "#### Your Solution"
   ]
  },
  {
   "cell_type": "code",
   "execution_count": null,
   "metadata": {},
   "outputs": [],
   "source": []
  },
  {
   "cell_type": "markdown",
   "metadata": {},
   "source": [
    "### (F). \n",
    "\n",
    "```\n",
    "array([ 4, 11])\n",
    "```\n",
    "\n",
    "#### Your Solution"
   ]
  },
  {
   "cell_type": "code",
   "execution_count": null,
   "metadata": {},
   "outputs": [],
   "source": []
  },
  {
   "cell_type": "markdown",
   "metadata": {},
   "source": [
    "## Problem 4\n",
    "\n",
    "In this problem, we will use `numpy` array indexing to repair an image that has been artificially separated into multiple pieces. The following code will retrieve two images, one of which has been cutout from the other. Your job is to piece them back together again. \n",
    "\n",
    "You've already seen `urllib.request.urlopen()` to retrieve online data. We'll play with `mpimg.imread()` a bit more in the future. The short story is that it produces a representation of an image as a `numpy` array of `RGB` values; see below. You'll see `imshow()` a lot more in about a week. "
   ]
  },
  {
   "cell_type": "code",
   "execution_count": null,
   "metadata": {},
   "outputs": [],
   "source": [
    "import matplotlib.image as mpimg \n",
    "from matplotlib import pyplot as plt\n",
    "import urllib\n",
    "\n",
    "f    = urllib.request.urlopen(\"https://philchodrow.github.io/PIC16A/homework/main.jpg\")\n",
    "main = mpimg.imread(f, format = \"jpg\").copy()\n",
    "\n",
    "f     = urllib.request.urlopen(\"https://philchodrow.github.io/PIC16A/homework/cutout.jpg\")\n",
    "cutout= mpimg.imread(f, format = \"jpg\").copy()\n",
    "\n",
    "fig, ax = plt.subplots(1, 2)\n",
    "ax[0].imshow(main)\n",
    "ax[1].imshow(cutout)"
   ]
  },
  {
   "cell_type": "markdown",
   "metadata": {},
   "source": [
    "The images are stored as two `np.array`s `main` and `cutout`. Inspect each one. You'll observe that each is a 3-dimensional `np.array` of shape `(width, height, 3)`. The `3` in this case indicates that the color of each pixel is encoded as an RGB (Red-Blue-Green) value. Each pixel has one RGB value, each of which has three elements. \n",
    "\n",
    "Use array indexing to fix the image, resulting in an array `fixed` that contains all the required RGB values. This can be done just a few lines of carefully-crafted `numpy`. Once you're done, visualize the result by running the indicated code block. \n",
    "\n",
    "**The black region in `main` starts at row 0, and column 50**. You can learn more about its shape by inspecting the shape of `cutout`. "
   ]
  },
  {
   "cell_type": "code",
   "execution_count": null,
   "metadata": {},
   "outputs": [],
   "source": [
    "# your solution\n"
   ]
  },
  {
   "cell_type": "code",
   "execution_count": null,
   "metadata": {},
   "outputs": [],
   "source": [
    "# run this block to check your solution\n",
    "plt.imshow(main)"
   ]
  },
  {
   "cell_type": "markdown",
   "metadata": {},
   "source": [
    "## Problem 5\n",
    "\n",
    "### (A).\n",
    "\n",
    "Read [these notes](https://jakevdp.github.io/PythonDataScienceHandbook/02.05-computation-on-arrays-broadcasting.html) from the Python Data Science Handbook on *array broadcasting*. Broadcasting refers to the automatic expansion of one or more arrays to make a computation \"make sense.\" Here's a simple example: \n",
    "\n",
    "```python\n",
    "a = np.array([0, 1, 2])\n",
    "b = np.ones((3, 3))\n",
    "a.shape, b.shape\n",
    "```\n",
    "```\n",
    "((3,), (3, 3))\n",
    "```\n",
    "```python\n",
    "a+b\n",
    "```\n",
    "```\n",
    "array([[1., 2., 3.],\n",
    "       [1., 2., 3.],\n",
    "       [1., 2., 3.]])\n",
    "```\n",
    "\n",
    "What has happened here is that the first array `a` has been \"broadcast\" from a 1d array into a 2d array of size 3x3 in order to match the dimensions of `b`. The broadcast version of `a` looks like this: \n",
    "\n",
    "```\n",
    "array([[0., 1., 2.],\n",
    "       [0., 1., 2.],\n",
    "       [0., 1., 2.]])\n",
    "```\n",
    "\n",
    "Consult the notes above for many more examples of broadcasting. Pay special attention to the discussion of the [rules of broadcasting](https://jakevdp.github.io/PythonDataScienceHandbook/02.05-computation-on-arrays-broadcasting.html#Rules-of-Broadcasting). \n",
    "\n",
    "### (B). \n",
    "\n",
    "Review, if needed, the `unittest` module for constructing automated unit tests in Python. You may wish to refer to the [required reading](https://docs.python.org/3/library/unittest.html) from that week, the [lecture notes](https://nbviewer.jupyter.org/github/PhilChodrow/PIC16A/blob/master/content/IO_and_modules/modules/unit_testing.ipynb), or the recorded [lecture video](https://www.youtube.com/watch?v=TwOmk9oSaR8&feature=youtu.be). \n",
    "\n",
    "### (C). \n",
    "\n",
    "Implement an automated test class called `TestBroadcastingRules` which tests the three rules of array broadcasting. \n",
    "\n",
    "> **Rule 1**: If the two arrays differ in their number of dimensions, the shape of the one with fewer dimensions is padded with ones on its leading (left) side.\n",
    "\n",
    "To test this rule, write a method `test_rule_1()` that constructs the arrays:\n",
    "\n",
    "```\n",
    "a = np.ones(3)\n",
    "b = np.arange(3).reshape(1, 3) \n",
    "c = a + b\n",
    "```\n",
    "\n",
    "Then, within the method, check (a) that the `shape` of `c` has the value you would expect according to Rule 1 and (b) that the final entry of `c` has the value that you would expect. **Note:** you should use `assertEqual()` twice within this method. \n",
    "\n",
    "In a docstring to this method, explain how this works. In particular, explain which of `a` or `b` is broadcasted, and what its new shape is according to Rule 1. You should also explain the value of the final entry of `c`. \n",
    "\n",
    "- **Rule 2**: If the shape of the two arrays does not match in any dimension, the array with shape equal to 1 in that dimension is stretched to match the other shape.\n",
    "\n",
    "To test this rule, write a method `test_rule_2()` that constructs the following two arrays: \n",
    "\n",
    "```\n",
    "a = np.ones((1, 3))\n",
    "b = np.arange(9).reshape(3, 3)\n",
    "c = a + b\n",
    "```\n",
    "\n",
    "Then, within the method, check (a) that the `shape` of `c` has the value you would expect according to Rule 2 and (b) that the entry `c[1,2]` has the value that you would expect.  You should again use `assertEqual()` twice within this method. \n",
    "\n",
    "In a docstring to this method, explain how this works. In particular, explain which of `a` or `b` is broadcasted, and what its new shape is according to Rule 2. You should also explain the value of the entry `c[1,2]`. \n",
    "\n",
    "- **Rule 3**: If in any dimension the sizes disagree and neither is equal to 1, an error is raised.\n",
    "\n",
    "To test this rule, write a method `test_rule_3` that constructs the arrays \n",
    "\n",
    "```\n",
    "a = np.ones((2, 3))\n",
    "b = np.ones((3, 3))\n",
    "```\n",
    "\n",
    "It should then attempt to construct `c = a + b`. The test should *pass* if the Rule 3 error is raised, and fail otherwise. You will need to figure out what kind of error is raised by Rule 3 (is it a `TypeError`? `ValueError`? `KeyError`?). You will also need to handle the error using the `assertRaises()` method as demonstrated in the readings. \n",
    "\n",
    "In a docstring to this method, explain why an error is raised according to Rule 3. \n",
    "\n",
    "You should be able to perform the unit tests like this: \n",
    "\n",
    "```\n",
    "tester = TestBroadcastingRules()\n",
    "tester.test_rule_1()\n",
    "tester.test_rule_2()\n",
    "tester.test_rule_3()\n",
    "```\n",
    "\n",
    "Your tests have passed if no output is printed when you run this code. \n",
    "\n",
    "### Your Solution"
   ]
  },
  {
   "cell_type": "code",
   "execution_count": null,
   "metadata": {},
   "outputs": [],
   "source": [
    "# write your tester class here\n"
   ]
  },
  {
   "cell_type": "code",
   "execution_count": null,
   "metadata": {},
   "outputs": [],
   "source": [
    "# run your tests\n",
    "# your tests have passed if no output or errors are shown. \n",
    "\n",
    "tester = TestBroadcastingRules()\n",
    "tester.test_rule_1()\n",
    "tester.test_rule_2()\n",
    "tester.test_rule_3()"
   ]
  }
 ],
 "metadata": {
  "kernelspec": {
   "display_name": "Python 3",
   "language": "python",
   "name": "python3"
  },
  "language_info": {
   "codemirror_mode": {
    "name": "ipython",
    "version": 3
   },
   "file_extension": ".py",
   "mimetype": "text/x-python",
   "name": "python",
   "nbconvert_exporter": "python",
   "pygments_lexer": "ipython3",
   "version": "3.8.3"
  }
 },
 "nbformat": 4,
 "nbformat_minor": 4
}
