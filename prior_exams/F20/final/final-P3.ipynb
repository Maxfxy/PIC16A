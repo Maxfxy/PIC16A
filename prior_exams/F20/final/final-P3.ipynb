{
 "cells": [
  {
   "cell_type": "markdown",
   "metadata": {},
   "source": [
    "# Academic Integrity Statement\n",
    "\n",
    "As a matter of Departmental policy, **we are required to give you a 0** unless you **type your name** after the following statement: \n",
    "\n",
    "> *I certify on my honor that I have neither given nor received any help, or used any non-permitted resources, while completing this evaluation.*\n",
    "\n",
    "\\[TYPE YOUR NAME HERE\\]\n",
    "\n",
    "\n",
    "# Problem 3 (20 points)\n",
    "\n",
    "[Berkeley Earth](http://berkeleyearth.org/archive/about/) is an independent nonprofit organization focused on using data science to understand contemporary environmental challenges. They have tabulated a monumental data set with detailed readings of the earth's surface temperature, with readings ranging back to the 1700s in many cases. \n",
    "\n",
    "I have hosted a copy of one of their data sets at the following url: \n",
    "\n",
    "```\n",
    "https://raw.githubusercontent.com/PhilChodrow/PIC16A/master/datasets/global_land_temperatures.csv\n",
    "```\n",
    "\n",
    "The columns of the data include the month in which the temperature was read, the average temperature in that month, the uncertainty in that reading and the country in which the reading was recorded. \n",
    "\n",
    "Create an interesting, professional plot using this data set, and write a paragraph describing your findings. \n",
    "\n",
    "## Requirements\n",
    "\n",
    "- Your plot should make use of either **multiple axes** or **multiple colors** to distinguish between different parts of the data. You can of course use both, but this is not required to receive full credit. \n",
    "- Your plot should include appropriate **labels** and **annotations**. \n",
    "- It is permissible to use **for-loops** to loop over multiple axes or multiple groups within the data (such as countries), but not over individual entries of a data frame. \n",
    "- Your explanation should include **a comment on NA values**, where/when they are most common, and how this could impact the interpretation of your plot.\n",
    "- You are free to **supplement your main figure** with tables and additional figures. In this case, clearly label which figure is the main one. \n",
    "\n",
    "## Hints\n",
    "\n",
    "- You will likely need to use` pandas` techniques to clean and simplify the data. `groupby` and `aggregate` are may be useful. \n",
    "- You may need to figure out how to convert the `dt` column into a date that `pandas` can recognize. \n",
    "- You may wish to extract information like the year from the `dt` column.\n",
    "- I found the method `df.reset_index()` useful when working with the results of grouped aggregations. \n",
    "- If you're not sure what to try, here's one possible suggestion. You are free (and encouraged!) to do something different, but a high-quality execution of the below suggestion is enough for full credit.  \n",
    "    - *Plot a trendline for each individual country in \"the background\" (e.g. light gray with transparency), and put the trendline for the overall average across countries in \"the foreground\" (e.g. black or red). Plot data before 1900 on one axis and data after 1900 on the second axis. Discuss the reasons for the rising mean in each of the two cases.*\n",
    "- Other good questions you could try exploring: \n",
    "    - In what countries are temperatures rising the most? \n",
    "    - In what countries are we most confident about the temperature measurements in the 1800s? Are there any countries in which we have few or no measurements?  \n",
    "- Not sure how to transform a column in a particular way? Try to formulate your question as carefully as possible, and Google it! \n",
    "- You might find the some of the [cheatsheets](https://philchodrow.github.io/PIC16A/resources/) to be helpful. "
   ]
  }
 ],
 "metadata": {
  "kernelspec": {
   "display_name": "Python 3",
   "language": "python",
   "name": "python3"
  },
  "language_info": {
   "codemirror_mode": {
    "name": "ipython",
    "version": 3
   },
   "file_extension": ".py",
   "mimetype": "text/x-python",
   "name": "python",
   "nbconvert_exporter": "python",
   "pygments_lexer": "ipython3",
   "version": "3.8.5"
  }
 },
 "nbformat": 4,
 "nbformat_minor": 4
}
