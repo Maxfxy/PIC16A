{
 "cells": [
  {
   "cell_type": "markdown",
   "metadata": {},
   "source": [
    "# Academic Integrity Statement\n",
    "\n",
    "As a matter of Departmental policy, **we are required to give you a 0** unless you **type your name** after the following statement: \n",
    "\n",
    "> *I certify on my honor that I have neither given nor received any help, or used any non-permitted resources, while completing this evaluation.*\n",
    "\n",
    "\\[TYPE YOUR NAME HERE\\]\n",
    "\n",
    "# Problem 2 (30 points)\n",
    "\n",
    "## General Note\n",
    "\n",
    "It is possible to solve every part of this problem **without `for`-loops**. While it may be possible to appropriately use `for`-loops in this problem, solutions that use loops to achieve tasks that can be accomplished with `numpy` methods will lose points. \n",
    "\n",
    "You might find the some of the [cheatsheets](https://philchodrow.github.io/PIC16A/resources/) to be helpful. \n"
   ]
  },
  {
   "cell_type": "markdown",
   "metadata": {},
   "source": [
    "## Prologue"
   ]
  },
  {
   "cell_type": "markdown",
   "metadata": {},
   "source": [
    "The following code creates a minimal `baseArray` class that inherits from the basic `numpy` class, `np.ndarray`. \n",
    "\n",
    "The `__new__()` method is related to `__init__()`. It describes what happens when an object is **created**, which occurs *before* that object is **initialized**. Because of the specific way in which `np.ndarray`s are constructed, it is necessary to use `__new__()` rather than `__init__()` in order to inherit from them. Because we did not discuss this in class, I have handled this for you. \n",
    "\n",
    "Run this code now. "
   ]
  },
  {
   "cell_type": "code",
   "execution_count": null,
   "metadata": {},
   "outputs": [],
   "source": [
    "# run this block, do not modify\n",
    "import numpy as np\n",
    "class baseArray(np.ndarray):\n",
    "    def __new__(cls, a):\n",
    "        return np.asarray(a).view(cls)"
   ]
  },
  {
   "cell_type": "markdown",
   "metadata": {},
   "source": [
    "## Part A\n",
    "\n",
    "Write a class called `myArray` which inherits from `baseArray`. Write code required for the following two tests to run without error: \n",
    "\n",
    "```python\n",
    "# first test\n",
    "x = myArray([1, 2, 3])\n",
    "y = myArray([1, 1, 1])\n",
    "x + y \n",
    "```\n",
    "\n",
    "```python\n",
    "# output\n",
    "myArray([2, 3, 4])\n",
    "```\n",
    "\n",
    "```python\n",
    "# second test\n",
    "x[1]\n",
    "```\n",
    "\n",
    "```python\n",
    "# output\n",
    "2\n",
    "```\n",
    "\n",
    "**Hint**: **One** way to do this is using magic methods. "
   ]
  },
  {
   "cell_type": "code",
   "execution_count": null,
   "metadata": {},
   "outputs": [],
   "source": [
    "# your solution here\n"
   ]
  },
  {
   "cell_type": "code",
   "execution_count": null,
   "metadata": {},
   "outputs": [],
   "source": [
    "# first test \n",
    "x = myArray([1, 2, 3])\n",
    "y = myArray([1, 1, 1])\n",
    "x + y "
   ]
  },
  {
   "cell_type": "code",
   "execution_count": null,
   "metadata": {},
   "outputs": [],
   "source": [
    "# second test \n",
    "x[1]"
   ]
  },
  {
   "cell_type": "markdown",
   "metadata": {},
   "source": [
    "## Part B\n",
    "\n",
    "Implement the two tests above as formal unit tests and show that they run without error. It is not necessary to add a docstring to your class itself, but you should include helpful docstrings for each individual test. "
   ]
  },
  {
   "cell_type": "code",
   "execution_count": null,
   "metadata": {},
   "outputs": [],
   "source": [
    "# your unit test class\n"
   ]
  },
  {
   "cell_type": "code",
   "execution_count": null,
   "metadata": {},
   "outputs": [],
   "source": [
    "# demonstrate that your tests pass\n"
   ]
  },
  {
   "cell_type": "markdown",
   "metadata": {},
   "source": [
    "## Part C\n",
    "\n",
    "Implement a basic `Image` class that inherits from `baseArray`. Your `Image` class should accept as an initialization argument a `numpy` array with dimensions `(h, w, 3)`, where `h` and `w` are the height and width of the image in pixels, respectively. The third dimension corresponds to RGB values. All values in this array lie between 0 and 1.\n",
    "You may have seen image arrays like this as returned by the function `matplotlib.image.imread()` previously in the course.  \n",
    "\n",
    "\n",
    "Implement an `__init__()` method for your class that checks these conditions. In detail, you should check: \n",
    "\n",
    "1. That the input is an instance of class `np.ndarray` (including its subclasses). If not, raise an informative `TypeError`. \n",
    "2. That the `shape` of the input is a tuple of 3 elements. If not, raise an informative `ValueError`. \n",
    "3. That the final dimension has length 3. If not, raise an informative `ValueError`. \n",
    "4. That the all entries of the input are between 0 and 1, inclusive. If not, raise an informative `ValueError`. \n",
    "\n",
    "Write simple test cases which demonstrate that your code raises the appropriate exceptions when any of these four conditions are violated. It is not necessary to write formal unit tests -- just attempt to initialize your class using appropriate inputs and show the resulting error messages. \n",
    "\n",
    "At this stage, your class doesn't need any methods other than an initializer. We'll get to the others soon. \n",
    "\n",
    "To emphasize, your class should **not** contain an object of class `baseArray` or `np.ndarray` as an instance variable. Rather, it should **inherit** from `baseArray`. "
   ]
  },
  {
   "cell_type": "code",
   "execution_count": null,
   "metadata": {},
   "outputs": [],
   "source": [
    "# your solution here\n",
    "\n"
   ]
  },
  {
   "cell_type": "code",
   "execution_count": null,
   "metadata": {},
   "outputs": [],
   "source": [
    "# test 1\n"
   ]
  },
  {
   "cell_type": "code",
   "execution_count": null,
   "metadata": {},
   "outputs": [],
   "source": [
    "# test 2\n"
   ]
  },
  {
   "cell_type": "code",
   "execution_count": null,
   "metadata": {},
   "outputs": [],
   "source": [
    "# test 3\n"
   ]
  },
  {
   "cell_type": "code",
   "execution_count": null,
   "metadata": {},
   "outputs": [],
   "source": [
    "# test 4\n"
   ]
  },
  {
   "cell_type": "markdown",
   "metadata": {},
   "source": [
    "# Part D\n",
    "\n",
    "Implement a `show()` method which visualizes the image. For example: \n",
    "\n",
    "```python\n",
    "import matplotlib.image as mpimg \n",
    "url = 'https://raw.githubusercontent.com/PhilChodrow/PIC16A/master/_images/for-loops.png'\n",
    "laforge = mpimg.imread(url)\n",
    "\n",
    "# this line is because the the image is saved in RGBA format\n",
    "# not RGB. This gives it an meaningless 4th value \n",
    "# for each pixel, which we discard.\n",
    "laforge = laforge[:,:,:3]\n",
    "\n",
    "im = Image(laforge)\n",
    "im.show()\n",
    "```\n",
    "\n",
    "should produce \n",
    "\n",
    "<figure class=\"image\" style=\"width:40%\">\n",
    "  <img src=\"https://raw.githubusercontent.com/PhilChodrow/PIC16A/master/_images/for-loops.png\" alt=\"Two images of LeVar Burton as Geordi LaForge in Star Trek: The Next Generation. In one image, he is holding his hand up, palm outward, as though to decline an offered object. In the second, he is pointing and smiling. The first image is captioned 'for-loops on arrays' and the second is captioned 'concise, vectorized code.'\">\n",
    "  <figcaption><i></i></figcaption>\n",
    "</figure>\n",
    "\n",
    "Implement the `show()` method as a clearly labeled addition to your solution from Part C. Then, run the code shown above here in Part D to demonstrate that you achieve the correct result. \n",
    "\n",
    "- **Note**: Your output may look blurry. This is completely fine, but you may adjust the size if desired to fix this. \n",
    "- **Note**: The command `ax.axis(\"off\")` will remove frames and tickmarks from a plotting axis called `ax`. You are not required to do this, but it does look nice. "
   ]
  },
  {
   "cell_type": "code",
   "execution_count": null,
   "metadata": {},
   "outputs": [],
   "source": [
    "# test code\n",
    "\n",
    "import matplotlib.image as mpimg \n",
    "url = 'https://raw.githubusercontent.com/PhilChodrow/PIC16A/master/_images/for-loops.png'\n",
    "laforge = mpimg.imread(url)\n",
    "laforge = laforge[:,:,:3]\n",
    "im = Image(laforge)\n",
    "im.show()"
   ]
  },
  {
   "cell_type": "markdown",
   "metadata": {},
   "source": [
    "## Part E\n",
    "\n",
    "Give your class a method called `frame()`. The `frame()` method should return a new `Image`, in which the original `Image` is wrapped in a \"frame\" of user-specified thickness and color. It should accept two arguments: \n",
    "\n",
    "1. `px`, the thickness of the frame, in pixels\n",
    "2. `color`, the desired color of the frame, as an RGB triple. This should be an `np.ndarray` of shape `(3,)`. \n",
    "\n",
    "The frame should go on the *outside* of the image, so that the entirety of the original image is still visible. \n",
    "\n",
    "No need to copy/paste your class -- just add your method to your class from Part C and then demonstrate it below. Feel free to change the color to your liking. \n",
    "\n",
    "### Example\n",
    "\n",
    "The code\n",
    "\n",
    "```python\n",
    "framed = im.frame(px = 60, color = np.array([0.7, 0.2, 0.8]))\n",
    "framed.show()\n",
    "```\n",
    "\n",
    "should show the image from Part D surrounded by a thick purple frame. "
   ]
  },
  {
   "cell_type": "code",
   "execution_count": null,
   "metadata": {},
   "outputs": [],
   "source": [
    "# test code -- feel free to tweak the color\n",
    "framed = im.frame(px = 60, color = np.array([0.7, 0.2, 0.8]))\n",
    "framed.show()"
   ]
  }
 ],
 "metadata": {
  "kernelspec": {
   "display_name": "Python 3",
   "language": "python",
   "name": "python3"
  },
  "language_info": {
   "codemirror_mode": {
    "name": "ipython",
    "version": 3
   },
   "file_extension": ".py",
   "mimetype": "text/x-python",
   "name": "python",
   "nbconvert_exporter": "python",
   "pygments_lexer": "ipython3",
   "version": "3.8.5"
  }
 },
 "nbformat": 4,
 "nbformat_minor": 4
}
