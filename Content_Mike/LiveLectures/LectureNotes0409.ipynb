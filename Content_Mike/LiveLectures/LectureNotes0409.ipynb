{
 "cells": [
  {
   "cell_type": "markdown",
   "metadata": {},
   "source": [
    "Quick Dictionary Review\n",
    "\n"
   ]
  },
  {
   "cell_type": "code",
   "execution_count": null,
   "metadata": {},
   "outputs": [],
   "source": [
    "#what type of object is D?\n",
    "D={\"California\",\"Sacremento\"}"
   ]
  },
  {
   "cell_type": "code",
   "execution_count": 27,
   "metadata": {},
   "outputs": [
    {
     "data": {
      "text/plain": [
       "{'California': 'Sacremento', 'Massachusetts': 'Boston'}"
      ]
     },
     "execution_count": 27,
     "metadata": {},
     "output_type": "execute_result"
    }
   ],
   "source": [
    "D"
   ]
  },
  {
   "cell_type": "code",
   "execution_count": null,
   "metadata": {},
   "outputs": [],
   "source": []
  },
  {
   "cell_type": "code",
   "execution_count": 4,
   "metadata": {},
   "outputs": [
    {
     "data": {
      "text/plain": [
       "dict"
      ]
     },
     "execution_count": 4,
     "metadata": {},
     "output_type": "execute_result"
    }
   ],
   "source": [
    "#how can we make it a dictionary?\n",
    "D={\"California\":\"Sacremento\"}\n",
    "type(D)"
   ]
  },
  {
   "cell_type": "code",
   "execution_count": 7,
   "metadata": {},
   "outputs": [],
   "source": [
    "#Add Massachusetts\n",
    "D[\"Massachusetts\"]=\"Boston\""
   ]
  },
  {
   "cell_type": "code",
   "execution_count": 9,
   "metadata": {},
   "outputs": [
    {
     "name": "stdout",
     "output_type": "stream",
     "text": [
      "California\n",
      "Massachusetts\n"
     ]
    }
   ],
   "source": [
    "#How can we print California and Massachusetts\n",
    "\n",
    "#answer 1\n",
    "for key in D.keys():\n",
    "    print(key)"
   ]
  },
  {
   "cell_type": "code",
   "execution_count": 10,
   "metadata": {},
   "outputs": [
    {
     "name": "stdout",
     "output_type": "stream",
     "text": [
      "California\n",
      "Massachusetts\n"
     ]
    }
   ],
   "source": [
    "#answer 2\n",
    "for key in D:\n",
    "    print(key)"
   ]
  },
  {
   "cell_type": "code",
   "execution_count": 16,
   "metadata": {},
   "outputs": [
    {
     "data": {
      "text/plain": [
       "[['b1', 'b2', 'b3'], ['c1', 'c2', 'c3']]"
      ]
     },
     "execution_count": 16,
     "metadata": {},
     "output_type": "execute_result"
    }
   ],
   "source": [
    "#Review of list comprehensions\n",
    "L1=[\"a\",\"b\",\"c\"]\n",
    "L2=[\"1\",\"2\",\"3\"]\n",
    "#How can I get the list\n",
    "#[['b1','b2','b3'],['c1','c2','c3']]\n",
    "L=[[x+y for y in L2] for x in L1 if x>\"a\"]\n",
    "L"
   ]
  },
  {
   "cell_type": "code",
   "execution_count": 19,
   "metadata": {},
   "outputs": [
    {
     "data": {
      "text/plain": [
       "{'George': 'Washington', 'John': 'Adams', 'Thomas': 'Jefferson'}"
      ]
     },
     "execution_count": 19,
     "metadata": {},
     "output_type": "execute_result"
    }
   ],
   "source": [
    "#first three presidents in a dictionary\n",
    "first_names=[\"George\",\"John\",\"Thomas\"]\n",
    "last_names=[\"Washington\",\"Adams\",\"Jefferson\"]\n",
    "\n",
    "#three different ways\n",
    "d1={}\n",
    "for i in range(len(first_names)):\n",
    "   d1[first_names[i]]=last_names[i] \n",
    "d1"
   ]
  },
  {
   "cell_type": "code",
   "execution_count": 20,
   "metadata": {},
   "outputs": [
    {
     "data": {
      "text/plain": [
       "{'George': 'Washington', 'John': 'Adams', 'Thomas': 'Jefferson'}"
      ]
     },
     "execution_count": 20,
     "metadata": {},
     "output_type": "execute_result"
    }
   ],
   "source": [
    "#method 2, use zips\n",
    "d2={}\n",
    "for key,val in zip(first_names,last_names):\n",
    "    d2[key]=val\n",
    "d2"
   ]
  },
  {
   "cell_type": "code",
   "execution_count": 23,
   "metadata": {},
   "outputs": [
    {
     "data": {
      "text/plain": [
       "{'George': 'Washington', 'John': 'Adams', 'Thomas': 'Jefferson'}"
      ]
     },
     "execution_count": 23,
     "metadata": {},
     "output_type": "execute_result"
    }
   ],
   "source": [
    "#dictionary comprehensions\n",
    "d3={key:val for key,val in zip(first_names,last_names)}\n",
    "d3"
   ]
  },
  {
   "cell_type": "markdown",
   "metadata": {},
   "source": [
    "# DRY Code\n",
    "\n",
    "#### DRY: Don't Repeat Yourself!\n",
    "\n",
    "DRY code is easier to troubleshoot, maintain, and modify. \n",
    "\n",
    "Control flow and dictionaries are some key tools for writing DRY code. "
   ]
  },
  {
   "cell_type": "code",
   "execution_count": 24,
   "metadata": {},
   "outputs": [
    {
     "name": "stdout",
     "output_type": "stream",
     "text": [
      "tired, wired, or inspired?tired\n",
      "tired: hardcoding different branching conditions.\n"
     ]
    }
   ],
   "source": [
    "#Not dry\n",
    "word = input(\"tired, wired, or inspired?\")\n",
    "if word == \"tired\":\n",
    "    print(\"tired: hardcoding different branching conditions.\")\n",
    "elif word == \"wired\":\n",
    "    print(\"wired: using a dictionary for branching logic.\")\n",
    "elif word == \"inspired\": \n",
    "    print(\"inspired: using a dictionary for everything else, too.\")"
   ]
  },
  {
   "cell_type": "code",
   "execution_count": 26,
   "metadata": {},
   "outputs": [
    {
     "name": "stdout",
     "output_type": "stream",
     "text": [
      "tired, wired, or inspired?wired\n",
      "wired: using a dictionary for branching logic.\n"
     ]
    }
   ],
   "source": [
    "#Dry\n",
    "d = {\"tired\"    : \"hardcoding different branching conditions.\",\n",
    "     \"wired\"    : \"using a dictionary for branching logic.\",\n",
    "     \"inspired\" : \"using a dictionary for everything else, too.\"}\n",
    "word = input(\"tired, wired, or inspired?\")\n",
    "print(word + \": \" + d[word])"
   ]
  },
  {
   "cell_type": "code",
   "execution_count": null,
   "metadata": {},
   "outputs": [],
   "source": []
  }
 ],
 "metadata": {
  "kernelspec": {
   "display_name": "Python 3",
   "language": "python",
   "name": "python3"
  },
  "language_info": {
   "codemirror_mode": {
    "name": "ipython",
    "version": 3
   },
   "file_extension": ".py",
   "mimetype": "text/x-python",
   "name": "python",
   "nbconvert_exporter": "python",
   "pygments_lexer": "ipython3",
   "version": "3.8.5"
  }
 },
 "nbformat": 4,
 "nbformat_minor": 4
}
