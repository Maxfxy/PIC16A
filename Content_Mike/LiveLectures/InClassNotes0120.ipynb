{
 "cells": [
  {
   "cell_type": "markdown",
   "metadata": {},
   "source": [
    "# Live Lecture 01 20 2021"
   ]
  },
  {
   "cell_type": "markdown",
   "metadata": {},
   "source": [
    "# Quiz 5\n",
    "\n",
    "## Question 1 \n",
    "\n",
    "There are several problems with the following code excerpt. Describe as many of them as you can find. Assume that no other code has been run. \n",
    "\n",
    "def add(x=1,y=1)\n",
    "\n",
    "      z = x + y\n",
    "\n",
    "s = add()\n",
    "    "
   ]
  },
  {
   "cell_type": "markdown",
   "metadata": {},
   "source": [
    "A) the function add must have two arguments when it's called - Not correct because of default values\n",
    "\n",
    "B) add has no return value - Correct\n",
    "\n",
    "c) Missing colon -also corrct\n",
    "\n",
    "d) d needs to be initialized - not correct\n",
    "\n",
    "e) cant make a new variable inside a functionn - not correct"
   ]
  },
  {
   "cell_type": "markdown",
   "metadata": {},
   "source": [
    "Quiz 6 Problem 1 \n",
    "\n",
    "\n",
    "Choose an appropriate (short) docstring for the following function. \n",
    "\n",
    "def f(**kwargs):\n",
    "\n",
    "     for x, y in kwargs.items():\n",
    "\n",
    "         print(x)\n",
    "\n",
    "__Answer:__ Print each of the argument names supplied to f. "
   ]
  },
  {
   "cell_type": "markdown",
   "metadata": {},
   "source": [
    "Rearrange the lines of code to produce a function definition that matches the following docstring:\n",
    "\n",
    "Add together the elements of a list or dict. If a list is supplied, return the sum of list elements. If a dict is supplied, return the sum of dict items. If the list or dict is empty, raise a ValueError; if a data type other than a list or dict is supplied, raise a TypeError.\n",
    "\n",
    "For full credit, the first line of your function should check whether the data type is a list or a dict.\n",
    "\n",
    "Note: in this problem you may ignore indentation ."
   ]
  },
  {
   "cell_type": "code",
   "execution_count": 5,
   "metadata": {},
   "outputs": [],
   "source": [
    "def f(to_sum):\n",
    "    \n",
    "    if type(to_sum) not in [dict,list]:\n",
    "        \n",
    "        raise TypeError(\"This function only works with dicts and lists\")\n",
    "    \n",
    "    elif len(to_sum)==0:\n",
    "        \n",
    "        raise ValueError(\"Input is empty\")\n",
    "        \n",
    "    if type(to_sum)==list:\n",
    "        \n",
    "        return(sum(to_sum))\n",
    "    \n",
    "    elif type(to_sum)==dict:\n",
    "        \n",
    "        return(sum(to_sum.values()))"
   ]
  },
  {
   "cell_type": "code",
   "execution_count": 6,
   "metadata": {},
   "outputs": [
    {
     "data": {
      "text/plain": [
       "6"
      ]
     },
     "execution_count": 6,
     "metadata": {},
     "output_type": "execute_result"
    }
   ],
   "source": [
    "f([1,2,3])"
   ]
  },
  {
   "cell_type": "markdown",
   "metadata": {},
   "source": [
    "# What are the directions for problem 3"
   ]
  },
  {
   "cell_type": "markdown",
   "metadata": {},
   "source": [
    "big_string= \"This is a sentence. And this is another sentence. This is a bit silly isn't it?\"\n",
    "\n",
    "n=2\n",
    "seed = \"is\"\n",
    "word_so_far = seed\n",
    "\n",
    "\"what is the next letter????\"\n",
    "look for 3 letter sequences of the form 'isX'\n",
    "\n",
    "options are 'is ' occurs 6 times \n",
    "or          'isn' occurs 1 times\n",
    "\n",
    "randomly choose 'is ' with probability 6/7 and choose 'isn ' with probability 1/7 (weights 6 and 1)\n",
    "\n",
    "and then, lets say that it happens to choose 'is '\n",
    "word_so_far = 'is '\n",
    "current_two_gram = 's '\n",
    "new options are 's a' and 's i' each occur three times so the weighting 3,3 \n",
    "lets say we pick s a\n",
    "word_so_far= 'is a'\n",
    "current_two_gram=' a'\n",
    "\n",
    "\n",
    "\n",
    "\n"
   ]
  },
  {
   "cell_type": "markdown",
   "metadata": {},
   "source": [
    "big_string= \"This is a sentence. And this is another sentence. This is a bit silly isn't it?\"\n",
    " \n",
    "n=3\n",
    "seed= 'is '\n",
    "current_three_gram =seed\n",
    "\n",
    "'is a' 3 times , 'is i' 3 times "
   ]
  },
  {
   "cell_type": "markdown",
   "metadata": {},
   "source": [
    "Let's right a custom sqrt function "
   ]
  },
  {
   "cell_type": "code",
   "execution_count": 32,
   "metadata": {},
   "outputs": [],
   "source": [
    "def my_sqrt(x, epsilon=10**-10):\n",
    "    '''\n",
    "    computes the square root of a positive number\n",
    "    returns a value y such that y**2-x is less than epsilon in absolute value\n",
    "    '''\n",
    "    if type(x) not in [int,float]:\n",
    "        raise TypeError(\"This function only works with numerical input\")\n",
    "    \n",
    "    elif x<0:\n",
    "        raise ValueError(\"Can't take the square root of a negative number\")\n",
    "    \n",
    "    \n",
    "    \n",
    "    #initilize parameters\n",
    "    lower_bound=0\n",
    "    upper_bound=max(x,1)\n",
    "    guess= (lower_bound+upper_bound)/2\n",
    "    \n",
    "    \n",
    "    #keep going until guess squared equals x (approximately)\n",
    "    while (abs(guess*guess-x)>epsilon):\n",
    "        #if guess is too big\n",
    "        if guess*guess>x:\n",
    "            upper_bound=guess\n",
    "        \n",
    "        #if guess is too small\n",
    "        else:\n",
    "            lower_bound=guess\n",
    "            \n",
    "        #update guess     \n",
    "        guess=(upper_bound+lower_bound)/2\n",
    "    \n",
    "    return guess\n",
    "    \n",
    "    \n",
    "    "
   ]
  },
  {
   "cell_type": "code",
   "execution_count": 42,
   "metadata": {},
   "outputs": [],
   "source": [
    "x=my_sqrt(100)"
   ]
  },
  {
   "cell_type": "code",
   "execution_count": 46,
   "metadata": {},
   "outputs": [
    {
     "data": {
      "text/plain": [
       "0.7071067811921239"
      ]
     },
     "execution_count": 46,
     "metadata": {},
     "output_type": "execute_result"
    }
   ],
   "source": [
    "my_sqrt(1/2)"
   ]
  },
  {
   "cell_type": "code",
   "execution_count": null,
   "metadata": {},
   "outputs": [],
   "source": [
    "# I want to compute the product of a bunch of numbers"
   ]
  },
  {
   "cell_type": "code",
   "execution_count": 51,
   "metadata": {},
   "outputs": [],
   "source": [
    "def my_custom_product(*args):\n",
    "    \"\"\"\n",
    "    multiplies together the nonzero arguments\n",
    "    \"\"\"\n",
    "    product=1\n",
    "    \n",
    "    for a in args:\n",
    "        if a !=0:\n",
    "            product *=a\n",
    "        \n",
    "    return product"
   ]
  },
  {
   "cell_type": "code",
   "execution_count": null,
   "metadata": {},
   "outputs": [],
   "source": []
  },
  {
   "cell_type": "code",
   "execution_count": null,
   "metadata": {},
   "outputs": [],
   "source": []
  }
 ],
 "metadata": {
  "kernelspec": {
   "display_name": "Python 3",
   "language": "python",
   "name": "python3"
  },
  "language_info": {
   "codemirror_mode": {
    "name": "ipython",
    "version": 3
   },
   "file_extension": ".py",
   "mimetype": "text/x-python",
   "name": "python",
   "nbconvert_exporter": "python",
   "pygments_lexer": "ipython3",
   "version": "3.8.5"
  }
 },
 "nbformat": 4,
 "nbformat_minor": 4
}
