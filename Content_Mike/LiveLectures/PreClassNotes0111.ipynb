{
 "cells": [
  {
   "cell_type": "markdown",
   "metadata": {},
   "source": [
    "# Have open\n",
    "\n",
    "-  Quiz 1,2,3 Solutions  (not on github)\n",
    "-  Content for Basics\n",
    "\n",
    "__Quiz 2__ Mutability question.\n",
    "\n",
    "L = [\"George\", \"John\", \"Paul\", \"Ringo\"]\n",
    "  \n",
    "  L[0] = \"Blue Meanies\"\n",
    "\n",
    "__Answer:__ L now has value [\"Blue Meanies\", \"John\", \"Paul\", \"Ringo\"].\n",
    "\n",
    "__Follow up Question:__ What is a different question we could have asked with a different answer?\n"
   ]
  },
  {
   "cell_type": "markdown",
   "metadata": {},
   "source": [
    "__Quiz 3__ Booleans: Which evaluate to False\n",
    "\n",
    "-  True or False\n",
    "-  __True and False__\n",
    "-  __(\"o\" in \"boldly\") and (1 in [\"1\",\"2\"])__\n",
    "-  (1>\"0\") or (1<\"0\")"
   ]
  },
  {
   "cell_type": "code",
   "execution_count": 3,
   "metadata": {},
   "outputs": [
    {
     "data": {
      "text/plain": [
       "True"
      ]
     },
     "execution_count": 3,
     "metadata": {},
     "output_type": "execute_result"
    }
   ],
   "source": [
    "#this is true\n",
    "\"o\" in \"boldly\""
   ]
  },
  {
   "cell_type": "code",
   "execution_count": 6,
   "metadata": {},
   "outputs": [],
   "source": [
    "#This gives you an error\n",
    "#1>\"0\""
   ]
  },
  {
   "cell_type": "markdown",
   "metadata": {},
   "source": [
    "__Quiz 3:__ For loop question - maybe go over global scope"
   ]
  },
  {
   "cell_type": "code",
   "execution_count": null,
   "metadata": {},
   "outputs": [],
   "source": []
  },
  {
   "cell_type": "markdown",
   "metadata": {},
   "source": [
    "# Things to Review?"
   ]
  },
  {
   "cell_type": "markdown",
   "metadata": {},
   "source": [
    "-  Keys have to be immutable for dictionaries. One value per key. How could we fix the cities example?\n",
    "-  Copy Command See Below\n",
    "-  Upper and lower - Rewrite a sentence so that a word is in all uppercase if a word if it starts with a vowel, all lowercase if if it does not start with a vowel"
   ]
  },
  {
   "cell_type": "code",
   "execution_count": 22,
   "metadata": {},
   "outputs": [
    {
     "data": {
      "text/plain": [
       "([1, 2, 3, 4], [1, 2, 3])"
      ]
     },
     "execution_count": 22,
     "metadata": {},
     "output_type": "execute_result"
    }
   ],
   "source": [
    "#Copy\n",
    "x=[1,2,3]\n",
    "y=x.copy()\n",
    "x.append(4)\n",
    "x, y"
   ]
  },
  {
   "cell_type": "code",
   "execution_count": 33,
   "metadata": {},
   "outputs": [
    {
     "name": "stdout",
     "output_type": "stream",
     "text": [
      "Hello\n"
     ]
    },
    {
     "data": {
      "text/plain": [
       "'the quick brown fox jumped OVER the lazy dog. '"
      ]
     },
     "execution_count": 33,
     "metadata": {},
     "output_type": "execute_result"
    }
   ],
   "source": [
    "s=\"The quick brown fox jumped over the lazy dog.\"\n",
    "\n",
    "vowels=['a','e','i','o','u']\n",
    "\n",
    "#Split sentence into words - change each word to all caps or all lowercase\n",
    "words = s.split()\n",
    "for i in range(len(words)):\n",
    "    if words[i][0] in vowels:\n",
    "        words[i] = words[i].upper()\n",
    "        print(\"Hello\")\n",
    "    else:\n",
    "        words[i]= words[i].lower()\n",
    "        \n",
    "\n",
    "#form a new string\n",
    "new_sentence=\"\"\n",
    "for i in range(len(words)):\n",
    "    new_sentence+=(words[i]+\" \")\n",
    "    \n",
    "new_sentence"
   ]
  },
  {
   "cell_type": "code",
   "execution_count": 52,
   "metadata": {},
   "outputs": [],
   "source": [
    "s=\"The quick brown fox jumped     over the lazy dog.   \"\n",
    "#custom split command\n",
    "spaces=[i for i in range(len(s)) if s[i]==\" \"]\n",
    "spaces\n",
    "words=[s[0:spaces[0]]]\n",
    "for i in range(len(spaces)):\n",
    "    start = spaces[i]+1\n",
    "    if i <len(spaces)-1:\n",
    "        stop = spaces[i+1]\n",
    "        next_word=s[start:stop]\n",
    "    else:\n",
    "        next_word=s[start:]\n",
    "    words.append(next_word)"
   ]
  },
  {
   "cell_type": "code",
   "execution_count": 53,
   "metadata": {},
   "outputs": [],
   "source": [
    "#What happens if there are multiple spaces\n",
    "\n",
    "#Get some empty strings "
   ]
  },
  {
   "cell_type": "code",
   "execution_count": 54,
   "metadata": {},
   "outputs": [
    {
     "data": {
      "text/plain": [
       "['The', 'quick', 'brown', 'fox', 'jumped', 'over', 'the', 'lazy', 'dog.']"
      ]
     },
     "execution_count": 54,
     "metadata": {},
     "output_type": "execute_result"
    }
   ],
   "source": [
    "words=[word for word in words if len(word)>0]\n",
    "words"
   ]
  },
  {
   "cell_type": "code",
   "execution_count": null,
   "metadata": {},
   "outputs": [],
   "source": []
  }
 ],
 "metadata": {
  "kernelspec": {
   "display_name": "Python 3",
   "language": "python",
   "name": "python3"
  },
  "language_info": {
   "codemirror_mode": {
    "name": "ipython",
    "version": 3
   },
   "file_extension": ".py",
   "mimetype": "text/x-python",
   "name": "python",
   "nbconvert_exporter": "python",
   "pygments_lexer": "ipython3",
   "version": "3.8.5"
  }
 },
 "nbformat": 4,
 "nbformat_minor": 4
}
