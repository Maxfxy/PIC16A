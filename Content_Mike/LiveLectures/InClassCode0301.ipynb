{
 "cells": [
  {
   "cell_type": "markdown",
   "metadata": {},
   "source": [
    "# Automated Feature Selection\n",
    "\n",
    "In this live lecture activity, we are going to consider the problem of how to write algorithms that automatically make reasonable choices about which features to include in machine learning models. There are many approaches to this problem, and we will look at just one. "
   ]
  },
  {
   "cell_type": "markdown",
   "metadata": {},
   "source": [
    "## Grab and Prepare the Titanic Data"
   ]
  },
  {
   "cell_type": "code",
   "execution_count": 1,
   "metadata": {},
   "outputs": [],
   "source": [
    "import pandas as pd\n",
    "from matplotlib import pyplot as plt\n",
    "import numpy as np"
   ]
  },
  {
   "cell_type": "code",
   "execution_count": 2,
   "metadata": {},
   "outputs": [],
   "source": [
    "import urllib\n",
    "def retrieve_data(url):\n",
    "    \"\"\"\n",
    "    Retrieve a file from the specified url and save it in a local file \n",
    "    called data.csv. The intended values of url are:     \n",
    "    \"\"\"\n",
    "    \n",
    "    # grab the data and parse it\n",
    "    filedata = urllib.request.urlopen(url) \n",
    "    to_write = filedata.read()\n",
    "    \n",
    "    # write to file\n",
    "    with open(\"data.csv\", \"wb\") as f:\n",
    "        f.write(to_write)\n",
    "\n",
    "retrieve_data(\"https://philchodrow.github.io/PIC16A/datasets/titanic.csv\")\n",
    "titanic = pd.read_csv(\"data.csv\")\n",
    "\n",
    "from sklearn import preprocessing\n",
    "le = preprocessing.LabelEncoder()\n",
    "titanic[\"Sex\"] = le.fit_transform(titanic['Sex'])\n",
    "titanic = titanic.drop([\"Name\"], axis = 1)\n",
    "\n",
    "X = titanic.drop(['Survived'], axis = 1)\n",
    "y = titanic['Survived']"
   ]
  },
  {
   "cell_type": "code",
   "execution_count": 3,
   "metadata": {},
   "outputs": [
    {
     "data": {
      "text/plain": [
       "0      0\n",
       "1      1\n",
       "2      1\n",
       "3      1\n",
       "4      0\n",
       "      ..\n",
       "882    0\n",
       "883    1\n",
       "884    0\n",
       "885    1\n",
       "886    0\n",
       "Name: Survived, Length: 887, dtype: int64"
      ]
     },
     "execution_count": 3,
     "metadata": {},
     "output_type": "execute_result"
    }
   ],
   "source": [
    "y"
   ]
  },
  {
   "cell_type": "markdown",
   "metadata": {},
   "source": [
    "## Greedy Stagewise Feature Selection\n",
    "\n",
    "Here's what we are going to do. We will start with one randomly-chosen \"active\" column. Then, we will do the following a user-specified number of times: \n",
    "\n",
    "1. Compute the CV score of a model using only the active columns, and save it. \n",
    "2. Propose either \"activating\" or \"deactivating\" a column (i.e. adding or removing it from the list of active columns). Compute the CV score. If the CV score has improved, accept the proposal (i.e. add that column to the active set, or remove it)."
   ]
  },
  {
   "cell_type": "markdown",
   "metadata": {},
   "source": [
    "# Part A: Setup"
   ]
  },
  {
   "cell_type": "code",
   "execution_count": 4,
   "metadata": {},
   "outputs": [
    {
     "data": {
      "text/plain": [
       "Index(['Pclass', 'Sex', 'Age', 'Siblings/Spouses Aboard',\n",
       "       'Parents/Children Aboard', 'Fare'],\n",
       "      dtype='object')"
      ]
     },
     "execution_count": 4,
     "metadata": {},
     "output_type": "execute_result"
    }
   ],
   "source": [
    "#Lets look at the columns of X\n",
    "X.columns"
   ]
  },
  {
   "cell_type": "code",
   "execution_count": 6,
   "metadata": {},
   "outputs": [],
   "source": [
    "#import Logistic Regression and Cross-val score\n",
    "from sklearn.linear_model import LogisticRegression\n",
    "from sklearn.model_selection import cross_val_score\n",
    "#instantiate a LR model\n",
    "\n",
    "LR=LogisticRegression(solver='liblinear')\n",
    "#liblinear helps if the number of columns is very small"
   ]
  },
  {
   "cell_type": "code",
   "execution_count": 8,
   "metadata": {},
   "outputs": [],
   "source": [
    "def initialize_lists(X):\n",
    "    \"\"\"\n",
    "    Create a list of \"active\" and \"inactive\" columns\n",
    "    from X.columns\n",
    "    \"\"\"\n",
    "    \n",
    "    #single active column\n",
    "    active=[np.random.choice(X.columns)]\n",
    "    \n",
    "    #all of the other columns are inactive\n",
    "    inactive=list(X.columns)\n",
    "    inactive.remove(active[0])\n",
    "    \n",
    "    return active, inactive\n",
    "    \n",
    "   \n",
    "    "
   ]
  },
  {
   "cell_type": "code",
   "execution_count": 16,
   "metadata": {},
   "outputs": [],
   "source": [
    "def move(col,active,inactive,mode=\"activate\"):\n",
    "    \"\"\"\n",
    "    Activate  or deactivate a single column by moving it from active to inactive \n",
    "    or from inactive to active depending on the the parameter mode\n",
    "    \n",
    "    Does NOT modify active or inactive -- instead it makes copies\n",
    "    \"\"\"\n",
    "    \n",
    "    #create copies copies\n",
    "    new_active=active.copy()\n",
    "    new_inactive=inactive.copy()\n",
    "    \n",
    "    #add entry if mode == activate\n",
    "    if mode ==\"activate\":\n",
    "        new_inactive.remove(col)\n",
    "        new_active.append(col)\n",
    "        \n",
    "    #remove entry if mode == deactivate\n",
    "    if mode ==\"deactivate\":\n",
    "        new_active.remove(col)\n",
    "        new_inactive.append(col)\n",
    "    \n",
    "    return new_active,new_inactive"
   ]
  },
  {
   "cell_type": "markdown",
   "metadata": {},
   "source": [
    "### Illustrations"
   ]
  },
  {
   "cell_type": "code",
   "execution_count": 17,
   "metadata": {},
   "outputs": [
    {
     "data": {
      "text/plain": [
       "(['Fare'],\n",
       " ['Pclass',\n",
       "  'Sex',\n",
       "  'Age',\n",
       "  'Siblings/Spouses Aboard',\n",
       "  'Parents/Children Aboard'])"
      ]
     },
     "execution_count": 17,
     "metadata": {},
     "output_type": "execute_result"
    }
   ],
   "source": [
    "#If we run multiple times we get different results\n",
    "active,inactive = initialize_lists(X)\n",
    "active,inactive"
   ]
  },
  {
   "cell_type": "code",
   "execution_count": 18,
   "metadata": {},
   "outputs": [
    {
     "data": {
      "text/plain": [
       "(['Fare', 'Pclass'],\n",
       " ['Sex', 'Age', 'Siblings/Spouses Aboard', 'Parents/Children Aboard'])"
      ]
     },
     "execution_count": 18,
     "metadata": {},
     "output_type": "execute_result"
    }
   ],
   "source": [
    "#activate a column\n",
    "new_active,new_inactive=move(inactive[0],active,inactive,mode=\"activate\")\n",
    "new_active,new_inactive"
   ]
  },
  {
   "cell_type": "code",
   "execution_count": 19,
   "metadata": {},
   "outputs": [
    {
     "data": {
      "text/plain": [
       "(['Pclass'],\n",
       " ['Sex', 'Age', 'Siblings/Spouses Aboard', 'Parents/Children Aboard', 'Fare'])"
      ]
     },
     "execution_count": 19,
     "metadata": {},
     "output_type": "execute_result"
    }
   ],
   "source": [
    "#remove a column\n",
    "new_active,new_inactive=move(new_active[0],new_active,new_inactive,mode=\"deactivate\")\n",
    "new_active,new_inactive"
   ]
  },
  {
   "cell_type": "markdown",
   "metadata": {},
   "source": [
    "# Part B: Feature Selection"
   ]
  },
  {
   "cell_type": "code",
   "execution_count": 30,
   "metadata": {},
   "outputs": [],
   "source": [
    "def greedy_selection(model,X,y,n_iters=10):\n",
    "    \"\"\"\n",
    "    Greedy Feature Selection Algorithm\n",
    "    iteratively adds or subtracts columns to set of predictor values\n",
    "    onlys keeps changes if they improve perfromance as based on cross validation\n",
    "    \n",
    "    parameter model - the ML model we we are using\n",
    "    parameter X - predictor variables\n",
    "    parameter y - targer variable\n",
    "    parameter n_iters - numbers of iterations, defaults to 10\n",
    "    \n",
    "    \"\"\"\n",
    "    #initialize lists and best_CV\n",
    "    active,inactive=initialize_lists(X)\n",
    "    best_CV =0\n",
    "    \n",
    "    #iterativelly add/subtract cols\n",
    "    for i in range(n_iters):\n",
    "        \n",
    "        #alternate between activvate and deactive\n",
    "        for mode in [\"activate\", \"deactivate\"]:\n",
    "            \n",
    "            #copy data\n",
    "            new_active=active.copy()\n",
    "            new_inactive=inactive.copy()\n",
    "            \n",
    "            \n",
    "            #only activate / deactive if appropriate number of cols\n",
    "            #avoid emptys lists in active cols\n",
    "            if mode==\"activate\" and len(inactive)>=1:\n",
    "                col =np.random.choice(inactive)  \n",
    "            elif mode==\"deactivate\" and len(active)>=2:\n",
    "                col=np.random.choice(active)\n",
    "                \n",
    "            #update data    \n",
    "            new_active,new_inactive=move(col,active,inactive,mode)\n",
    "            \n",
    "            #determine effectivenewss\n",
    "            CV_score=cross_val_score(model,X[new_active],y,cv=7).mean()\n",
    "            \n",
    "            #update settings, if new cols are better\n",
    "            if (CV_score>best_CV) and len(new_active)>=1:\n",
    "                best_CV=CV_score\n",
    "                active=new_active\n",
    "                inactive=new_inactive\n",
    "                \n",
    "            #display number of cols at each iteration    \n",
    "            print(\"Number of cols: \"+str(len(active))+\". CV score: \"+ str(best_CV))\n",
    "            \n",
    "    return active\n",
    "                \n",
    "            "
   ]
  },
  {
   "cell_type": "code",
   "execution_count": 31,
   "metadata": {
    "scrolled": true
   },
   "outputs": [
    {
     "name": "stdout",
     "output_type": "stream",
     "text": [
      "Number of cols: 2. CV score: 0.7880354241434107\n",
      "Number of cols: 2. CV score: 0.7880354241434107\n",
      "Number of cols: 3. CV score: 0.8004178049172425\n",
      "Number of cols: 3. CV score: 0.8004178049172425\n",
      "Number of cols: 3. CV score: 0.8004178049172425\n",
      "Number of cols: 3. CV score: 0.8004178049172425\n",
      "Number of cols: 3. CV score: 0.8004178049172425\n",
      "Number of cols: 3. CV score: 0.8004178049172425\n",
      "Number of cols: 3. CV score: 0.8004178049172425\n",
      "Number of cols: 3. CV score: 0.8004178049172425\n",
      "Number of cols: 3. CV score: 0.8004178049172425\n",
      "Number of cols: 3. CV score: 0.8004178049172425\n",
      "Number of cols: 3. CV score: 0.8004178049172425\n",
      "Number of cols: 3. CV score: 0.8004178049172425\n",
      "Number of cols: 3. CV score: 0.8004178049172425\n",
      "Number of cols: 3. CV score: 0.8004178049172425\n",
      "Number of cols: 3. CV score: 0.8004178049172425\n",
      "Number of cols: 3. CV score: 0.8004178049172425\n",
      "Number of cols: 3. CV score: 0.8004178049172425\n",
      "Number of cols: 3. CV score: 0.8004178049172425\n"
     ]
    }
   ],
   "source": [
    "cols=greedy_selection(LR,X,y,n_iters=10)"
   ]
  },
  {
   "cell_type": "code",
   "execution_count": 29,
   "metadata": {},
   "outputs": [
    {
     "data": {
      "text/plain": [
       "['Age', 'Pclass', 'Sex', 'Siblings/Spouses Aboard']"
      ]
     },
     "execution_count": 29,
     "metadata": {},
     "output_type": "execute_result"
    }
   ],
   "source": [
    "cols"
   ]
  },
  {
   "cell_type": "code",
   "execution_count": null,
   "metadata": {},
   "outputs": [],
   "source": [
    "#Could try different models\n",
    "\n",
    "#Could have a list of models, and then loop over that list and select the best model via cross val\n",
    "\n",
    "#whats better than ONE good model???\n",
    "# three good models\n",
    "#composite model\n",
    "#train a decision tree, train logistic regression, train a support vector\n",
    "#then let the model vote\n",
    "\n",
    "#could trainsform your original training - this is done by more advanced neural networks\n",
    "#\n",
    "#X1_new = f(X0,X1)\n"
   ]
  },
  {
   "cell_type": "code",
   "execution_count": null,
   "metadata": {},
   "outputs": [],
   "source": []
  },
  {
   "cell_type": "code",
   "execution_count": null,
   "metadata": {},
   "outputs": [],
   "source": []
  },
  {
   "cell_type": "code",
   "execution_count": null,
   "metadata": {},
   "outputs": [],
   "source": []
  }
 ],
 "metadata": {
  "kernelspec": {
   "display_name": "Python 3",
   "language": "python",
   "name": "python3"
  },
  "language_info": {
   "codemirror_mode": {
    "name": "ipython",
    "version": 3
   },
   "file_extension": ".py",
   "mimetype": "text/x-python",
   "name": "python",
   "nbconvert_exporter": "python",
   "pygments_lexer": "ipython3",
   "version": "3.8.5"
  }
 },
 "nbformat": 4,
 "nbformat_minor": 4
}
