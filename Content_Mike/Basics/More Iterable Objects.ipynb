{
 "cells": [
  {
   "cell_type": "markdown",
   "metadata": {},
   "source": [
    "__More Iterables__\n",
    "\n",
    "We have already seen that we can loop over ists, ranges, and strings. In the next two videos we will introduce more iterable objects, tuples, sets, and dicts. We will also review list sorting"
   ]
  },
  {
   "cell_type": "markdown",
   "metadata": {},
   "source": [
    "__Tuples__\n",
    "\n",
    "Tuples are similar to lists, but are immutable"
   ]
  },
  {
   "cell_type": "code",
   "execution_count": 2,
   "metadata": {},
   "outputs": [
    {
     "name": "stdout",
     "output_type": "stream",
     "text": [
      "0\n",
      "1\n",
      "2\n",
      "3\n"
     ]
    }
   ],
   "source": [
    "T=(0,1,2,3)\n",
    "for i in T:\n",
    "    print(i)"
   ]
  },
  {
   "cell_type": "code",
   "execution_count": 3,
   "metadata": {},
   "outputs": [
    {
     "name": "stdout",
     "output_type": "stream",
     "text": [
      "[0, 11, 2, 3]\n"
     ]
    }
   ],
   "source": [
    "#this is allowed\n",
    "L=[0,1,2,3]\n",
    "L[1]=11\n",
    "print(L)"
   ]
  },
  {
   "cell_type": "code",
   "execution_count": 5,
   "metadata": {},
   "outputs": [],
   "source": [
    "#this is not allowed\n",
    "#T=(0,1,2,3)\n",
    "#T[1]=11\n",
    "\n",
    "#Otherwise, Tuples are very similar to lists"
   ]
  },
  {
   "cell_type": "markdown",
   "metadata": {},
   "source": [
    "The rigid structure has some advantages. For example, you can zip tuples"
   ]
  },
  {
   "cell_type": "code",
   "execution_count": 13,
   "metadata": {},
   "outputs": [
    {
     "data": {
      "text/plain": [
       "<zip at 0x29aef4280c0>"
      ]
     },
     "execution_count": 13,
     "metadata": {},
     "output_type": "execute_result"
    }
   ],
   "source": [
    "letters=('a','b','c')\n",
    "numbers=(1,2,3)\n",
    "pairs=zip(numbers,letters,roman)\n",
    "pairs"
   ]
  },
  {
   "cell_type": "code",
   "execution_count": 14,
   "metadata": {},
   "outputs": [
    {
     "data": {
      "text/plain": [
       "[(1, 'a', 'i'), (2, 'b', 'ii'), (3, 'c', 'iii')]"
      ]
     },
     "execution_count": 14,
     "metadata": {},
     "output_type": "execute_result"
    }
   ],
   "source": [
    "#in order to access the pair, turn it into a list of tuples\n",
    "list(pairs)"
   ]
  },
  {
   "cell_type": "code",
   "execution_count": 16,
   "metadata": {},
   "outputs": [
    {
     "data": {
      "text/plain": [
       "[(1, 'a', 'I'), (2, 'b', 'II'), (3, 'c', 'III')]"
      ]
     },
     "execution_count": 16,
     "metadata": {},
     "output_type": "execute_result"
    }
   ],
   "source": [
    "#can zip mutiple tuples at once\n",
    "\n",
    "letters=('a','b','c')\n",
    "numbers=(1,2,3)\n",
    "roman_numerals=('I','II','III')\n",
    "triples=zip(numbers,letters,roman_numerals)\n",
    "list(triples)"
   ]
  },
  {
   "cell_type": "markdown",
   "metadata": {},
   "source": [
    "__Sets__"
   ]
  },
  {
   "cell_type": "code",
   "execution_count": 22,
   "metadata": {},
   "outputs": [
    {
     "name": "stdout",
     "output_type": "stream",
     "text": [
      "{2, 3, 4}\n",
      "4\n",
      "9\n",
      "16\n"
     ]
    }
   ],
   "source": [
    "#For sets, use braces rather than brackets\n",
    "my_set = {2,3,4}\n",
    "print(my_set)\n"
   ]
  },
  {
   "cell_type": "code",
   "execution_count": 23,
   "metadata": {},
   "outputs": [
    {
     "name": "stdout",
     "output_type": "stream",
     "text": [
      "4\n",
      "9\n",
      "16\n"
     ]
    }
   ],
   "source": [
    "for s in my_set:\n",
    "    print(s**2)"
   ]
  },
  {
   "cell_type": "code",
   "execution_count": 24,
   "metadata": {},
   "outputs": [
    {
     "name": "stdout",
     "output_type": "stream",
     "text": [
      "{2, 3, 4}\n",
      "{2, 3, 4, 5}\n",
      "{2, 3, 4, 5}\n",
      "{3, 4, 5}\n"
     ]
    }
   ],
   "source": [
    "#items are either in set or they are not\n",
    "print(my_set)\n",
    "my_set.add(5)\n",
    "print(my_set)\n",
    "\n",
    "my_set.add(2)\n",
    "print(my_set)\n",
    "\n",
    "my_set.remove(2)\n",
    "print(my_set)\n"
   ]
  },
  {
   "cell_type": "markdown",
   "metadata": {},
   "source": [
    "__Set operations__"
   ]
  },
  {
   "cell_type": "code",
   "execution_count": 26,
   "metadata": {},
   "outputs": [
    {
     "name": "stdout",
     "output_type": "stream",
     "text": [
      "{3}\n",
      "{1, 2, 3, 4, 5}\n",
      "{1, 2}\n"
     ]
    }
   ],
   "source": [
    "S={1,2,3}\n",
    "T={3,4,5}\n",
    "\n",
    "print(S.intersection(T))\n",
    "print(S.union(T))\n",
    "print(S.difference(T))"
   ]
  },
  {
   "cell_type": "markdown",
   "metadata": {},
   "source": [
    "__Nifty Application__ - Count DISTINCT items in a list"
   ]
  },
  {
   "cell_type": "code",
   "execution_count": 32,
   "metadata": {},
   "outputs": [
    {
     "name": "stdout",
     "output_type": "stream",
     "text": [
      "6\n"
     ]
    }
   ],
   "source": [
    "L=[2,3,4,2,3,4,5,2,3,9,10,4,3]\n",
    "print(len(set(L)))"
   ]
  },
  {
   "cell_type": "code",
   "execution_count": 33,
   "metadata": {},
   "outputs": [],
   "source": [
    "#sets have no order\n",
    "#This won't work\n",
    "#print(my_set[0])\n"
   ]
  }
 ],
 "metadata": {
  "kernelspec": {
   "display_name": "Python 3",
   "language": "python",
   "name": "python3"
  },
  "language_info": {
   "codemirror_mode": {
    "name": "ipython",
    "version": 3
   },
   "file_extension": ".py",
   "mimetype": "text/x-python",
   "name": "python",
   "nbconvert_exporter": "python",
   "pygments_lexer": "ipython3",
   "version": "3.8.5"
  }
 },
 "nbformat": 4,
 "nbformat_minor": 4
}
