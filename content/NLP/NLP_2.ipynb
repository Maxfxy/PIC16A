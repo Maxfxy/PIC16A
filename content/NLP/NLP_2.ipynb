{
 "cells": [
  {
   "cell_type": "markdown",
   "metadata": {},
   "source": [
    "# Topic Modeling\n",
    "\n",
    "In this lecture, we'll work through an example of *topic modeling*. The idea of topic modeling is to find \"topics\" in documents that tie together many words. Here are some examples of hypothetical topics that you might find in a newspaper: \n",
    "\n",
    "1. **Finance**: \"dollar\", \"stock\", \"banks\"\n",
    "2. **Politics**: \"party\", \"vote\", \"election\"\n",
    "3. **Sports**: \"team\", \"win\", \"game\"\n",
    "\n",
    "In this lecture, we'll see how to use the term-document matrix from last time, in combination with some nice algorithms from `scikit-learn`, to perform topic modeling. Our overall aim is to get a coarse, topic-level summary of the plot of the short book *Alice’s Adventures in Wonderland* by Lewis Carroll. "
   ]
  },
  {
   "cell_type": "code",
   "execution_count": 28,
   "metadata": {},
   "outputs": [],
   "source": [
    "import numpy as np\n",
    "import pandas as pd\n",
    "from matplotlib import pyplot as plt\n",
    "\n",
    "import nltk\n",
    "\n",
    "# need to do this once to download the data\n",
    "# nltk.download('gutenberg')\n",
    "\n",
    "from nltk.corpus import gutenberg"
   ]
  },
  {
   "cell_type": "markdown",
   "metadata": {},
   "source": [
    "Let's briefly review the steps that we took to construct our term-document matrix. First, we used the `gutenberg` module to read in the raw text of the book, and split it into chapters. "
   ]
  },
  {
   "cell_type": "code",
   "execution_count": 21,
   "metadata": {},
   "outputs": [],
   "source": [
    "s = gutenberg.raw('carroll-alice.txt')\n",
    "chapters = s.split(\"CHAPTER\")[1:]"
   ]
  },
  {
   "cell_type": "markdown",
   "metadata": {},
   "source": [
    "Then, we created a nice, tidy data frame in which we store the complete text of each chapter. "
   ]
  },
  {
   "cell_type": "code",
   "execution_count": 31,
   "metadata": {},
   "outputs": [
    {
     "data": {
      "text/html": [
       "<div>\n",
       "<style scoped>\n",
       "    .dataframe tbody tr th:only-of-type {\n",
       "        vertical-align: middle;\n",
       "    }\n",
       "\n",
       "    .dataframe tbody tr th {\n",
       "        vertical-align: top;\n",
       "    }\n",
       "\n",
       "    .dataframe thead th {\n",
       "        text-align: right;\n",
       "    }\n",
       "</style>\n",
       "<table border=\"1\" class=\"dataframe\">\n",
       "  <thead>\n",
       "    <tr style=\"text-align: right;\">\n",
       "      <th></th>\n",
       "      <th>chapter</th>\n",
       "      <th>text</th>\n",
       "    </tr>\n",
       "  </thead>\n",
       "  <tbody>\n",
       "    <tr>\n",
       "      <th>0</th>\n",
       "      <td>1</td>\n",
       "      <td>I. Down the Rabbit-Hole\\n\\nAlice was beginnin...</td>\n",
       "    </tr>\n",
       "    <tr>\n",
       "      <th>1</th>\n",
       "      <td>2</td>\n",
       "      <td>II. The Pool of Tears\\n\\n'Curiouser and curio...</td>\n",
       "    </tr>\n",
       "    <tr>\n",
       "      <th>2</th>\n",
       "      <td>3</td>\n",
       "      <td>III. A Caucus-Race and a Long Tale\\n\\nThey we...</td>\n",
       "    </tr>\n",
       "    <tr>\n",
       "      <th>3</th>\n",
       "      <td>4</td>\n",
       "      <td>IV. The Rabbit Sends in a Little Bill\\n\\nIt w...</td>\n",
       "    </tr>\n",
       "    <tr>\n",
       "      <th>4</th>\n",
       "      <td>5</td>\n",
       "      <td>V. Advice from a Caterpillar\\n\\nThe Caterpill...</td>\n",
       "    </tr>\n",
       "    <tr>\n",
       "      <th>5</th>\n",
       "      <td>6</td>\n",
       "      <td>VI. Pig and Pepper\\n\\nFor a minute or two she...</td>\n",
       "    </tr>\n",
       "    <tr>\n",
       "      <th>6</th>\n",
       "      <td>7</td>\n",
       "      <td>VII. A Mad Tea-Party\\n\\nThere was a table set...</td>\n",
       "    </tr>\n",
       "    <tr>\n",
       "      <th>7</th>\n",
       "      <td>8</td>\n",
       "      <td>VIII. The Queen's Croquet-Ground\\n\\nA large r...</td>\n",
       "    </tr>\n",
       "    <tr>\n",
       "      <th>8</th>\n",
       "      <td>9</td>\n",
       "      <td>IX. The Mock Turtle's Story\\n\\n'You can't thi...</td>\n",
       "    </tr>\n",
       "    <tr>\n",
       "      <th>9</th>\n",
       "      <td>10</td>\n",
       "      <td>X. The Lobster Quadrille\\n\\nThe Mock Turtle s...</td>\n",
       "    </tr>\n",
       "    <tr>\n",
       "      <th>10</th>\n",
       "      <td>11</td>\n",
       "      <td>XI. Who Stole the Tarts?\\n\\nThe King and Quee...</td>\n",
       "    </tr>\n",
       "    <tr>\n",
       "      <th>11</th>\n",
       "      <td>12</td>\n",
       "      <td>XII\\n\\n           Alice's Evidence\\n\\n\\n'Here...</td>\n",
       "    </tr>\n",
       "  </tbody>\n",
       "</table>\n",
       "</div>"
      ],
      "text/plain": [
       "    chapter                                               text\n",
       "0         1   I. Down the Rabbit-Hole\\n\\nAlice was beginnin...\n",
       "1         2   II. The Pool of Tears\\n\\n'Curiouser and curio...\n",
       "2         3   III. A Caucus-Race and a Long Tale\\n\\nThey we...\n",
       "3         4   IV. The Rabbit Sends in a Little Bill\\n\\nIt w...\n",
       "4         5   V. Advice from a Caterpillar\\n\\nThe Caterpill...\n",
       "5         6   VI. Pig and Pepper\\n\\nFor a minute or two she...\n",
       "6         7   VII. A Mad Tea-Party\\n\\nThere was a table set...\n",
       "7         8   VIII. The Queen's Croquet-Ground\\n\\nA large r...\n",
       "8         9   IX. The Mock Turtle's Story\\n\\n'You can't thi...\n",
       "9        10   X. The Lobster Quadrille\\n\\nThe Mock Turtle s...\n",
       "10       11   XI. Who Stole the Tarts?\\n\\nThe King and Quee...\n",
       "11       12   XII\\n\\n           Alice's Evidence\\n\\n\\n'Here..."
      ]
     },
     "execution_count": 31,
     "metadata": {},
     "output_type": "execute_result"
    }
   ],
   "source": [
    "df = pd.DataFrame({\n",
    "    \"chapter\" : range(1, len(chapters)+1),\n",
    "    \"text\" : chapters\n",
    "})\n",
    "df"
   ]
  },
  {
   "cell_type": "markdown",
   "metadata": {},
   "source": [
    "Then, and this is the complex part, we used the `CountVectorizer` from `sklearn` to construct the term-document matrix. In this example, I've used a few more of the arguments for `CountVectorizer`. In particular, because I'd like to eventually be able to see how topics evolve between chapters, I use the `max_df` argument to specify that I'd like like to include words that appear in at most 50% of the chapters. "
   ]
  },
  {
   "cell_type": "code",
   "execution_count": 32,
   "metadata": {},
   "outputs": [],
   "source": [
    "from sklearn.feature_extraction.text import CountVectorizer\n",
    "vec = CountVectorizer(max_df=.5, min_df = 0, stop_words='english')"
   ]
  },
  {
   "cell_type": "markdown",
   "metadata": {},
   "source": [
    "Next, we can use this `CountVectorizer` to create the term-document matrix and collect it all as a nice, tidy data frame. "
   ]
  },
  {
   "cell_type": "code",
   "execution_count": 33,
   "metadata": {},
   "outputs": [],
   "source": [
    "counts = vec.fit_transform(df['text'])\n",
    "counts = counts.toarray()\n",
    "count_df = pd.DataFrame(counts, columns=vec.get_feature_names())\n",
    "df = pd.concat((df, count_df), axis = 1)"
   ]
  },
  {
   "cell_type": "code",
   "execution_count": 43,
   "metadata": {},
   "outputs": [
    {
     "data": {
      "text/html": [
       "<div>\n",
       "<style scoped>\n",
       "    .dataframe tbody tr th:only-of-type {\n",
       "        vertical-align: middle;\n",
       "    }\n",
       "\n",
       "    .dataframe tbody tr th {\n",
       "        vertical-align: top;\n",
       "    }\n",
       "\n",
       "    .dataframe thead th {\n",
       "        text-align: right;\n",
       "    }\n",
       "</style>\n",
       "<table border=\"1\" class=\"dataframe\">\n",
       "  <thead>\n",
       "    <tr style=\"text-align: right;\">\n",
       "      <th></th>\n",
       "      <th>chapter</th>\n",
       "      <th>text</th>\n",
       "      <th>_i_</th>\n",
       "      <th>abide</th>\n",
       "      <th>able</th>\n",
       "      <th>absence</th>\n",
       "      <th>absurd</th>\n",
       "      <th>acceptance</th>\n",
       "      <th>accident</th>\n",
       "      <th>accidentally</th>\n",
       "      <th>...</th>\n",
       "      <th>year</th>\n",
       "      <th>years</th>\n",
       "      <th>yelled</th>\n",
       "      <th>yelp</th>\n",
       "      <th>yer</th>\n",
       "      <th>yesterday</th>\n",
       "      <th>young</th>\n",
       "      <th>youth</th>\n",
       "      <th>zealand</th>\n",
       "      <th>zigzag</th>\n",
       "    </tr>\n",
       "  </thead>\n",
       "  <tbody>\n",
       "    <tr>\n",
       "      <th>0</th>\n",
       "      <td>1</td>\n",
       "      <td>I. Down the Rabbit-Hole\\n\\nAlice was beginnin...</td>\n",
       "      <td>0</td>\n",
       "      <td>0</td>\n",
       "      <td>0</td>\n",
       "      <td>0</td>\n",
       "      <td>0</td>\n",
       "      <td>0</td>\n",
       "      <td>0</td>\n",
       "      <td>0</td>\n",
       "      <td>...</td>\n",
       "      <td>0</td>\n",
       "      <td>0</td>\n",
       "      <td>0</td>\n",
       "      <td>0</td>\n",
       "      <td>0</td>\n",
       "      <td>0</td>\n",
       "      <td>0</td>\n",
       "      <td>0</td>\n",
       "      <td>1</td>\n",
       "      <td>0</td>\n",
       "    </tr>\n",
       "    <tr>\n",
       "      <th>1</th>\n",
       "      <td>2</td>\n",
       "      <td>II. The Pool of Tears\\n\\n'Curiouser and curio...</td>\n",
       "      <td>1</td>\n",
       "      <td>0</td>\n",
       "      <td>1</td>\n",
       "      <td>0</td>\n",
       "      <td>0</td>\n",
       "      <td>0</td>\n",
       "      <td>0</td>\n",
       "      <td>0</td>\n",
       "      <td>...</td>\n",
       "      <td>0</td>\n",
       "      <td>0</td>\n",
       "      <td>0</td>\n",
       "      <td>0</td>\n",
       "      <td>0</td>\n",
       "      <td>1</td>\n",
       "      <td>0</td>\n",
       "      <td>0</td>\n",
       "      <td>0</td>\n",
       "      <td>0</td>\n",
       "    </tr>\n",
       "    <tr>\n",
       "      <th>2</th>\n",
       "      <td>3</td>\n",
       "      <td>III. A Caucus-Race and a Long Tale\\n\\nThey we...</td>\n",
       "      <td>0</td>\n",
       "      <td>0</td>\n",
       "      <td>0</td>\n",
       "      <td>0</td>\n",
       "      <td>1</td>\n",
       "      <td>1</td>\n",
       "      <td>0</td>\n",
       "      <td>0</td>\n",
       "      <td>...</td>\n",
       "      <td>0</td>\n",
       "      <td>0</td>\n",
       "      <td>0</td>\n",
       "      <td>0</td>\n",
       "      <td>0</td>\n",
       "      <td>0</td>\n",
       "      <td>1</td>\n",
       "      <td>0</td>\n",
       "      <td>0</td>\n",
       "      <td>0</td>\n",
       "    </tr>\n",
       "  </tbody>\n",
       "</table>\n",
       "<p>3 rows × 2148 columns</p>\n",
       "</div>"
      ],
      "text/plain": [
       "   chapter                                               text  _i_  abide  \\\n",
       "0        1   I. Down the Rabbit-Hole\\n\\nAlice was beginnin...    0      0   \n",
       "1        2   II. The Pool of Tears\\n\\n'Curiouser and curio...    1      0   \n",
       "2        3   III. A Caucus-Race and a Long Tale\\n\\nThey we...    0      0   \n",
       "\n",
       "   able  absence  absurd  acceptance  accident  accidentally  ...  year  \\\n",
       "0     0        0       0           0         0             0  ...     0   \n",
       "1     1        0       0           0         0             0  ...     0   \n",
       "2     0        0       1           1         0             0  ...     0   \n",
       "\n",
       "   years  yelled  yelp  yer  yesterday  young  youth  zealand  zigzag  \n",
       "0      0       0     0    0          0      0      0        1       0  \n",
       "1      0       0     0    0          1      0      0        0       0  \n",
       "2      0       0     0    0          0      1      0        0       0  \n",
       "\n",
       "[3 rows x 2148 columns]"
      ]
     },
     "execution_count": 43,
     "metadata": {},
     "output_type": "execute_result"
    }
   ],
   "source": [
    "df.head(3)"
   ]
  },
  {
   "cell_type": "markdown",
   "metadata": {},
   "source": [
    "## On To Topic Modeling\n",
    "\n",
    "Now we are ready to run our model! Topic modeling is an *unsupervised* machine learning framework, which means that there's no set of true labels `y`. So, we just need to create the variables `X`. To do this, we can ignore the `text` and `chapter` columns. "
   ]
  },
  {
   "cell_type": "code",
   "execution_count": 34,
   "metadata": {},
   "outputs": [],
   "source": [
    "X = df.drop(['text', 'chapter'], axis = 1)"
   ]
  },
  {
   "cell_type": "markdown",
   "metadata": {},
   "source": [
    "There are many algorithms for topic modeling. We will use *nonnegative matrix factorization* or NMF for now. As usual, there are three easy steps: \n",
    "\n",
    "1. Import the model we want. \n",
    "2. Initialize an instance of the model. \n",
    "3. Fit the model on data. \n",
    "\n",
    "NMF requires us to specify `n_components`, which is the number of topics to find. Choosing the right number of topics is a bit of an art, but there are also quantitative approaches based on Bayesian statistics that we won't go into here. "
   ]
  },
  {
   "cell_type": "code",
   "execution_count": 44,
   "metadata": {},
   "outputs": [
    {
     "data": {
      "text/plain": [
       "NMF(init='random', n_components=4, random_state=0)"
      ]
     },
     "execution_count": 44,
     "metadata": {},
     "output_type": "execute_result"
    }
   ],
   "source": [
    "from sklearn.decomposition import NMF\n",
    "model = NMF(n_components=4, init='random', random_state=0)\n",
    "model.fit(X)"
   ]
  },
  {
   "cell_type": "markdown",
   "metadata": {},
   "source": [
    "There are two important parts of NMF. First, we have the topics themselves, which are stored in the `components_` attribute of the model. "
   ]
  },
  {
   "cell_type": "code",
   "execution_count": 47,
   "metadata": {},
   "outputs": [
    {
     "data": {
      "text/plain": [
       "array([[0.        , 0.        , 0.        , ..., 0.03184396, 0.        ,\n",
       "        0.00530733],\n",
       "       [0.1975168 , 0.04338739, 0.        , ..., 0.        , 0.        ,\n",
       "        0.        ],\n",
       "       [0.20127845, 0.21670879, 0.2105765 , ..., 1.11826124, 0.11323678,\n",
       "        0.18637687],\n",
       "       [0.        , 0.00499915, 0.        , ..., 0.        , 0.00330162,\n",
       "        0.        ]])"
      ]
     },
     "execution_count": 47,
     "metadata": {},
     "output_type": "execute_result"
    }
   ],
   "source": [
    "model.components_"
   ]
  },
  {
   "cell_type": "code",
   "execution_count": 49,
   "metadata": {},
   "outputs": [
    {
     "data": {
      "text/plain": [
       "(4, 2146)"
      ]
     },
     "execution_count": 49,
     "metadata": {},
     "output_type": "execute_result"
    }
   ],
   "source": [
    "model.components_.shape"
   ]
  },
  {
   "cell_type": "markdown",
   "metadata": {},
   "source": [
    "Uh, what does that mean? We can think of each component as a collection of **weights** for each word. We can find the most important words in each component by finding the words where the weights are highest within that component. We can do this with a handy function called `np.argsort()`, which tells you which entries of an array are the largest, second largest, etc."
   ]
  },
  {
   "cell_type": "code",
   "execution_count": 73,
   "metadata": {},
   "outputs": [
    {
     "data": {
      "text/plain": [
       "array([[   0, 1272, 1271, ...,  806, 1162, 1966],\n",
       "       [2145,  926, 1784, ...,  244,  980, 1442],\n",
       "       [1634, 1527, 1524, ...,  247,  244, 1174],\n",
       "       [   0, 1277, 1274, ..., 1117,  493,  835]])"
      ]
     },
     "execution_count": 73,
     "metadata": {},
     "output_type": "execute_result"
    }
   ],
   "source": [
    "orders = np.argsort(model.components_, axis = 1)\n",
    "orders"
   ]
  },
  {
   "cell_type": "markdown",
   "metadata": {},
   "source": [
    "We can then use `numpy` \"fancy\" indexing to arrange the words in the needed orders. "
   ]
  },
  {
   "cell_type": "code",
   "execution_count": 81,
   "metadata": {},
   "outputs": [
    {
     "data": {
      "text/plain": [
       "array(['song', 'sing', 'evening', 'repeat', 'moral', 'old', 'lobsters',\n",
       "       'oop', 'lobster', 'soo', 'whiting', 'course', 'join', 'sea',\n",
       "       'beautiful', 'dance', 'soup', 'gryphon', 'mock', 'turtle'],\n",
       "      dtype=object)"
      ]
     },
     "execution_count": 81,
     "metadata": {},
     "output_type": "execute_result"
    }
   ],
   "source": [
    "important_words = np.array(X.columns)[orders]\n",
    "\n",
    "# top 10 words in component 3\n",
    "important_words[0][-20:]"
   ]
  },
  {
   "cell_type": "markdown",
   "metadata": {},
   "source": [
    "It's convenient to write a function to automate this for us: "
   ]
  },
  {
   "cell_type": "code",
   "execution_count": 82,
   "metadata": {},
   "outputs": [],
   "source": [
    "def top_words(X, model, component, num_words):\n",
    "    orders = np.argsort(model.components_, axis = 1)\n",
    "    important_words = np.array(X.columns)[orders]\n",
    "    return important_words[component][-num_words:]"
   ]
  },
  {
   "cell_type": "code",
   "execution_count": 91,
   "metadata": {},
   "outputs": [
    {
     "data": {
      "text/plain": [
       "array(['tea', 'hare', 'march', 'dormouse', 'hatter'], dtype=object)"
      ]
     },
     "execution_count": 91,
     "metadata": {},
     "output_type": "execute_result"
    }
   ],
   "source": [
    "top_words(X, model, 3, 5)"
   ]
  },
  {
   "cell_type": "markdown",
   "metadata": {},
   "source": [
    "The next important aspect of topic modeling is the assignment of topics per document. This is done via weights. We can access this by using the `transform()` method of the model. "
   ]
  },
  {
   "cell_type": "code",
   "execution_count": 97,
   "metadata": {},
   "outputs": [
    {
     "data": {
      "text/plain": [
       "array([[9.77501978e-05, 1.97664522e-02, 5.17821692e-01, 3.07225844e-02],\n",
       "       [0.00000000e+00, 0.00000000e+00, 9.62026820e-01, 0.00000000e+00],\n",
       "       [2.58343542e-04, 0.00000000e+00, 9.42349279e-01, 0.00000000e+00],\n",
       "       [0.00000000e+00, 5.37128674e-03, 8.67735980e-01, 2.36338240e-04],\n",
       "       [1.31577250e-02, 0.00000000e+00, 8.51527332e-01, 0.00000000e+00],\n",
       "       [0.00000000e+00, 2.70835534e-01, 1.00413330e+00, 9.09882306e-02],\n",
       "       [0.00000000e+00, 0.00000000e+00, 2.05082222e-02, 1.85495376e+00],\n",
       "       [0.00000000e+00, 1.64643881e+00, 0.00000000e+00, 0.00000000e+00],\n",
       "       [8.26943575e-01, 3.86067385e-01, 0.00000000e+00, 0.00000000e+00],\n",
       "       [1.16895457e+00, 0.00000000e+00, 0.00000000e+00, 0.00000000e+00],\n",
       "       [0.00000000e+00, 8.61097347e-01, 0.00000000e+00, 9.03937864e-01],\n",
       "       [3.73729071e-02, 9.74766421e-01, 1.75619195e-02, 7.02019118e-02]])"
      ]
     },
     "execution_count": 97,
     "metadata": {},
     "output_type": "execute_result"
    }
   ],
   "source": [
    "weights = model.transform(X)\n",
    "weights"
   ]
  },
  {
   "cell_type": "code",
   "execution_count": 99,
   "metadata": {},
   "outputs": [
    {
     "data": {
      "text/plain": [
       "<matplotlib.image.AxesImage at 0x7f7f7ffe0a60>"
      ]
     },
     "execution_count": 99,
     "metadata": {},
     "output_type": "execute_result"
    },
    {
     "data": {
      "image/png": "[encoded data removed]",
      "text/plain": [
       "<Figure size 432x288 with 1 Axes>"
      ]
     },
     "metadata": {
      "needs_background": "light"
     },
     "output_type": "display_data"
    }
   ],
   "source": [
    "fig, ax = plt.subplots(1)\n",
    "ax.imshow(weights.T)"
   ]
  },
  {
   "cell_type": "markdown",
   "metadata": {},
   "source": [
    "The weights indicate the relative presence of each topic in each chapter. For example, Topic 2 is highly present in the first six chapters, but then mostly absent for the rest of the book. Topic 3 appears in Chapters 7 and 11, and so on. \n",
    "\n",
    "We can also visualize the same information as a line chart. Let's add as labels some of the top words for each topic. "
   ]
  },
  {
   "cell_type": "code",
   "execution_count": 114,
   "metadata": {},
   "outputs": [
    {
     "data": {
      "image/png": "[encoded data removed]",
      "text/plain": [
       "<Figure size 432x288 with 1 Axes>"
      ]
     },
     "metadata": {
      "needs_background": "light"
     },
     "output_type": "display_data"
    }
   ],
   "source": [
    "fig, ax = plt.subplots(1)\n",
    "\n",
    "for i in range(4):\n",
    "    ax.plot(df['chapter'], weights[:,i], label = top_words(X, model, i, 5))\n",
    "    \n",
    "ax.legend(bbox_to_anchor=(1.05, .65), loc='upper left')\n",
    "t = ax.set(title = \"Evolving Topics in Alice's Adventures in in Wonderland\",\n",
    "       xlabel = \"Chapter\", \n",
    "       ylabel = \"Topic Weight\")"
   ]
  },
  {
   "cell_type": "markdown",
   "metadata": {},
   "source": [
    "This plot allows us to easily see several major features of the plot of the novel, including the tea party with the March Hare, the Mad Hatter, and the Dormouse (Chapter 7), the crocquet game in the court of the Queen of Hearts (Chapter 8), the appearance of the  Mock Turtle and the Lobster in (Chapters 9 and 10), and the reappearance of many characters in Chapter 11. "
   ]
  }
 ],
 "metadata": {
  "kernelspec": {
   "display_name": "Python 3",
   "language": "python",
   "name": "python3"
  },
  "language_info": {
   "codemirror_mode": {
    "name": "ipython",
    "version": 3
   },
   "file_extension": ".py",
   "mimetype": "text/x-python",
   "name": "python",
   "nbconvert_exporter": "python",
   "pygments_lexer": "ipython3",
   "version": "3.8.3"
  }
 },
 "nbformat": 4,
 "nbformat_minor": 4
}
