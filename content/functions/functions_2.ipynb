{
 "cells": [
  {
   "cell_type": "markdown",
   "metadata": {},
   "source": [
    "# More on Functions\n",
    "\n",
    "In this set of notes, we'll discuss some further topics in the design of functions. \n",
    "\n",
    "## Getting Functions: Modules\n",
    "\n",
    "Python comes with a large variety of powerful functions, which can be assembled to create flexible programs. Sometimes, you might want a function that isn't available from the \"core\" Python installation. In this case, you can import **modules.** \n",
    "\n",
    "A module is simply one or more text files, often ending with extension `.py`, which define some functions. Your distribution of Anaconda already gives you access to many important modules. \n",
    "\n",
    "The simplest way to import a module is to write `import` followed by the name of the module. "
   ]
  },
  {
   "cell_type": "code",
   "execution_count": 1,
   "metadata": {},
   "outputs": [],
   "source": [
    "import numpy # numerical utilities"
   ]
  },
  {
   "cell_type": "markdown",
   "metadata": {},
   "source": [
    "We can now use all of the functions defined in the `numpy` module by prepending `numpy.` to the function we want. For example: "
   ]
  },
  {
   "cell_type": "code",
   "execution_count": 2,
   "metadata": {},
   "outputs": [
    {
     "data": {
      "text/plain": [
       "array([[0.28968501, 0.38157963, 0.53933666, 0.86037725, 0.26938766],\n",
       "       [0.4589406 , 0.8804877 , 0.98705022, 0.45899723, 0.2062872 ],\n",
       "       [0.86116822, 0.96530766, 0.80227199, 0.08761291, 0.35348963],\n",
       "       [0.48922047, 0.70656401, 0.58946979, 0.81395906, 0.83316483],\n",
       "       [0.22578697, 0.60152439, 0.14795253, 0.64127161, 0.2312698 ]])"
      ]
     },
     "execution_count": 2,
     "metadata": {},
     "output_type": "execute_result"
    }
   ],
   "source": [
    "A = numpy.random.rand(5, 5) # 10x10 matrix of random numbers between 0 and 1\n",
    "A"
   ]
  },
  {
   "cell_type": "markdown",
   "metadata": {},
   "source": [
    "Sometimes, the module we want is actually supplied *inside* another module. A very common example comes from `matplotlib`, a library for data visualization that we will use extensively later in this course. Most of the time, we only need the `pyplot` module, which is housed within `matplotlib`. To import it, we use `from`: "
   ]
  },
  {
   "cell_type": "code",
   "execution_count": 3,
   "metadata": {},
   "outputs": [
    {
     "data": {
      "text/plain": [
       "<matplotlib.image.AxesImage at 0x7ffd830145b0>"
      ]
     },
     "execution_count": 3,
     "metadata": {},
     "output_type": "execute_result"
    },
    {
     "data": {
      "image/png": "[encoded data removed]",
      "text/plain": [
       "<Figure size 432x288 with 1 Axes>"
      ]
     },
     "metadata": {
      "needs_background": "light"
     },
     "output_type": "display_data"
    }
   ],
   "source": [
    "from matplotlib import pyplot\n",
    "pyplot.imshow(A)"
   ]
  },
  {
   "cell_type": "markdown",
   "metadata": {},
   "source": [
    "You can also give a module an *alias* which allows you to refer to it using a shorter name, using `as`:"
   ]
  },
  {
   "cell_type": "code",
   "execution_count": 4,
   "metadata": {},
   "outputs": [
    {
     "data": {
      "text/plain": [
       "<matplotlib.image.AxesImage at 0x7ffd8308d790>"
      ]
     },
     "execution_count": 4,
     "metadata": {},
     "output_type": "execute_result"
    },
    {
     "data": {
      "image/png": "[encoded data removed]",
      "text/plain": [
       "<Figure size 432x288 with 1 Axes>"
      ]
     },
     "metadata": {
      "needs_background": "light"
     },
     "output_type": "display_data"
    }
   ],
   "source": [
    "from matplotlib import pyplot as plt\n",
    "plt.imshow(A)"
   ]
  },
  {
   "cell_type": "markdown",
   "metadata": {},
   "source": [
    "## Learning About Functions\n",
    "\n",
    "Often we know roughly what we would like to do, but not exactly which function we should use or how to use it. \n",
    "If you would like to learn more about a function, there are three main things you should try: \n",
    "\n",
    "1. If you know roughly what a function does, but can't remember the details, check the **documentation.**\n",
    "2. If you have a problem and you're not sure what function should solve it, **ask your group members** or **post in the discussion forum.**\n",
    "3. If you can't figure it out within your group or on the forum, try **Googling.** StackOverflow is a particularly good resource. \n",
    "\n",
    "### Read the Docs\n",
    "\n",
    "To check the documentation of a function, just write down the function's name and add a `?` in front. Don't include `()` parentheses. "
   ]
  },
  {
   "cell_type": "code",
   "execution_count": 5,
   "metadata": {},
   "outputs": [
    {
     "name": "stdout",
     "output_type": "stream",
     "text": [
      "Object `sorted() ` not found.\n"
     ]
    }
   ],
   "source": [
    "# wrong\n",
    "?sorted() \n",
    "\n",
    "# right\n",
    "?sorted   \n",
    "\n",
    "# within an imported module\n",
    "?plt.imshow"
   ]
  },
  {
   "cell_type": "markdown",
   "metadata": {},
   "source": [
    "## Write the Docs\n",
    "\n",
    "Most of the Python code you write in this class will be enclosed within functions. All functions you write (and all functions you turn in) are expected to be documented using comments and docstrings. \n",
    "\n",
    "Your code should include comments and docstrings. \n",
    "\n",
    "**Comments** (marked in Python with a `#`) explain the intention and operation of small lines or blocks of code. \n",
    "\n",
    "**Docstrings** give a detailed explanation of the inputs and outputs of a function. Docstrings are typically placed directly below the first line of a function definition. They are placed between three pairs of quotation marks `\"\"\"like this\"\"\"`. It is not required that you follow a defined format for your docstrings, but each one should make clear (a) the role of all parameters and (b) what the user should expect the function to return. \n",
    "\n",
    "For more examples of appropriately documented code, please refer to the notebook [Expectations for Submitted Assignments](https://nbviewer.jupyter.org/github/PhilChodrow/PIC16A/blob/master/content/w0/expectations_for_assignments.ipynb). "
   ]
  },
  {
   "cell_type": "code",
   "execution_count": 6,
   "metadata": {},
   "outputs": [],
   "source": [
    "def power_of_k(k, power=1):\n",
    "    \"\"\"\n",
    "    Compute an integer power of a user-specified number k. \n",
    "    \"\"\"\n",
    "    # initialize\n",
    "    x = 1\n",
    "    \n",
    "    # multiply x by k power times. \n",
    "    for i in range(power):\n",
    "        x *= k\n",
    "    return x"
   ]
  },
  {
   "cell_type": "markdown",
   "metadata": {},
   "source": [
    "Once you've documented your functions, you can then check the documentation later: "
   ]
  },
  {
   "cell_type": "code",
   "execution_count": 7,
   "metadata": {},
   "outputs": [],
   "source": [
    "?power_of_k"
   ]
  },
  {
   "cell_type": "markdown",
   "metadata": {},
   "source": [
    "## Writing Modules\n",
    "\n",
    "We won't ask you to write modules in this class, but you might find it convenient when working on larger projects. To import a module into a notebook, just write `import <filename>`. For example, let's create a simple module by writing some code to a file. "
   ]
  },
  {
   "cell_type": "code",
   "execution_count": 8,
   "metadata": {},
   "outputs": [],
   "source": [
    "# file contents\n",
    "\n",
    "code = '''\n",
    "def power_of_k(k, power=1):\n",
    "    \"\"\"\n",
    "    Compute an integer power of a user-specified number k. \n",
    "    \"\"\"\n",
    "    # initialize\n",
    "    x = 1\n",
    "    \n",
    "    # multiply x by k power times. \n",
    "    for i in range(power):\n",
    "        x *= k\n",
    "    return x\n",
    "'''\n",
    "\n",
    "file = open('power.py', 'w')\n",
    "file.write(code)\n",
    "file.close()"
   ]
  },
  {
   "cell_type": "code",
   "execution_count": 9,
   "metadata": {},
   "outputs": [
    {
     "data": {
      "text/plain": [
       "64"
      ]
     },
     "execution_count": 9,
     "metadata": {},
     "output_type": "execute_result"
    }
   ],
   "source": [
    "import power\n",
    "power.power_of_k(8, power = 2)"
   ]
  },
  {
   "cell_type": "markdown",
   "metadata": {},
   "source": [
    "## No Global Variables\n",
    "\n",
    "As we discussed last lecture, functions generally can't modify global variables. \n",
    "\n",
    "**Question:** What if you *want* your function to modify a global variable? \n",
    "\n",
    "**Answer:** Find another way.\n",
    "\n",
    "With **very** rare exceptions, functions should not modify global variables, as this can lead to code that is difficult to read and troubleshoot. Here's a helpful [StackOverflow answer](https://stackoverflow.com/questions/19158339/why-are-global-variables-evil) on the dangers of abusing global variables. \n",
    "\n",
    "Generally speaking, any data that your function requires should be supplied as an argument, rather than taken from the global scope. "
   ]
  },
  {
   "cell_type": "code",
   "execution_count": 10,
   "metadata": {},
   "outputs": [
    {
     "data": {
      "text/plain": [
       "6"
      ]
     },
     "execution_count": 10,
     "metadata": {},
     "output_type": "execute_result"
    }
   ],
   "source": [
    "# don't do this\n",
    "\n",
    "x = 3\n",
    "def double():\n",
    "    return(2*x)\n",
    "\n",
    "# do this instead\n",
    "\n",
    "def double(x):\n",
    "    return(2*x)\n",
    "    \n",
    "double(3)"
   ]
  },
  {
   "cell_type": "markdown",
   "metadata": {},
   "source": [
    "## Functions with Memory\n",
    "\n",
    "A common reason we might want to use global variables is to give functions **memory**. For example, suppose we want to simply count the number of times that a function has been called. Here's a first attempt: "
   ]
  },
  {
   "cell_type": "code",
   "execution_count": 11,
   "metadata": {},
   "outputs": [],
   "source": [
    "# NEVER DO THIS\n",
    "x = 0\n",
    "def counter():\n",
    "    global x           # forces Python to overwrite global variable x. \n",
    "    x = x+1\n",
    "    return(x)"
   ]
  },
  {
   "cell_type": "code",
   "execution_count": 12,
   "metadata": {},
   "outputs": [
    {
     "data": {
      "text/plain": [
       "(1, 2, 3)"
      ]
     },
     "execution_count": 12,
     "metadata": {},
     "output_type": "execute_result"
    }
   ],
   "source": [
    "counter(), counter(), counter()"
   ]
  },
  {
   "cell_type": "markdown",
   "metadata": {},
   "source": [
    "The basic problem here is that the `counter()` function will not work correctly if the user has independently modified `x`. \n",
    "\n",
    "While there are ways to create functions with memories, this is usually not the best solution to a problem. Instead, it is generally preferable to create a class. We'll discuss objects and classes soon. "
   ]
  }
 ],
 "metadata": {
  "kernelspec": {
   "display_name": "Python 3",
   "language": "python",
   "name": "python3"
  },
  "language_info": {
   "codemirror_mode": {
    "name": "ipython",
    "version": 3
   },
   "file_extension": ".py",
   "mimetype": "text/x-python",
   "name": "python",
   "nbconvert_exporter": "python",
   "pygments_lexer": "ipython3",
   "version": "3.8.3"
  }
 },
 "nbformat": 4,
 "nbformat_minor": 4
}
