{
 "cells": [
  {
   "cell_type": "markdown",
   "metadata": {},
   "source": [
    "# 1. Basic Python Syntax and Semantics\n",
    "\n",
    "### Synopsis \n",
    "\n",
    "In this lecture, we'll discuss some basic considerations involved when constructing Python programs, including: \n",
    "\n",
    "- How do I write syntactically correct code?\n",
    "- How do I create and modify variables? \n",
    "- What data types are available to me? \n",
    "- What are objects, and what does it mean that Python is \"object-oriented?\"\n",
    "\n",
    "### Required Reading\n",
    "\n",
    "In our first few weeks, we will read through the following short report: \n",
    "\n",
    ">    A Whirlwind Tour of Python by Jake VanderPlas (O’Reilly). Copyright 2016 O’Reilly Media, Inc., 978-1-491-96465-1\n",
    "\n",
    "For this lecture, you are responsible for the following chapters: \n",
    "\n",
    "\n",
    "3. [A Quick Tour of Python Language Syntax](https://nbviewer.jupyter.org/github/jakevdp/WhirlwindTourOfPython/blob/master/02-Basic-Python-Syntax.ipynb) \n",
    "4. [Basic Python Semantics: Variables and Objects](https://nbviewer.jupyter.org/github/jakevdp/WhirlwindTourOfPython/blob/master/03-Semantics-Variables.ipynb)"
   ]
  },
  {
   "cell_type": "code",
   "execution_count": null,
   "metadata": {},
   "outputs": [],
   "source": []
  }
 ],
 "metadata": {
  "kernelspec": {
   "display_name": "Python 3.7.3 64-bit",
   "language": "python",
   "name": "python37364bitff68f03e0729439b934cf550182ecbd9"
  },
  "language_info": {
   "codemirror_mode": {
    "name": "ipython",
    "version": 3
   },
   "file_extension": ".py",
   "mimetype": "text/x-python",
   "name": "python",
   "nbconvert_exporter": "python",
   "pygments_lexer": "ipython3",
   "version": "3.7.3"
  }
 },
 "nbformat": 4,
 "nbformat_minor": 4
}
