{
 "cells": [
  {
   "cell_type": "markdown",
   "metadata": {},
   "source": [
    "# Responsible Use of Functions\n",
    "\n",
    "## Documentation\n",
    "\n",
    "Most of the Python code you write in this class will be enclosed within functions. All functions you write (and all functions you turn in) are expected to be documented using comments and docstrings. \n",
    "\n",
    "Your code should include comments and docstrings. \n",
    "\n",
    "**Comments** (marked in Python with a `#`) explain the intention and operation of small lines or blocks of code. \n",
    "\n",
    "**Docstrings** give a detailed explanation of the inputs and outputs of a function. Docstrings are typically placed directly below the first line of a function definition. They are placed between three pairs of quotation marks `\"\"\"like this\"\"\"`. \n",
    "\n",
    "For examples of appropriately documented code, please refer to the notebook \"Expectations for Assignments.\" "
   ]
  },
  {
   "cell_type": "markdown",
   "metadata": {},
   "source": [
    "## No Global Variables\n",
    "\n",
    "**Question:** What if you *want* your function to modify a global variable? \n",
    "\n",
    "**Answer:** Find another way.\n",
    "\n",
    "With **very** rare exceptions, functions should not modify global variables, as this can lead to code that is difficult to read and troubleshoot. Here's a helpful [StackOverflow answer](https://stackoverflow.com/questions/19158339/why-are-global-variables-evil) on the dangers of abusing global variables. \n",
    "\n",
    "Generally speaking, any data that your function requires should be supplied as an argument, rather than taken from the global scope. "
   ]
  },
  {
   "cell_type": "code",
   "execution_count": 42,
   "metadata": {},
   "outputs": [
    {
     "data": {
      "text/plain": [
       "6"
      ]
     },
     "execution_count": 42,
     "metadata": {},
     "output_type": "execute_result"
    }
   ],
   "source": [
    "# don't do this\n",
    "\n",
    "x = 3\n",
    "def double():\n",
    "    return(2*x)\n",
    "\n",
    "# do this instead\n",
    "\n",
    "def double(x):\n",
    "    return(2*x)\n",
    "    \n",
    "double(3)"
   ]
  },
  {
   "cell_type": "markdown",
   "metadata": {},
   "source": [
    "## Functions with Memory\n",
    "\n",
    "A common reason we might want to use global variables is to give functions **memory**. For example, suppose we want to simply count the number of times that a function has been called. Here's a first attempt: "
   ]
  },
  {
   "cell_type": "code",
   "execution_count": 19,
   "metadata": {},
   "outputs": [],
   "source": [
    "# NEVER DO THIS\n",
    "x = 0\n",
    "def counter():\n",
    "    global x           # forces Python to overwrite global variable x. \n",
    "    x = x+1\n",
    "    return(x)"
   ]
  },
  {
   "cell_type": "code",
   "execution_count": 20,
   "metadata": {},
   "outputs": [
    {
     "data": {
      "text/plain": [
       "(1, 2, 3)"
      ]
     },
     "execution_count": 20,
     "metadata": {},
     "output_type": "execute_result"
    }
   ],
   "source": [
    "counter(), counter(), counter()"
   ]
  },
  {
   "cell_type": "markdown",
   "metadata": {},
   "source": [
    "The basic problem here is that the `counter()` function will not work correctly if the user has independently modified `x`. \n",
    "\n",
    "While there are ways to create functions with memories, this is usually not the best solution to a problem. Instead, it is generally preferable to create a class. "
   ]
  }
 ],
 "metadata": {
  "kernelspec": {
   "display_name": "Python 3",
   "language": "python",
   "name": "python3"
  },
  "language_info": {
   "codemirror_mode": {
    "name": "ipython",
    "version": 3
   },
   "file_extension": ".py",
   "mimetype": "text/x-python",
   "name": "python",
   "nbconvert_exporter": "python",
   "pygments_lexer": "ipython3",
   "version": "3.8.3"
  }
 },
 "nbformat": 4,
 "nbformat_minor": 4
}
