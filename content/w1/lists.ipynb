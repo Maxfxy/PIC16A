{
 "cells": [
  {
   "cell_type": "markdown",
   "metadata": {},
   "source": [
    "# Introduction to Iterables: Lists"
   ]
  },
  {
   "cell_type": "markdown",
   "metadata": {},
   "source": [
    "A `list` is an ordered sequence of arbitrary objects, which can be accessed and altered via numerical indexing. The simplest way to construct a list is to enclose a set of objects, separated by `,`, within brackets `[]`. For example: "
   ]
  },
  {
   "cell_type": "code",
   "execution_count": 1,
   "metadata": {},
   "outputs": [],
   "source": [
    "L = [\"Kirk\", \"Picard\", \"Sisko\", \"Janeway\"]"
   ]
  },
  {
   "cell_type": "code",
   "execution_count": 2,
   "metadata": {},
   "outputs": [
    {
     "data": {
      "text/plain": [
       "'Sisko'"
      ]
     },
     "execution_count": 2,
     "metadata": {},
     "output_type": "execute_result"
    }
   ],
   "source": [
    "L[2]"
   ]
  },
  {
   "cell_type": "markdown",
   "metadata": {},
   "source": [
    "The same indexing tricks work for lists as they do for strings. "
   ]
  },
  {
   "cell_type": "code",
   "execution_count": 3,
   "metadata": {},
   "outputs": [
    {
     "data": {
      "text/plain": [
       "['Janeway', 'Sisko', 'Picard', 'Kirk']"
      ]
     },
     "execution_count": 3,
     "metadata": {},
     "output_type": "execute_result"
    }
   ],
   "source": [
    "L[1::2] \n",
    "L[::-1]"
   ]
  },
  {
   "cell_type": "markdown",
   "metadata": {},
   "source": [
    "### Listomania"
   ]
  },
  {
   "cell_type": "markdown",
   "metadata": {},
   "source": [
    "We really mean it when we say that lists can contain **arbitrary** objects. These objects can have differing types, and can even be lists themselves: "
   ]
  },
  {
   "cell_type": "code",
   "execution_count": 4,
   "metadata": {},
   "outputs": [],
   "source": [
    "L = [\"Deep\", \"Space\", 9, 1.4]"
   ]
  },
  {
   "cell_type": "code",
   "execution_count": 5,
   "metadata": {},
   "outputs": [
    {
     "data": {
      "text/plain": [
       "[['TNG', 'DS9', 'VOY'], ['Picard', 'Sisko', 'Janeway'], [1, 2, 3]]"
      ]
     },
     "execution_count": 5,
     "metadata": {},
     "output_type": "execute_result"
    }
   ],
   "source": [
    "L = [[\"TNG\", \"DS9\", \"VOY\"],[\"Picard\", \"Sisko\", \"Janeway\"], [1, 2, 3]]\n",
    "L"
   ]
  },
  {
   "cell_type": "code",
   "execution_count": 6,
   "metadata": {},
   "outputs": [
    {
     "data": {
      "text/plain": [
       "['TNG', 'DS9', 'VOY']"
      ]
     },
     "execution_count": 6,
     "metadata": {},
     "output_type": "execute_result"
    }
   ],
   "source": [
    "L[0]"
   ]
  },
  {
   "cell_type": "code",
   "execution_count": 7,
   "metadata": {},
   "outputs": [
    {
     "data": {
      "text/plain": [
       "'Janeway'"
      ]
     },
     "execution_count": 7,
     "metadata": {},
     "output_type": "execute_result"
    }
   ],
   "source": [
    "L[1][2]"
   ]
  },
  {
   "cell_type": "markdown",
   "metadata": {},
   "source": [
    "Later in the course, we'll learn more convenient and powerful ways to store lists of related data. \n",
    "\n",
    "Unlike strings, lists are mutable, and their elements can be altered in arbitrary ways. For example, we can `append()` elements. "
   ]
  },
  {
   "cell_type": "code",
   "execution_count": 8,
   "metadata": {},
   "outputs": [
    {
     "data": {
      "text/plain": [
       "[['TNG', 'DS9', 'VOY', 'TOS'],\n",
       " ['Picard', 'Sisko', 'Janeway', 'Kirk'],\n",
       " [1, 2, 3, 4]]"
      ]
     },
     "execution_count": 8,
     "metadata": {},
     "output_type": "execute_result"
    }
   ],
   "source": [
    "L[0].append(\"TOS\")\n",
    "L[1].append(\"Kirk\")\n",
    "L[2].append(4)\n",
    "\n",
    "L"
   ]
  },
  {
   "cell_type": "markdown",
   "metadata": {},
   "source": [
    "There are many other ways to modify lists, a few of which are demonstrated below. "
   ]
  },
  {
   "cell_type": "code",
   "execution_count": 9,
   "metadata": {},
   "outputs": [
    {
     "name": "stdout",
     "output_type": "stream",
     "text": [
      "Command                L\n",
      "-----------------------------------\n",
      "L.remove('Kirk')       ['Picard', 'Sisko', 'Janeway']\n",
      "L.pop(1)               ['Picard', 'Janeway']\n",
      "L.insert(1, 'Spock')   ['Picard', 'Spock', 'Janeway']\n",
      "L.sort()               ['Janeway', 'Picard', 'Spock']\n",
      "L.reverse()            ['Spock', 'Picard', 'Janeway']\n"
     ]
    }
   ],
   "source": [
    "L = [\"Kirk\",\"Picard\", \"Sisko\", \"Janeway\"]\n",
    "\n",
    "print(\"Command                L\")\n",
    "print(\"-----------------------------------\")\n",
    "L.remove('Kirk')                             # removes first instance of 'Kirk'\n",
    "print(\"L.remove('Kirk')      \", L)\n",
    "\n",
    "L.pop(1)                                     # removes element in position 1 (Sisko)\n",
    "print(\"L.pop(1)              \", L)\n",
    "\n",
    "L.insert(1,'Spock')                          # adds 'Spock' in index 1\n",
    "print(\"L.insert(1, 'Spock')  \", L)\n",
    "\n",
    "L.sort()                                     # sorts elements (ascending)\n",
    "print(\"L.sort()              \", L)\n",
    "\n",
    "L.reverse()                                  # reverses order of elements\n",
    "print(\"L.reverse()           \", L)"
   ]
  },
  {
   "cell_type": "markdown",
   "metadata": {},
   "source": [
    "## Constructing Lists\n",
    "\n",
    "Python offers many ways to construct lists, some of them more convenient than others. The method `split()` of `string` objects is one handy example. This can be used, for example, to loop over the individual words of a string. \n",
    "\n",
    "### Functions That Return Lists\n",
    "\n",
    "Python offers many functions that return lists from data of various types. For now, we'll just take a look at a single example. "
   ]
  },
  {
   "cell_type": "code",
   "execution_count": 10,
   "metadata": {},
   "outputs": [
    {
     "data": {
      "text/plain": [
       "['to', 'boldly', 'go']"
      ]
     },
     "execution_count": 10,
     "metadata": {},
     "output_type": "execute_result"
    }
   ],
   "source": [
    "s = \"to boldly go\"\n",
    "s.split()"
   ]
  },
  {
   "cell_type": "code",
   "execution_count": 11,
   "metadata": {},
   "outputs": [
    {
     "data": {
      "text/plain": [
       "['in a mirror', ' darkly']"
      ]
     },
     "execution_count": 11,
     "metadata": {},
     "output_type": "execute_result"
    }
   ],
   "source": [
    "t = \"in a mirror, darkly\"\n",
    "t.split(\",\")"
   ]
  },
  {
   "cell_type": "markdown",
   "metadata": {},
   "source": [
    "### Loops\n",
    "\n",
    "A more versatile way to construct lists is by first initiating an empty list, and then incrementally adding to it. Suppose I wanted to make a list of all integer squares up to 100. Here's a way to do this with a for loop (don't worry too much about the syntax for now). "
   ]
  },
  {
   "cell_type": "code",
   "execution_count": 12,
   "metadata": {},
   "outputs": [
    {
     "data": {
      "text/plain": [
       "[1, 4, 9, 16, 25, 36, 49, 64, 81, 100]"
      ]
     },
     "execution_count": 12,
     "metadata": {},
     "output_type": "execute_result"
    }
   ],
   "source": [
    "squares = []             # an empty list\n",
    "for i in range(1, 11):   # i ranges from 1 to 10\n",
    "    squares.append(i**2) # add i**2 to the end of squares\n",
    "\n",
    "squares"
   ]
  },
  {
   "cell_type": "code",
   "execution_count": 13,
   "metadata": {},
   "outputs": [
    {
     "data": {
      "text/plain": [
       "[2, 6, 2]"
      ]
     },
     "execution_count": 13,
     "metadata": {},
     "output_type": "execute_result"
    }
   ],
   "source": [
    "word_lengths = []\n",
    "for word in s.split():\n",
    "    the_length = len(word)\n",
    "    word_lengths.append(the_length)\n",
    "\n",
    "word_lengths"
   ]
  },
  {
   "cell_type": "markdown",
   "metadata": {},
   "source": [
    "### List Comprehensions\n",
    "\n",
    "A much more compact and readable way to construct lists is provided by *list comprehensions.* List comprehensions are inspired by \"set-builder\" notation in mathematics. For example, we might write the `squares` list from above as \n",
    "\n",
    "$$\\{i^2 \\;|\\; 1 \\leq i \\leq 10\\}$$\n",
    "\n",
    "List comprehensions allow us to write very similar `python` code. "
   ]
  },
  {
   "cell_type": "code",
   "execution_count": 14,
   "metadata": {},
   "outputs": [
    {
     "data": {
      "text/plain": [
       "[1, 4, 9, 16, 25, 36, 49, 64, 81, 100]"
      ]
     },
     "execution_count": 14,
     "metadata": {},
     "output_type": "execute_result"
    }
   ],
   "source": [
    "squares = [i**2 for i in range(1, 11)]\n",
    "squares "
   ]
  },
  {
   "cell_type": "markdown",
   "metadata": {},
   "source": [
    "We were able to condense the three lines of code from our for-loop into just one, readable line. Similarly, "
   ]
  },
  {
   "cell_type": "code",
   "execution_count": 15,
   "metadata": {},
   "outputs": [
    {
     "data": {
      "text/plain": [
       "[2, 6, 2]"
      ]
     },
     "execution_count": 15,
     "metadata": {},
     "output_type": "execute_result"
    }
   ],
   "source": [
    "word_lengths = [len(word) for word in s.split()]\n",
    "word_lengths"
   ]
  },
  {
   "cell_type": "markdown",
   "metadata": {},
   "source": [
    "We can also write *conditional* comprehensions to construct even more complex lists: "
   ]
  },
  {
   "cell_type": "code",
   "execution_count": 16,
   "metadata": {},
   "outputs": [
    {
     "data": {
      "text/plain": [
       "[4, 16, 36, 64, 100, 144, 196, 256, 324, 400]"
      ]
     },
     "execution_count": 16,
     "metadata": {},
     "output_type": "execute_result"
    }
   ],
   "source": [
    "even_squares = [i**2 for i in range(1,21) if i % 2 == 0]\n",
    "even_squares"
   ]
  },
  {
   "cell_type": "markdown",
   "metadata": {},
   "source": [
    "We can iterate over multiple indexing variables: "
   ]
  },
  {
   "cell_type": "code",
   "execution_count": 17,
   "metadata": {},
   "outputs": [
    {
     "data": {
      "text/plain": [
       "[4, 5, 6, 8, 10, 12, 12, 15, 18]"
      ]
     },
     "execution_count": 17,
     "metadata": {},
     "output_type": "execute_result"
    }
   ],
   "source": [
    "products = [i*j for i in [1,2,3] for j in [4, 5, 6]]\n",
    "products"
   ]
  },
  {
   "cell_type": "markdown",
   "metadata": {},
   "source": [
    "As before, we can easily construct lists of lists: "
   ]
  },
  {
   "cell_type": "code",
   "execution_count": 18,
   "metadata": {},
   "outputs": [
    {
     "data": {
      "text/plain": [
       "[[4, 8, 12], [5, 10, 15], [6, 12, 18]]"
      ]
     },
     "execution_count": 18,
     "metadata": {},
     "output_type": "execute_result"
    }
   ],
   "source": [
    "products2 = [[i*j for i in [1,2,3]] for j in [4, 5, 6]]\n",
    "products2"
   ]
  },
  {
   "cell_type": "markdown",
   "metadata": {},
   "source": [
    "## Sorting Lists\n",
    "\n",
    "Lists can be sorted in several ways. When there is an obvious ordering of elements, Python will often infer it: "
   ]
  },
  {
   "cell_type": "code",
   "execution_count": 58,
   "metadata": {},
   "outputs": [
    {
     "data": {
      "text/plain": [
       "[1, 2, 2, 3, 3, 4, 4, 5]"
      ]
     },
     "execution_count": 58,
     "metadata": {},
     "output_type": "execute_result"
    }
   ],
   "source": [
    "L1 = [2, 3, 2, 4, 1, 4, 3, 5]\n",
    "L1.sort()\n",
    "L1"
   ]
  },
  {
   "cell_type": "code",
   "execution_count": 59,
   "metadata": {},
   "outputs": [
    {
     "data": {
      "text/plain": [
       "[5, 4, 4, 3, 3, 2, 2, 1]"
      ]
     },
     "execution_count": 59,
     "metadata": {},
     "output_type": "execute_result"
    }
   ],
   "source": [
    "L1.sort(reverse=True)\n",
    "L1"
   ]
  },
  {
   "cell_type": "code",
   "execution_count": 60,
   "metadata": {},
   "outputs": [
    {
     "data": {
      "text/plain": [
       "['Janeway', 'Picard', 'Pike', 'Sisko']"
      ]
     },
     "execution_count": 60,
     "metadata": {},
     "output_type": "execute_result"
    }
   ],
   "source": [
    "L2 = [\"Sisko\", \"Picard\", \"Janeway\", \"Pike\"] \n",
    "L2.sort() # alphabetical by first letter, ties broken by second letter, etc. \n",
    "L2"
   ]
  },
  {
   "cell_type": "markdown",
   "metadata": {},
   "source": [
    "Lists can also be sorted using arbitrary functions. For example, we can sort L1 into evens and then odds. Don't worry about the syntax of the function definition for now. "
   ]
  },
  {
   "cell_type": "code",
   "execution_count": 62,
   "metadata": {},
   "outputs": [
    {
     "data": {
      "text/plain": [
       "[4, 4, 2, 2, 5, 3, 3, 1]"
      ]
     },
     "execution_count": 62,
     "metadata": {},
     "output_type": "execute_result"
    }
   ],
   "source": [
    "def is_odd(x):\n",
    "    return(x % 2 == 1)\n",
    "\n",
    "L1.sort(key=is_odd)\n",
    "L1"
   ]
  },
  {
   "cell_type": "markdown",
   "metadata": {},
   "source": [
    "You can even use a key function that returns multiple values, which will result in sorting by multiple attributes. For example, suppose we wanted to sort ascending within each group (odd/even). "
   ]
  },
  {
   "cell_type": "code",
   "execution_count": 64,
   "metadata": {},
   "outputs": [
    {
     "data": {
      "text/plain": [
       "[2, 2, 4, 4, 1, 3, 3, 5]"
      ]
     },
     "execution_count": 64,
     "metadata": {},
     "output_type": "execute_result"
    }
   ],
   "source": [
    "def sorter(x):\n",
    "    return(x % 2 == 1, x) \n",
    "\n",
    "L1.sort(key=sorter)\n",
    "L1"
   ]
  },
  {
   "cell_type": "markdown",
   "metadata": {},
   "source": [
    "We'll talk more about the syntax of these function definitions when we discuss functions and tuples.  "
   ]
  }
 ],
 "metadata": {
  "kernelspec": {
   "display_name": "Python 3",
   "language": "python",
   "name": "python3"
  },
  "language_info": {
   "codemirror_mode": {
    "name": "ipython",
    "version": 3
   },
   "file_extension": ".py",
   "mimetype": "text/x-python",
   "name": "python",
   "nbconvert_exporter": "python",
   "pygments_lexer": "ipython3",
   "version": "3.8.3"
  }
 },
 "nbformat": 4,
 "nbformat_minor": 4
}
