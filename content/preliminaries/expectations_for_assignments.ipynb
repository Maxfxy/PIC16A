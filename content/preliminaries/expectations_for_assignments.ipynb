{
 "cells": [
  {
   "cell_type": "markdown",
   "metadata": {},
   "source": [
    "# Expectations for Submitted Assignments\n",
    "\n",
    "In this short notebook, we'll discuss expectations for submitted  assignments, including homework and in-class assignments. The same expectations will apply to the midterm and final exam. \n",
    "\n",
    "## Submission Format\n",
    "\n",
    "We recommend that you complete most of your homework assignments in Jupyter Notebooks. Most of you will find this to be both easier and more fun. It's also easy for us to grade. \n",
    "\n",
    "As a backup, you may instead choose to do your homework in `.py` files (i.e. Python script files). This is discouraged unless (a) you are having issues running Jupyter or (b) the Jupyter interface is not accessible to you. **You must notify me in advance** if you intend to submit `.py` files for your homework assignments or exams. You do not need to state your reason for doing so, but you do need to tell me ahead of time. \n",
    "\n",
    "Most of the expectations described below will apply equally to both notebook-based assignments and `.py`-based assignments. \n",
    "\n",
    "### Do Not Submit `.ipynb` Files\n",
    "\n",
    "A Jupyter Notebook is natively a file of format `.ipynb`. **Do not submit `.ipynb` files. We will not grade `.ipynb` files.**\n",
    "\n",
    "Instead, submit `.html` files. To do so, with your notebook open, navigate to `File > Download As > HTML (.html)`. Submit the resulting `.html` file on Canvas. "
   ]
  },
  {
   "cell_type": "markdown",
   "metadata": {},
   "source": [
    "## Header Material\n",
    "\n",
    "The top of your assignment should include the homework assignment number (e.g. \"HW4\"), your name, and the date. It should also include the honor statement shown below. \n",
    "\n",
    "## Expository Text\n",
    "\n",
    "Your notebook should include expository text that (a) states the problem you are solving and (b) describes the operation of each code chunk. We will provide you with an outline of each homework assignment that includes the problem statements, so if you use the outline then that will satisfy (a). An example of (b) is shown below. \n",
    "\n",
    "## Comments and Docstrings\n",
    "\n",
    "Your code should include comments and docstrings. \n",
    "\n",
    "**Comments** (marked in Python with a `#`) explain the intention and operation of small lines or blocks of code. \n",
    "\n",
    "**Docstrings** give a detailed explanation of the inputs and outputs of a function. Docstrings are typically placed directly below the first line of a function definition. They are placed between three pairs of quotation marks `\"\"\"like this\"\"\"`. You won't need to worry about docstrings until we discuss defining functions. "
   ]
  },
  {
   "cell_type": "markdown",
   "metadata": {},
   "source": [
    "---"
   ]
  },
  {
   "cell_type": "markdown",
   "metadata": {},
   "source": [
    "# HW5: Example\n",
    "\n",
    "- *By Phil Chodrow*\n",
    "- Aug. 27th, 2020\n",
    "\n",
    "> I affirm that I personally wrote the text, code, and comments in this homework assignment. "
   ]
  },
  {
   "cell_type": "markdown",
   "metadata": {},
   "source": [
    "## Problem 1\n",
    "\n",
    "*Write a function called `boldly_print()` that repeatedly prints the phrase \"to boldly go\". The function should take as an argument the number of times to print this phrase. It is not necessary for the function to return anything. For example:*\n",
    "\n",
    "```python\n",
    "boldly_print(5)\n",
    "\n",
    "to boldly go     # output\n",
    "to boldly go\n",
    "to boldly go\n",
    "to boldly go\n",
    "to boldly go\n",
    "```"
   ]
  },
  {
   "cell_type": "code",
   "execution_count": 1,
   "metadata": {},
   "outputs": [],
   "source": [
    "def boldly_print(k):\n",
    "    \"\"\"\n",
    "    print the phrase \"to boldly go\" a number of times specified by the user. \n",
    "    \n",
    "    Parameters\n",
    "    ----------\n",
    "    k: int, the number of times to print the phrase \"to boldly go\"\n",
    "    \n",
    "    Return \n",
    "    ----------\n",
    "    No return value\n",
    "    \"\"\"\n",
    "    \n",
    "    # I'll use a for loop to print repeatedly\n",
    "    for i in range(k):\n",
    "        print(\"to boldly go\")"
   ]
  },
  {
   "cell_type": "code",
   "execution_count": 2,
   "metadata": {},
   "outputs": [
    {
     "name": "stdout",
     "output_type": "stream",
     "text": [
      "to boldly go\n",
      "to boldly go\n",
      "to boldly go\n",
      "to boldly go\n",
      "to boldly go\n"
     ]
    }
   ],
   "source": [
    "boldly_print(5)"
   ]
  },
  {
   "cell_type": "markdown",
   "metadata": {},
   "source": [
    "## Problem 2\n",
    "\n",
    "*Write a function that returns a [Collatz sequence](https://en.wikipedia.org/wiki/Collatz_conjecture) starting with a user-specified integer. The sequence should be returned as an `np.array()`. The first entry should always be the user input, while the last entry should always be 1. For example:*\n",
    "\n",
    "```\n",
    "collatz(17)\n",
    "\n",
    "# output\n",
    "array([17., 52., 26., 13., 40., 20., 10.,  5., 16.,  8.,  4.,  2.,  1.])\n",
    "```"
   ]
  },
  {
   "cell_type": "markdown",
   "metadata": {},
   "source": [
    "I'll approach this problem by:\n",
    "\n",
    "1. Initializing an empty `array()` to hold the sequence. \n",
    "2. Looping and updating the sequence according to the rules described [here](https://en.wikipedia.org/wiki/Collatz_conjecture) until the sequence equals one. In each iteration, I'll add the current term to the sequence. \n",
    "3. Then, I'll return the sequence. "
   ]
  },
  {
   "cell_type": "code",
   "execution_count": 3,
   "metadata": {},
   "outputs": [],
   "source": [
    "import numpy as np\n",
    "\n",
    "def collatz(k0):\n",
    "    \"\"\"\n",
    "    Parameters\n",
    "    ----------\n",
    "    k: int, the initial integer at which to initiate the sequence\n",
    "    \n",
    "    Return \n",
    "    ----------\n",
    "    np.array(), an array of ints \n",
    "    \"\"\"\n",
    "    \n",
    "    c = np.array([])        # initialize an empty array\n",
    "    k = k0\n",
    "    c = np.append(c, k)     # not forgetting the initial value!\n",
    "    \n",
    "    while k > 1:            # loop until the sequence reaches 1  \n",
    "        if k % 2 == 0:      # even case\n",
    "            k = k/2\n",
    "        else:               # odd case\n",
    "            k = 3*k+1\n",
    "        c = np.append(c, k) # add result to c\n",
    "    return c"
   ]
  },
  {
   "cell_type": "code",
   "execution_count": 4,
   "metadata": {},
   "outputs": [
    {
     "data": {
      "text/plain": [
       "array([17., 52., 26., 13., 40., 20., 10.,  5., 16.,  8.,  4.,  2.,  1.])"
      ]
     },
     "execution_count": 4,
     "metadata": {},
     "output_type": "execute_result"
    }
   ],
   "source": [
    "collatz(17) # test, looks ok! "
   ]
  }
 ],
 "metadata": {
  "kernelspec": {
   "display_name": "Python 3",
   "language": "python",
   "name": "python3"
  },
  "language_info": {
   "codemirror_mode": {
    "name": "ipython",
    "version": 3
   },
   "file_extension": ".py",
   "mimetype": "text/x-python",
   "name": "python",
   "nbconvert_exporter": "python",
   "pygments_lexer": "ipython3",
   "version": "3.8.3"
  }
 },
 "nbformat": 4,
 "nbformat_minor": 4
}
