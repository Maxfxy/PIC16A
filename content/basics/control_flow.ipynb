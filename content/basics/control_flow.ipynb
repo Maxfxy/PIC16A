{
 "cells": [
  {
   "cell_type": "markdown",
   "metadata": {},
   "source": [
    "# Control Flow\n",
    "\n",
    "In this notebook, we'll briefly discuss the two most common ways to control the flow of a program:\n",
    "\n",
    "1. Iteration (repeating an operation)\n",
    "2. Branching (performing different operations depending on conditions)\n",
    "\n",
    "We'll move quickly through this material, since these concepts should be familiar from your experience with PIC10A -- only the syntax changes. \n",
    "\n",
    "Two important pieces of syntax: \n",
    "\n",
    "1. The declaration of both loops and conditionals must end with a colon `:`. \n",
    "2. **Whitespace matters.** The body of a loop or branching statement **must be indented**, else Python will throw a syntax error. "
   ]
  },
  {
   "cell_type": "markdown",
   "metadata": {},
   "source": [
    "## Iteration with For Loops"
   ]
  },
  {
   "cell_type": "code",
   "execution_count": 3,
   "metadata": {},
   "outputs": [
    {
     "name": "stdout",
     "output_type": "stream",
     "text": [
      "0\n",
      "1\n",
      "2\n",
      "3\n",
      "4\n",
      "5\n",
      "6\n",
      "7\n",
      "8\n",
      "9\n"
     ]
    }
   ],
   "source": [
    "for i in range(10):\n",
    "    print(i)x"
   ]
  },
  {
   "cell_type": "code",
   "execution_count": 2,
   "metadata": {},
   "outputs": [
    {
     "name": "stdout",
     "output_type": "stream",
     "text": [
      "t\n",
      "o\n",
      " \n",
      "b\n",
      "o\n",
      "l\n",
      "d\n",
      "l\n",
      "y\n",
      " \n",
      "g\n",
      "o\n"
     ]
    }
   ],
   "source": [
    "for l in \"to boldly go\":\n",
    "    print(l)"
   ]
  },
  {
   "cell_type": "code",
   "execution_count": 3,
   "metadata": {},
   "outputs": [
    {
     "name": "stdout",
     "output_type": "stream",
     "text": [
      "to\n",
      "boldly\n",
      "go\n"
     ]
    }
   ],
   "source": [
    "for w in \"to boldly go\".split():\n",
    "    print(w)"
   ]
  },
  {
   "cell_type": "markdown",
   "metadata": {},
   "source": [
    "The indexing variable is assigned in global scope (i.e. outside the context of the for loop): "
   ]
  },
  {
   "cell_type": "code",
   "execution_count": 5,
   "metadata": {},
   "outputs": [
    {
     "data": {
      "text/plain": [
       "(9, 'o', 'go')"
      ]
     },
     "execution_count": 5,
     "metadata": {},
     "output_type": "execute_result"
    }
   ],
   "source": [
    "i, l, w"
   ]
  },
  {
   "cell_type": "markdown",
   "metadata": {},
   "source": [
    "It is reassigned with each iteration of the loop. For example, take a moment to consider the following code: what is the value of `i` at the end of the loop?"
   ]
  },
  {
   "cell_type": "code",
   "execution_count": 15,
   "metadata": {},
   "outputs": [],
   "source": [
    "i = 1\n",
    "for i in range(10):\n",
    "    i = i*2"
   ]
  },
  {
   "cell_type": "markdown",
   "metadata": {},
   "source": [
    "Compare to: "
   ]
  },
  {
   "cell_type": "code",
   "execution_count": 14,
   "metadata": {},
   "outputs": [],
   "source": [
    "j = 1\n",
    "for i in range(10):\n",
    "    j = j*2"
   ]
  },
  {
   "cell_type": "markdown",
   "metadata": {},
   "source": [
    "## Iteration with While-Loops\n",
    "\n",
    "As usual, while-loops should be used when you're not sure how many iterations should be performed. Make sure that the loop will indeed terminate! "
   ]
  },
  {
   "cell_type": "code",
   "execution_count": 20,
   "metadata": {},
   "outputs": [],
   "source": [
    "done = False\n",
    "i = 1\n",
    "\n",
    "while not done:\n",
    "    i += 1\n",
    "    done = i > 5"
   ]
  },
  {
   "cell_type": "markdown",
   "metadata": {},
   "source": [
    "Remember also that the full body of the loop executes *after* checking the condition. For example, consider the following attempt to find the largest power of 3 less than 10,000:"
   ]
  },
  {
   "cell_type": "code",
   "execution_count": 17,
   "metadata": {},
   "outputs": [
    {
     "data": {
      "text/plain": [
       "177147"
      ]
     },
     "execution_count": 17,
     "metadata": {},
     "output_type": "execute_result"
    }
   ],
   "source": [
    "# largest power of 3 less than 10,000 -- failed\n",
    "\n",
    "x = 1\n",
    "while x < 1e5:\n",
    "    x *= 3\n",
    "x # oops!"
   ]
  },
  {
   "cell_type": "markdown",
   "metadata": {},
   "source": [
    "This function fails because the multiplication occurs after the condition `x < 1e5` is checked. So, instead we have to do this: "
   ]
  },
  {
   "cell_type": "code",
   "execution_count": 2,
   "metadata": {},
   "outputs": [
    {
     "data": {
      "text/plain": [
       "59049"
      ]
     },
     "execution_count": 2,
     "metadata": {},
     "output_type": "execute_result"
    }
   ],
   "source": [
    "# largest power of 3 less than 10,000\n",
    "\n",
    "x = 1\n",
    "while 3*x < 1e5:\n",
    "    x *= 3\n",
    "x # ok!"
   ]
  },
  {
   "cell_type": "markdown",
   "metadata": {},
   "source": [
    "## Branching with If-Statements\n",
    "\n",
    "If-statements allow you to perform different blocks of code based on simple logical tests. "
   ]
  },
  {
   "cell_type": "code",
   "execution_count": 42,
   "metadata": {},
   "outputs": [
    {
     "name": "stdout",
     "output_type": "stream",
     "text": [
      "McCoy is not a commanding officer.\n"
     ]
    }
   ],
   "source": [
    "s = \"McCoy\"\n",
    "\n",
    "if s in [\"Kirk\", \"Picard\", \"Janeway\"]:\n",
    "    print(s + \" is captain of a starship.\")\n",
    "elif s in [\"Sisko\"]:\n",
    "    print(s + \" is captain of a space station.\")\n",
    "else:\n",
    "    print(s + \" is not a commanding officer.\")"
   ]
  },
  {
   "cell_type": "markdown",
   "metadata": {},
   "source": [
    "Branching is often particularly powerful within loops. "
   ]
  },
  {
   "cell_type": "code",
   "execution_count": 44,
   "metadata": {},
   "outputs": [
    {
     "name": "stdout",
     "output_type": "stream",
     "text": [
      "1\n",
      "3\n",
      "5\n",
      "7\n",
      "9\n"
     ]
    }
   ],
   "source": [
    "# print odd numbers 1-9\n",
    "\n",
    "for i in range(10):\n",
    "    if i % 2 == 1:\n",
    "        print(i)"
   ]
  }
 ],
 "metadata": {
  "kernelspec": {
   "display_name": "Python 3",
   "language": "python",
   "name": "python3"
  },
  "language_info": {
   "codemirror_mode": {
    "name": "ipython",
    "version": 3
   },
   "file_extension": ".py",
   "mimetype": "text/x-python",
   "name": "python",
   "nbconvert_exporter": "python",
   "pygments_lexer": "ipython3",
   "version": "3.8.3"
  }
 },
 "nbformat": 4,
 "nbformat_minor": 4
}
