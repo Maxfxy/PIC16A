{
 "cells": [
  {
   "cell_type": "markdown",
   "metadata": {},
   "source": [
    "# Reading and Writing Files\n",
    "\n",
    "In this lecture, we'll discuss some basic methods for reading and writing files. Our primary focus today will be on text. We'll also briefly discuss reading *delimited files*, such as `.csv`s, but we'll spend more time on these when we work with rectangular data using the `pandas` module. \n",
    "\n",
    "## Writing Data\n",
    "\n",
    "Whenever we interact with a file -- including creating, writing, and reading -- we will use the `open()` function. We need to specify both the path to the file and the *mode* of interaction. For example, `\"w\"` specifies that we want to *write* to the file.  "
   ]
  },
  {
   "cell_type": "code",
   "execution_count": 1,
   "metadata": {},
   "outputs": [],
   "source": [
    "f = open(\"my_file.txt\", \"w\") "
   ]
  },
  {
   "cell_type": "markdown",
   "metadata": {},
   "source": [
    "In the file explorer, we can see that `my_file.txt` has been created! Additionally, a variable `f` has been assigned. "
   ]
  },
  {
   "cell_type": "code",
   "execution_count": 2,
   "metadata": {},
   "outputs": [
    {
     "data": {
      "text/plain": [
       "<_io.TextIOWrapper name='my_file.txt' mode='w' encoding='UTF-8'>"
      ]
     },
     "execution_count": 2,
     "metadata": {},
     "output_type": "execute_result"
    }
   ],
   "source": [
    "f"
   ]
  },
  {
   "cell_type": "markdown",
   "metadata": {},
   "source": [
    "Let's write some text to `f`. The return value of `write()` is the number of characters in the string. "
   ]
  },
  {
   "cell_type": "code",
   "execution_count": 3,
   "metadata": {},
   "outputs": [
    {
     "data": {
      "text/plain": [
       "13"
      ]
     },
     "execution_count": 3,
     "metadata": {},
     "output_type": "execute_result"
    }
   ],
   "source": [
    "f.write(\"To boldly go\\n\") # \\n starts a newline"
   ]
  },
  {
   "cell_type": "markdown",
   "metadata": {},
   "source": [
    "Even after calling `f.write()`, we won't be able to inspect the new text we've written until we *close* the connection: "
   ]
  },
  {
   "cell_type": "code",
   "execution_count": 4,
   "metadata": {},
   "outputs": [],
   "source": [
    "f.close()"
   ]
  },
  {
   "cell_type": "markdown",
   "metadata": {},
   "source": [
    "Once we've closed the connection, we can't write any more text to `f`: "
   ]
  },
  {
   "cell_type": "code",
   "execution_count": 5,
   "metadata": {},
   "outputs": [
    {
     "ename": "ValueError",
     "evalue": "I/O operation on closed file.",
     "output_type": "error",
     "traceback": [
      "\u001b[0;31m---------------------------------------------------------------------------\u001b[0m",
      "\u001b[0;31mValueError\u001b[0m                                Traceback (most recent call last)",
      "\u001b[0;32m<ipython-input-5-41cd70a8b76e>\u001b[0m in \u001b[0;36m<module>\u001b[0;34m\u001b[0m\n\u001b[0;32m----> 1\u001b[0;31m \u001b[0mf\u001b[0m\u001b[0;34m.\u001b[0m\u001b[0mwrite\u001b[0m\u001b[0;34m(\u001b[0m\u001b[0;34m\"where no one has gone before\"\u001b[0m\u001b[0;34m)\u001b[0m\u001b[0;34m\u001b[0m\u001b[0;34m\u001b[0m\u001b[0m\n\u001b[0m\u001b[1;32m      2\u001b[0m \u001b[0;31m# ---\u001b[0m\u001b[0;34m\u001b[0m\u001b[0;34m\u001b[0m\u001b[0;34m\u001b[0m\u001b[0m\n",
      "\u001b[0;31mValueError\u001b[0m: I/O operation on closed file."
     ]
    }
   ],
   "source": [
    "f.write(\"where no one has gone before\")\n",
    "# ---"
   ]
  },
  {
   "cell_type": "markdown",
   "metadata": {},
   "source": [
    "You should **always** close files after you have opened them. However, there is a nice syntactical way to avoid having to remember to do this, using the `with` keyword: "
   ]
  },
  {
   "cell_type": "code",
   "execution_count": 6,
   "metadata": {},
   "outputs": [],
   "source": [
    "with open(\"my_file2.txt\", \"w\") as f:\n",
    "    f.write(\"To boldly go\\n\")"
   ]
  },
  {
   "cell_type": "markdown",
   "metadata": {},
   "source": [
    "You can think of the `with` keyword as temporarily assigning the name `f` within a local scope. Once the local scope terminates, the variables created within that scope are discarded. This process has the convenient effect of automatically closing `f` for us. You should usually use `with` rather than `open()` and `f.close()` unless there are concrete requirements otherwise. \n",
    "\n",
    "A very common pattern is to loop over data and write it line-by-line to a file. Here's an example: "
   ]
  },
  {
   "cell_type": "code",
   "execution_count": 7,
   "metadata": {},
   "outputs": [],
   "source": [
    "D = {\"Chihiro\"  : \"Spirited Away\",\n",
    "     \"Ashitaka\" : \"Princess Mononoke\",\n",
    "     \"Sophie\"   : \"Howl's Moving Castle\"}\n",
    "\n",
    "with open(\"movies.txt\", \"w\") as f:\n",
    "    for key, val in D.items():\n",
    "        f.write(key + \" is the protagnist of \" + val + \".\\n\")"
   ]
  },
  {
   "cell_type": "markdown",
   "metadata": {},
   "source": [
    "The use of the `\"w\"` argument to `open()` will erase an existing file `movies.txt` if one exists. To append to the file, use mode `\"a\"` instead:  "
   ]
  },
  {
   "cell_type": "code",
   "execution_count": 8,
   "metadata": {},
   "outputs": [],
   "source": [
    "with open(\"movies.txt\", \"a\") as f:\n",
    "    f.write(\"Satsuki and Mei are the protagonists of My Neighbor Totoro.\")"
   ]
  },
  {
   "cell_type": "markdown",
   "metadata": {},
   "source": [
    "## Reading Data\n",
    "\n",
    "Reading data is not difficult, provided that you can remember iterators. The `f.readline()` method returns the current line of the file and then advances to the next line, very similar to the `__next__()` method of iterators. "
   ]
  },
  {
   "cell_type": "code",
   "execution_count": 18,
   "metadata": {},
   "outputs": [
    {
     "name": "stdout",
     "output_type": "stream",
     "text": [
      "Chihiro is the protagnist of Spirited Away.\n",
      "\n",
      "Ashitaka is the protagnist of Princess Mononoke.\n",
      "\n"
     ]
    }
   ],
   "source": [
    "with open(\"movies.txt\", \"r\") as f:\n",
    "    print(f.readline())\n",
    "    print(f.readline())"
   ]
  },
  {
   "cell_type": "code",
   "execution_count": 21,
   "metadata": {},
   "outputs": [
    {
     "name": "stdout",
     "output_type": "stream",
     "text": [
      "Chihiro is the protagnist of Spirited Away.\n",
      "Ashitaka is the protagnist of Princess Mononoke.\n",
      "Sophie is the protagnist of Howl's Moving Castle.\n",
      "Satsuki and Mei are the protagonists of My Neighbor Totoro."
     ]
    }
   ],
   "source": [
    "with open(\"movies.txt\", \"r\") as f:\n",
    "    for line in f:\n",
    "        print(line, end = \"\")"
   ]
  },
  {
   "cell_type": "markdown",
   "metadata": {},
   "source": [
    "## (Optional): CSV Files\n",
    "\n",
    "`CSV` standands for \"comma-separated values,\" and it is a common format for representing tabular data. A raw `.csv` file might look like this: \n",
    "\n",
    "```csv\n",
    "\n",
    "\"Picard\", \"TNG\", \"Enterprise D\" \n",
    "\"Kirk\", \"TOS\", \"Enterprise A\"\n",
    "\"Janeway\", \"VOY\", \"Voyager\"\n",
    ".\n",
    ".\n",
    ".\n",
    "```\n",
    "\n",
    "Python offers a `csv` module that offers some utilities for reading and writing `csv` files. For example, let's take a quick peek at the [Palmer penguins] data set, which were collected by [Dr. Kristen Gorman](https://www.uaf.edu/cfos/people/faculty/detail/kristen-gorman.php) and the [Palmer Station, Antarctica LTER](https://pal.lternet.edu/), a member of the [Long Term Ecological Research Network](https://lternet.edu/). I downloaded these data from [Kaggle](https://www.kaggle.com/), an excellent source of interesting data sets. The file `palmer_penguins.csv` can be downloaded from \n",
    "\n"
   ]
  },
  {
   "cell_type": "code",
   "execution_count": 31,
   "metadata": {},
   "outputs": [
    {
     "name": "stdout",
     "output_type": "stream",
     "text": [
      "['studyName', 'Sample Number', 'Species', 'Region', 'Island']\n",
      "['PAL0708', '1', 'Adelie Penguin (Pygoscelis adeliae)', 'Anvers', 'Torgersen']\n",
      "['PAL0708', '2', 'Adelie Penguin (Pygoscelis adeliae)', 'Anvers', 'Torgersen']\n",
      "['PAL0708', '3', 'Adelie Penguin (Pygoscelis adeliae)', 'Anvers', 'Torgersen']\n",
      "['PAL0708', '4', 'Adelie Penguin (Pygoscelis adeliae)', 'Anvers', 'Torgersen']\n",
      "['PAL0708', '5', 'Adelie Penguin (Pygoscelis adeliae)', 'Anvers', 'Torgersen']\n",
      "['PAL0708', '6', 'Adelie Penguin (Pygoscelis adeliae)', 'Anvers', 'Torgersen']\n",
      "['PAL0708', '7', 'Adelie Penguin (Pygoscelis adeliae)', 'Anvers', 'Torgersen']\n",
      "['PAL0708', '8', 'Adelie Penguin (Pygoscelis adeliae)', 'Anvers', 'Torgersen']\n",
      "['PAL0708', '9', 'Adelie Penguin (Pygoscelis adeliae)', 'Anvers', 'Torgersen']\n"
     ]
    }
   ],
   "source": [
    "with open(\"palmer_penguins.csv\", \"r\") as f:\n",
    "    reader = csv.reader(f)\n",
    "    for row in list(reader)[0:10]: # just the headers and first 10 rows\n",
    "        print(row[0:5])            # just the first six columns"
   ]
  },
  {
   "cell_type": "markdown",
   "metadata": {},
   "source": []
  },
  {
   "cell_type": "code",
   "execution_count": 34,
   "metadata": {},
   "outputs": [
    {
     "ename": "UnsupportedOperation",
     "evalue": "not readable",
     "output_type": "error",
     "traceback": [
      "\u001b[0;31m---------------------------------------------------------------------------\u001b[0m",
      "\u001b[0;31mUnsupportedOperation\u001b[0m                      Traceback (most recent call last)",
      "\u001b[0;32m<ipython-input-34-35e5a4677d7d>\u001b[0m in \u001b[0;36m<module>\u001b[0;34m\u001b[0m\n\u001b[1;32m      1\u001b[0m \u001b[0;32mwith\u001b[0m \u001b[0mopen\u001b[0m\u001b[0;34m(\u001b[0m\u001b[0;34m\"palmer_penguins_subset.csv\"\u001b[0m\u001b[0;34m,\u001b[0m \u001b[0;34m\"w\"\u001b[0m\u001b[0;34m)\u001b[0m \u001b[0;32mas\u001b[0m \u001b[0mf\u001b[0m\u001b[0;34m:\u001b[0m\u001b[0;34m\u001b[0m\u001b[0;34m\u001b[0m\u001b[0m\n\u001b[1;32m      2\u001b[0m     \u001b[0mwriter\u001b[0m \u001b[0;34m=\u001b[0m \u001b[0mcsv\u001b[0m\u001b[0;34m.\u001b[0m\u001b[0mwriter\u001b[0m\u001b[0;34m(\u001b[0m\u001b[0mf\u001b[0m\u001b[0;34m)\u001b[0m\u001b[0;34m\u001b[0m\u001b[0;34m\u001b[0m\u001b[0m\n\u001b[0;32m----> 3\u001b[0;31m     \u001b[0;32mfor\u001b[0m \u001b[0mrow\u001b[0m \u001b[0;32min\u001b[0m \u001b[0mf\u001b[0m\u001b[0;34m:\u001b[0m\u001b[0;34m\u001b[0m\u001b[0;34m\u001b[0m\u001b[0m\n\u001b[0m\u001b[1;32m      4\u001b[0m         \u001b[0mwriter\u001b[0m\u001b[0;34m.\u001b[0m\u001b[0mwriterow\u001b[0m\u001b[0;34m(\u001b[0m\u001b[0mrow\u001b[0m\u001b[0;34m)\u001b[0m\u001b[0;34m\u001b[0m\u001b[0;34m\u001b[0m\u001b[0m\n",
      "\u001b[0;31mUnsupportedOperation\u001b[0m: not readable"
     ]
    }
   ],
   "source": [
    "with open(\"palmer_penguins_subset.csv\", \"w\") as f:\n",
    "    writer = csv.writer(f)\n",
    "    for row in f:\n",
    "        writer.writerow(row)"
   ]
  },
  {
   "cell_type": "code",
   "execution_count": null,
   "metadata": {},
   "outputs": [],
   "source": []
  }
 ],
 "metadata": {
  "kernelspec": {
   "display_name": "Python 3",
   "language": "python",
   "name": "python3"
  },
  "language_info": {
   "codemirror_mode": {
    "name": "ipython",
    "version": 3
   },
   "file_extension": ".py",
   "mimetype": "text/x-python",
   "name": "python",
   "nbconvert_exporter": "python",
   "pygments_lexer": "ipython3",
   "version": "3.8.3"
  }
 },
 "nbformat": 4,
 "nbformat_minor": 4
}
