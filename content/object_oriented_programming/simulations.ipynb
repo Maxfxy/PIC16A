{
 "cells": [
  {
   "cell_type": "markdown",
   "metadata": {},
   "source": [
    "# Object-Oriented Simulations\n",
    "\n",
    "In many cases, it's desirable to implement **memory** in some form. For example, we might want a function that keeps track of how many time it's been called, or a simulation that keeps track of its current state. As we discussed a few lectures ago, global variables provide a highly unsafe solution to this problem. Instead, take an object-oriented approach! Here's a very simple object that keeps track of the number of times its `increment` method has been called. "
   ]
  },
  {
   "cell_type": "code",
   "execution_count": 5,
   "metadata": {},
   "outputs": [],
   "source": [
    "class counter:\n",
    "    def __init__(self):\n",
    "        self.count = 0\n",
    "    \n",
    "    def increment(self):\n",
    "        self.count+=1\n",
    "        return self.count"
   ]
  },
  {
   "cell_type": "code",
   "execution_count": 6,
   "metadata": {},
   "outputs": [
    {
     "data": {
      "text/plain": [
       "1"
      ]
     },
     "execution_count": 6,
     "metadata": {},
     "output_type": "execute_result"
    }
   ],
   "source": [
    "c = counter()\n",
    "c.increment()"
   ]
  },
  {
   "cell_type": "code",
   "execution_count": 10,
   "metadata": {},
   "outputs": [
    {
     "data": {
      "text/plain": [
       "(7, 8)"
      ]
     },
     "execution_count": 10,
     "metadata": {},
     "output_type": "execute_result"
    }
   ],
   "source": [
    "c.increment(), c.increment()"
   ]
  },
  {
   "cell_type": "markdown",
   "metadata": {},
   "source": [
    "Here's a class that implements a discrete-time, one-dimensional, unbiased [random walk](https://en.wikipedia.org/wiki/Random_walk). That's a lot of jargon, but it means something simple: at each discrete timestep, we flip a fair coin and move one step either left or right, depending on whether we get heads or tails. In this case, \"left\" is in the negative direction and \"right\" is in the positive direction. "
   ]
  },
  {
   "cell_type": "code",
   "execution_count": 112,
   "metadata": {},
   "outputs": [],
   "source": [
    "from random import choice\n",
    "\n",
    "class RandomWalk:\n",
    "    \"\"\"\n",
    "    A discrete-time, one-dimensional random walk without bias. \n",
    "    \"\"\"\n",
    "    def __init__(self):\n",
    "        self.pos = 0\n",
    "        self.steps = []\n",
    "        \n",
    "    def step(self):\n",
    "        \"\"\"\n",
    "        Flip a fair coin and add either -1 or 1 to self.pos, according to the result. \n",
    "        Additionally, add the direction of the update to self.steps\n",
    "        \"\"\"\n",
    "        s = choice([-1,1])\n",
    "        self.pos   += s\n",
    "        self.steps += [s]\n",
    "        \n",
    "    def simulate(self, n_steps = 1):\n",
    "        \"\"\"\n",
    "        Repeat self.step() a user-specified number of times. \n",
    "        \"\"\"\n",
    "        for i in range(n_steps):\n",
    "            self.step()"
   ]
  },
  {
   "cell_type": "code",
   "execution_count": 113,
   "metadata": {},
   "outputs": [],
   "source": [
    "R = RandomWalk()"
   ]
  },
  {
   "cell_type": "code",
   "execution_count": 114,
   "metadata": {},
   "outputs": [],
   "source": [
    "R.simulate(10)"
   ]
  },
  {
   "cell_type": "code",
   "execution_count": 115,
   "metadata": {},
   "outputs": [
    {
     "data": {
      "text/plain": [
       "[-1, 1, 1, -1, 1, 1, -1, -1, 1, 1]"
      ]
     },
     "execution_count": 115,
     "metadata": {},
     "output_type": "execute_result"
    }
   ],
   "source": [
    "R.steps"
   ]
  },
  {
   "cell_type": "markdown",
   "metadata": {},
   "source": [
    "This is a very useful pattern for performing scientific simulations in Python. We define a class with: \n",
    "\n",
    "- An `__init__()` method that sets the initial state of the simulation, and also sets up any \"collector\"-type objects that we'll use to store results. \n",
    "- A method (`step()`, in our case) that updates the state and other results. \n",
    "- A method (`simulate()`, in our case) that calls the update method many times. \n",
    "\n",
    "I have published multiple papers whose code is written in exactly this way! "
   ]
  }
 ],
 "metadata": {
  "kernelspec": {
   "display_name": "Python 3.7.2 64-bit",
   "language": "python",
   "name": "python37264bit4a2e9be422294fc3a9a080314b1a5773"
  },
  "language_info": {
   "codemirror_mode": {
    "name": "ipython",
    "version": 3
   },
   "file_extension": ".py",
   "mimetype": "text/x-python",
   "name": "python",
   "nbconvert_exporter": "python",
   "pygments_lexer": "ipython3",
   "version": "3.7.2"
  }
 },
 "nbformat": 4,
 "nbformat_minor": 4
}
