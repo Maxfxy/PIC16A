{
 "cells": [
  {
   "cell_type": "markdown",
   "metadata": {},
   "source": [
    "# More Iterators\n",
    "\n",
    "In this lecture, we'll construct a more complex iterator example. Our goal is to implement a `sortedDict` class such that, when we iterate over key-value pairs, always returns these pairs in sorted order according to the keys. We'll define this class as a subclass of `dict`, so we will automatically inherit all the standard `dict` behavior. We just need to define the `__iter__()` and `__next__()` methods. It would be interesting to extend this class to allow custom sorting behavior. For now, we'll just rely on the built-in list-sorting. \n",
    "\n",
    "Recall that dictionaries, by default implementation, do not have any set order. "
   ]
  },
  {
   "cell_type": "code",
   "execution_count": 1,
   "metadata": {},
   "outputs": [],
   "source": [
    "D = {\n",
    "    \"TNG\" : \"Picard\",\n",
    "    \"TOS\" : \"Kirk\", \n",
    "    \"DS9\" : \"Sisko\", \n",
    "    \"ENT\" : \"Archer\"\n",
    "}\n",
    "for key in D:\n",
    "    print(key)\n",
    "# ---"
   ]
  },
  {
   "cell_type": "markdown",
   "metadata": {},
   "source": [
    "We'll define both a `sortedDict` class and a `sortedDictIterator` class, and implement `__next__()` in the second class. The first class definition is very short! "
   ]
  },
  {
   "cell_type": "code",
   "execution_count": 2,
   "metadata": {},
   "outputs": [],
   "source": [
    "class sortedDict(dict):\n",
    "    \"\"\"\n",
    "    A subclass of `dict` that supports sorted iteration via the sortedDictIterator class\n",
    "    \"\"\"\n",
    "    \n",
    "    def __iter__(self):\n",
    "        \"\"\"\n",
    "        overrides dict.__iter__()\n",
    "        \"\"\"\n",
    "        return sortedDictIterator(self)"
   ]
  },
  {
   "cell_type": "markdown",
   "metadata": {},
   "source": [
    "Ok, now let's move on to the `sortedDictIterator`. We need to store the current index `i` and "
   ]
  },
  {
   "cell_type": "code",
   "execution_count": 3,
   "metadata": {},
   "outputs": [],
   "source": [
    "class sortedDictIterator():\n",
    "    \"\"\"\n",
    "    an iterator class that enables sorted iteration in sortedDict class\n",
    "    \"\"\"\n",
    "    \n",
    "    def __init__(self, sD):\n",
    "        self.i = 0\n",
    "        self.keys = list(sD.keys())\n",
    "        self.keys.sort()\n",
    "    \n",
    "    def __next__(self):\n",
    "        if self.i == len(self.keys):\n",
    "            raise StopIteration\n",
    "        \n",
    "        key = self.keys[self.i]\n",
    "        self.i += 1\n",
    "        \n",
    "        return(key, sD[key])"
   ]
  },
  {
   "cell_type": "markdown",
   "metadata": {},
   "source": [
    "Now we can try it out: "
   ]
  },
  {
   "cell_type": "code",
   "execution_count": 11,
   "metadata": {},
   "outputs": [],
   "source": [
    "D\n",
    "del sD\n",
    "cat = sortedDict(D)\n",
    "\n"
   ]
  },
  {
   "cell_type": "code",
   "execution_count": 12,
   "metadata": {},
   "outputs": [
    {
     "ename": "NameError",
     "evalue": "name 'sD' is not defined",
     "output_type": "error",
     "traceback": [
      "\u001b[1;31m---------------------------------------------------------------------------\u001b[0m",
      "\u001b[1;31mNameError\u001b[0m                                 Traceback (most recent call last)",
      "\u001b[1;32m<ipython-input-12-54a9a39099a5>\u001b[0m in \u001b[0;36m<module>\u001b[1;34m\u001b[0m\n\u001b[1;32m----> 1\u001b[1;33m \u001b[1;32mfor\u001b[0m \u001b[1;33m(\u001b[0m\u001b[0mkey\u001b[0m\u001b[1;33m,\u001b[0m \u001b[0mval\u001b[0m\u001b[1;33m)\u001b[0m \u001b[1;32min\u001b[0m \u001b[0mcat\u001b[0m\u001b[1;33m:\u001b[0m\u001b[1;33m\u001b[0m\u001b[1;33m\u001b[0m\u001b[0m\n\u001b[0m\u001b[0;32m      2\u001b[0m     \u001b[0mprint\u001b[0m\u001b[1;33m(\u001b[0m\u001b[0mkey\u001b[0m\u001b[1;33m,\u001b[0m \u001b[0mval\u001b[0m\u001b[1;33m)\u001b[0m\u001b[1;33m\u001b[0m\u001b[1;33m\u001b[0m\u001b[0m\n",
      "\u001b[1;32m<ipython-input-3-0e6bef97aee6>\u001b[0m in \u001b[0;36m__next__\u001b[1;34m(self)\u001b[0m\n\u001b[0;32m     16\u001b[0m         \u001b[0mself\u001b[0m\u001b[1;33m.\u001b[0m\u001b[0mi\u001b[0m \u001b[1;33m+=\u001b[0m \u001b[1;36m1\u001b[0m\u001b[1;33m\u001b[0m\u001b[1;33m\u001b[0m\u001b[0m\n\u001b[0;32m     17\u001b[0m \u001b[1;33m\u001b[0m\u001b[0m\n\u001b[1;32m---> 18\u001b[1;33m         \u001b[1;32mreturn\u001b[0m\u001b[1;33m(\u001b[0m\u001b[0mkey\u001b[0m\u001b[1;33m,\u001b[0m \u001b[0msD\u001b[0m\u001b[1;33m[\u001b[0m\u001b[0mkey\u001b[0m\u001b[1;33m]\u001b[0m\u001b[1;33m)\u001b[0m\u001b[1;33m\u001b[0m\u001b[1;33m\u001b[0m\u001b[0m\n\u001b[0m",
      "\u001b[1;31mNameError\u001b[0m: name 'sD' is not defined"
     ]
    }
   ],
   "source": [
    "for (key, val) in cat:\n",
    "    print(key, val)"
   ]
  },
  {
   "cell_type": "markdown",
   "metadata": {},
   "source": [
    "Looks good! "
   ]
  }
 ],
 "metadata": {
  "kernelspec": {
   "display_name": "Python 3",
   "language": "python",
   "name": "python3"
  },
  "language_info": {
   "codemirror_mode": {
    "name": "ipython",
    "version": 3
   },
   "file_extension": ".py",
   "mimetype": "text/x-python",
   "name": "python",
   "nbconvert_exporter": "python",
   "pygments_lexer": "ipython3",
   "version": "3.8.5"
  }
 },
 "nbformat": 4,
 "nbformat_minor": 4
}
