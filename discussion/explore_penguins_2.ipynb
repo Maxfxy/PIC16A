{
 "cells": [
  {
   "cell_type": "markdown",
   "metadata": {},
   "source": [
    "# Discussion 14\n",
    "\n",
    "This Discussion activity is a component of your [group mini-project](https://philchodrow.github.io/PIC16A/project/). While the usual Discussion expectations apply with regards to your participation grade (i.e. if y|ou work for the full 50 minutes, you will get full credit), it is recommended for the purposes of your final project that you coordinate with your group to eventually complete all parts of this assignment. \n",
    "\n",
    "## Group Roles\n",
    "\n",
    "The roles for this Discussion activity are slightly modified. The Driver and Proposer are the same as usual. Instead of a Reviewer, use an **Interpreter**. The job of the Interpreter is to think about the significance of each of the code outputs in the context of the long-term project goal (classifying penguin species). In parts of the Discussion where the problems ask you to explain or interpret your findings, the Interpreter should suggest responses to the Proposer and Driver. The **Interpreter** may also give code feedback when the group is writing functions. \n",
    "\n",
    "## Part A\n",
    "\n",
    "Run the below code to load inyour necessary libraries and read in the Palmer Penguins data set as a `pandas` data frame called `penguins`. "
   ]
  },
  {
   "cell_type": "code",
   "execution_count": 13,
   "metadata": {},
   "outputs": [],
   "source": [
    "import pandas as pd\n",
    "import numpy as np\n",
    "import urllib\n",
    "from matplotlib import pyplot as plt\n",
    "\n",
    "url = \"https://philchodrow.github.io/PIC16A/datasets/palmer_penguins.csv\"\n",
    "filedata = urllib.request.urlopen(url)\n",
    "to_write = filedata.read()\n",
    "\n",
    "with open(\"palmer_penguins.csv\", \"wb\") as f:\n",
    "    f.write(to_write)\n",
    "    \n",
    "penguins = pd.read_csv(\"palmer_penguins.csv\")\n",
    "\n",
    "# shorten the species name\n",
    "penguins[\"Species\"] = penguins[\"Species\"].str.split().str.get(0)"
   ]
  },
  {
   "cell_type": "code",
   "execution_count": 14,
   "metadata": {},
   "outputs": [],
   "source": [
    "# optional code here if you need to refresh your memory of the data set\n"
   ]
  },
  {
   "cell_type": "markdown",
   "metadata": {},
   "source": [
    "## Part B\n",
    "\n",
    "Write a function called `penguin_summary_table` which accepts two arguments, `group_cols` and `value_cols`. This function should create a table in which the mean of each element of `value_cols` is shown, grouped according to the specified `group_cols`. For example, the call \n",
    "\n",
    "```python\n",
    "penguin_summary_table([\"Species\"], [\"Culmen Length (mm)\", \"Culmen Depth (mm)\"])\n",
    "```\n",
    "\n",
    "should produce a summary table with the mean culmen length and depth per species. \n",
    "\n",
    "For a more pleasant display, **round the numbers in your table to 2 decimal places**. This can be done using the code `my_data_frame.round(2)`. \n",
    "\n",
    "This function can be implemented in just a few lines. Comments and docstrings are not necessary. "
   ]
  },
  {
   "cell_type": "code",
   "execution_count": null,
   "metadata": {},
   "outputs": [],
   "source": [
    "# your solution here\n"
   ]
  },
  {
   "cell_type": "markdown",
   "metadata": {},
   "source": [
    "## Part  C\n",
    "\n",
    "Use your function to explore the data a bit. Focus on the physiological variables:\n",
    "\n",
    "- `Culmen Length (mm)`\n",
    "- `Culmen Depth (mm)`\n",
    "- `Flipper Length (mm)`\n",
    "- `Body Mass (g)`\n",
    "- `Delta 15 N (o/oo)`\n",
    "- `Delta 13 C (o/oo)`\n",
    "\n",
    "These last two variables are measures of nitrogen and carbon isotopes in the penguin's bloodstreams. \n",
    "\n",
    "**Create at least three readable summary tables.** Then, work with your **Interpreter** to explain the significance of each table. Do observe any important differences between the penguin species?\n",
    "\n",
    "Make sure that each table has a message, and that no information is shown that is not part of that message. Is there a part of the table that you have nothing to say about? Remove it! \n",
    "\n",
    "\n",
    "- **Hint**: \"This table suggests that there's not much of a difference between...\" is a fine explanation of the table, as long as it's warranted. \n",
    "- **Hint**: consider the sex of the penguins as well as the species. "
   ]
  },
  {
   "cell_type": "code",
   "execution_count": 16,
   "metadata": {},
   "outputs": [
    {
     "data": {
      "text/html": [
       "<div>\n",
       "<style scoped>\n",
       "    .dataframe tbody tr th:only-of-type {\n",
       "        vertical-align: middle;\n",
       "    }\n",
       "\n",
       "    .dataframe tbody tr th {\n",
       "        vertical-align: top;\n",
       "    }\n",
       "\n",
       "    .dataframe thead th {\n",
       "        text-align: right;\n",
       "    }\n",
       "</style>\n",
       "<table border=\"1\" class=\"dataframe\">\n",
       "  <thead>\n",
       "    <tr style=\"text-align: right;\">\n",
       "      <th></th>\n",
       "      <th>Culmen Length (mm)</th>\n",
       "      <th>Culmen Depth (mm)</th>\n",
       "    </tr>\n",
       "    <tr>\n",
       "      <th>Species</th>\n",
       "      <th></th>\n",
       "      <th></th>\n",
       "    </tr>\n",
       "  </thead>\n",
       "  <tbody>\n",
       "    <tr>\n",
       "      <th>Adelie</th>\n",
       "      <td>38.79</td>\n",
       "      <td>18.35</td>\n",
       "    </tr>\n",
       "    <tr>\n",
       "      <th>Chinstrap</th>\n",
       "      <td>48.83</td>\n",
       "      <td>18.42</td>\n",
       "    </tr>\n",
       "    <tr>\n",
       "      <th>Gentoo</th>\n",
       "      <td>47.50</td>\n",
       "      <td>14.98</td>\n",
       "    </tr>\n",
       "  </tbody>\n",
       "</table>\n",
       "</div>"
      ],
      "text/plain": [
       "           Culmen Length (mm)  Culmen Depth (mm)\n",
       "Species                                         \n",
       "Adelie                  38.79              18.35\n",
       "Chinstrap               48.83              18.42\n",
       "Gentoo                  47.50              14.98"
      ]
     },
     "execution_count": 16,
     "metadata": {},
     "output_type": "execute_result"
    }
   ],
   "source": [
    "# Table 1\n"
   ]
  },
  {
   "cell_type": "markdown",
   "metadata": {},
   "source": [
    "#### Discussion of Table 1"
   ]
  },
  {
   "cell_type": "code",
   "execution_count": 17,
   "metadata": {},
   "outputs": [
    {
     "data": {
      "text/html": [
       "<div>\n",
       "<style scoped>\n",
       "    .dataframe tbody tr th:only-of-type {\n",
       "        vertical-align: middle;\n",
       "    }\n",
       "\n",
       "    .dataframe tbody tr th {\n",
       "        vertical-align: top;\n",
       "    }\n",
       "\n",
       "    .dataframe thead th {\n",
       "        text-align: right;\n",
       "    }\n",
       "</style>\n",
       "<table border=\"1\" class=\"dataframe\">\n",
       "  <thead>\n",
       "    <tr style=\"text-align: right;\">\n",
       "      <th></th>\n",
       "      <th></th>\n",
       "      <th></th>\n",
       "      <th>Body Mass (g)</th>\n",
       "    </tr>\n",
       "    <tr>\n",
       "      <th>Species</th>\n",
       "      <th>Sex</th>\n",
       "      <th>Island</th>\n",
       "      <th></th>\n",
       "    </tr>\n",
       "  </thead>\n",
       "  <tbody>\n",
       "    <tr>\n",
       "      <th rowspan=\"6\" valign=\"top\">Adelie</th>\n",
       "      <th rowspan=\"3\" valign=\"top\">FEMALE</th>\n",
       "      <th>Biscoe</th>\n",
       "      <td>3369.32</td>\n",
       "    </tr>\n",
       "    <tr>\n",
       "      <th>Dream</th>\n",
       "      <td>3344.44</td>\n",
       "    </tr>\n",
       "    <tr>\n",
       "      <th>Torgersen</th>\n",
       "      <td>3395.83</td>\n",
       "    </tr>\n",
       "    <tr>\n",
       "      <th rowspan=\"3\" valign=\"top\">MALE</th>\n",
       "      <th>Biscoe</th>\n",
       "      <td>4050.00</td>\n",
       "    </tr>\n",
       "    <tr>\n",
       "      <th>Dream</th>\n",
       "      <td>4045.54</td>\n",
       "    </tr>\n",
       "    <tr>\n",
       "      <th>Torgersen</th>\n",
       "      <td>4034.78</td>\n",
       "    </tr>\n",
       "    <tr>\n",
       "      <th rowspan=\"2\" valign=\"top\">Chinstrap</th>\n",
       "      <th>FEMALE</th>\n",
       "      <th>Dream</th>\n",
       "      <td>3527.21</td>\n",
       "    </tr>\n",
       "    <tr>\n",
       "      <th>MALE</th>\n",
       "      <th>Dream</th>\n",
       "      <td>3938.97</td>\n",
       "    </tr>\n",
       "    <tr>\n",
       "      <th rowspan=\"3\" valign=\"top\">Gentoo</th>\n",
       "      <th>.</th>\n",
       "      <th>Biscoe</th>\n",
       "      <td>4875.00</td>\n",
       "    </tr>\n",
       "    <tr>\n",
       "      <th>FEMALE</th>\n",
       "      <th>Biscoe</th>\n",
       "      <td>4679.74</td>\n",
       "    </tr>\n",
       "    <tr>\n",
       "      <th>MALE</th>\n",
       "      <th>Biscoe</th>\n",
       "      <td>5484.84</td>\n",
       "    </tr>\n",
       "  </tbody>\n",
       "</table>\n",
       "</div>"
      ],
      "text/plain": [
       "                            Body Mass (g)\n",
       "Species   Sex    Island                  \n",
       "Adelie    FEMALE Biscoe           3369.32\n",
       "                 Dream            3344.44\n",
       "                 Torgersen        3395.83\n",
       "          MALE   Biscoe           4050.00\n",
       "                 Dream            4045.54\n",
       "                 Torgersen        4034.78\n",
       "Chinstrap FEMALE Dream            3527.21\n",
       "          MALE   Dream            3938.97\n",
       "Gentoo    .      Biscoe           4875.00\n",
       "          FEMALE Biscoe           4679.74\n",
       "          MALE   Biscoe           5484.84"
      ]
     },
     "execution_count": 17,
     "metadata": {},
     "output_type": "execute_result"
    }
   ],
   "source": [
    "# Table 2\n"
   ]
  },
  {
   "cell_type": "markdown",
   "metadata": {},
   "source": [
    "#### Discussion of Table 2"
   ]
  },
  {
   "cell_type": "code",
   "execution_count": 18,
   "metadata": {},
   "outputs": [
    {
     "data": {
      "text/html": [
       "<div>\n",
       "<style scoped>\n",
       "    .dataframe tbody tr th:only-of-type {\n",
       "        vertical-align: middle;\n",
       "    }\n",
       "\n",
       "    .dataframe tbody tr th {\n",
       "        vertical-align: top;\n",
       "    }\n",
       "\n",
       "    .dataframe thead th {\n",
       "        text-align: right;\n",
       "    }\n",
       "</style>\n",
       "<table border=\"1\" class=\"dataframe\">\n",
       "  <thead>\n",
       "    <tr style=\"text-align: right;\">\n",
       "      <th></th>\n",
       "      <th></th>\n",
       "      <th>Delta 15 N (o/oo)</th>\n",
       "      <th>Delta 13 C (o/oo)</th>\n",
       "    </tr>\n",
       "    <tr>\n",
       "      <th>Species</th>\n",
       "      <th>Sex</th>\n",
       "      <th></th>\n",
       "      <th></th>\n",
       "    </tr>\n",
       "  </thead>\n",
       "  <tbody>\n",
       "    <tr>\n",
       "      <th rowspan=\"2\" valign=\"top\">Adelie</th>\n",
       "      <th>FEMALE</th>\n",
       "      <td>8.79</td>\n",
       "      <td>-25.79</td>\n",
       "    </tr>\n",
       "    <tr>\n",
       "      <th>MALE</th>\n",
       "      <td>8.93</td>\n",
       "      <td>-25.83</td>\n",
       "    </tr>\n",
       "    <tr>\n",
       "      <th rowspan=\"2\" valign=\"top\">Chinstrap</th>\n",
       "      <th>FEMALE</th>\n",
       "      <td>9.25</td>\n",
       "      <td>-24.57</td>\n",
       "    </tr>\n",
       "    <tr>\n",
       "      <th>MALE</th>\n",
       "      <td>9.46</td>\n",
       "      <td>-24.53</td>\n",
       "    </tr>\n",
       "    <tr>\n",
       "      <th rowspan=\"3\" valign=\"top\">Gentoo</th>\n",
       "      <th>.</th>\n",
       "      <td>8.04</td>\n",
       "      <td>-26.18</td>\n",
       "    </tr>\n",
       "    <tr>\n",
       "      <th>FEMALE</th>\n",
       "      <td>8.19</td>\n",
       "      <td>-26.20</td>\n",
       "    </tr>\n",
       "    <tr>\n",
       "      <th>MALE</th>\n",
       "      <td>8.30</td>\n",
       "      <td>-26.17</td>\n",
       "    </tr>\n",
       "  </tbody>\n",
       "</table>\n",
       "</div>"
      ],
      "text/plain": [
       "                  Delta 15 N (o/oo)  Delta 13 C (o/oo)\n",
       "Species   Sex                                         \n",
       "Adelie    FEMALE               8.79             -25.79\n",
       "          MALE                 8.93             -25.83\n",
       "Chinstrap FEMALE               9.25             -24.57\n",
       "          MALE                 9.46             -24.53\n",
       "Gentoo    .                    8.04             -26.18\n",
       "          FEMALE               8.19             -26.20\n",
       "          MALE                 8.30             -26.17"
      ]
     },
     "execution_count": 18,
     "metadata": {},
     "output_type": "execute_result"
    }
   ],
   "source": [
    "# Table 3\n"
   ]
  },
  {
   "cell_type": "markdown",
   "metadata": {},
   "source": [
    "#### Discussion of Table 3"
   ]
  },
  {
   "cell_type": "markdown",
   "metadata": {},
   "source": [
    "## Part D\n",
    "\n",
    "Based on your findings from these tables, propose a miniature decision tree to help distinguish between the penguin species. Your decision tree might have rules like the following: \n",
    "\n",
    "1. First, check the island on which the penguin was found. \n",
    "    1. If Torgersen, then check the body mass. \n",
    "        1. If the body mass is over 4,000g, then guess Adelie. \n",
    "        1. Otherwise, guess Chinstrap\n",
    "    1. If Biscoe, then check the sex of the penguin. \n",
    "        1. If female, guess Gentoo\n",
    "        1. Otherwise, guess Chinstrap\n",
    "    1. If Dream, then guess Adelie.     \n",
    "      \n",
    "Your decision tree should operate using no more than three columns from the data. \n",
    "\n",
    "Below your decision tree, write an explanation of how you came up with it and how the tables that you created above informed your choices. \n",
    "\n",
    "If you like, you may skip ahead to Part E and write your decision tree directly as a Python function. You should then explain your reasoning as a docstring in the function rather than typing it here.  "
   ]
  },
  {
   "cell_type": "markdown",
   "metadata": {},
   "source": [
    "## Part E \n",
    "\n",
    "Write a function called `decision_tree` that implements your decision tree. It should accept as input single values of the relevant variables, and then return as output the guessed species of a penguin. Here's an example for the decision tree above: \n",
    "\n",
    "```python\n",
    "def decision_tree(island, mass, sex):\n",
    "    if island == \"Torgersen\":\n",
    "        if mass > 4000:\n",
    "            return \"Adelie\"\n",
    "        else:\n",
    "            return \"Chinstrap\"\n",
    "    elif island == \"Biscoe\":\n",
    "        if sex == \"FEMALE\":\n",
    "            return \"Gentoo\"\n",
    "        else:\n",
    "            return \"Chinstrap\"\n",
    "    else: \n",
    "        return \"Adelie\"\n",
    "    \n",
    "decision_tree(\"Biscoe\", 5000, \"MALE\")\n",
    "```\n",
    "```\n",
    "'Chinstrap'\n",
    "```\n",
    "\n",
    "Comments and docstrings are not necessary in this case, unless you skipped Part D. "
   ]
  },
  {
   "cell_type": "code",
   "execution_count": 19,
   "metadata": {},
   "outputs": [
    {
     "data": {
      "text/plain": [
       "'Chinstrap'"
      ]
     },
     "execution_count": 19,
     "metadata": {},
     "output_type": "execute_result"
    }
   ],
   "source": [
    "# your decision tree function here\n",
    "\n"
   ]
  },
  {
   "cell_type": "markdown",
   "metadata": {},
   "source": [
    "## Part F\n",
    "\n",
    "The following code will generate a guess for each penguin using the `decision_tree` function shown above. Modify the line that defines the `guesser` function according to the variables required by your decision tree. Then, run the code to create a new column called `Guess` containing the species guess for each penguin. "
   ]
  },
  {
   "cell_type": "code",
   "execution_count": 20,
   "metadata": {},
   "outputs": [],
   "source": [
    "# modify the first line, then run\n",
    "guesser = lambda r: decision_tree(r[\"Island\"], r[\"Body Mass (g)\"], r[\"Sex\"])\n",
    "penguins[\"Guess\"] = penguins.apply(guesser, axis = 1)"
   ]
  },
  {
   "cell_type": "markdown",
   "metadata": {},
   "source": [
    "## Part G\n",
    "\n",
    "Compute the accuracy of your decision tree -- what percentage of the time does your decision tree give you the right answer? \n",
    "\n",
    "**Hint**: this is a one-liner. "
   ]
  },
  {
   "cell_type": "code",
   "execution_count": 1,
   "metadata": {},
   "outputs": [],
   "source": [
    "# your solution here\n"
   ]
  },
  {
   "cell_type": "markdown",
   "metadata": {},
   "source": [
    "Soon, we'll learn how to use Python to automatically generate good decision trees without us needing to eyeball the data. "
   ]
  }
 ],
 "metadata": {
  "kernelspec": {
   "display_name": "Python 3",
   "language": "python",
   "name": "python3"
  },
  "language_info": {
   "codemirror_mode": {
    "name": "ipython",
    "version": 3
   },
   "file_extension": ".py",
   "mimetype": "text/x-python",
   "name": "python",
   "nbconvert_exporter": "python",
   "pygments_lexer": "ipython3",
   "version": "3.8.3"
  }
 },
 "nbformat": 4,
 "nbformat_minor": 4
}
