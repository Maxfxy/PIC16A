{
 "cells": [
  {
   "cell_type": "markdown",
   "metadata": {},
   "source": [
    "# More Numpy Practice\n",
    "\n",
    "Go ahead and run the code block below to load in the packages we'll need for today: "
   ]
  },
  {
   "cell_type": "code",
   "execution_count": null,
   "metadata": {},
   "outputs": [],
   "source": [
    "# run this block\n",
    "import numpy as np\n",
    "from matplotlib import pyplot as plt"
   ]
  },
  {
   "cell_type": "markdown",
   "metadata": {},
   "source": [
    "## Exercise 1\n",
    "\n",
    "The function `np.percentile` computes a specified percentile of an array. For example, `np.percentile(a, 0.8)` will return the 80th percentile of `a`. \n",
    "\n",
    "```python\n",
    "a = np.random.rand(1000)\n",
    "np.percentile(a, 80)\n",
    "```\n",
    "```\n",
    "0.8066467817256507\n",
    "```"
   ]
  },
  {
   "cell_type": "markdown",
   "metadata": {},
   "source": [
    "### Part A. \n",
    "\n",
    "In the following code block, replace `80` from above with `np.array([20, 80])`. What happens? "
   ]
  },
  {
   "cell_type": "code",
   "execution_count": null,
   "metadata": {},
   "outputs": [],
   "source": [
    "# your solution\n"
   ]
  },
  {
   "cell_type": "markdown",
   "metadata": {},
   "source": [
    "### Part B. \n",
    "\n",
    "Write a function called `stats_summary` that behaves prints out a readable summary of the data: \n",
    "\n",
    "```python\n",
    "a = np.random.randn(1000)\n",
    "stats_summary(a)\n",
    "```\n",
    "```\n",
    "The 20th percentile is -0.85\n",
    "The mean is -0.03\n",
    "The median is -0.04\n",
    "The 80th percentile is 0.85\n",
    "The standard deviation is 1.01\n",
    "```\n",
    "\n",
    "Recall that the median is the 50th percentile. \n",
    "\n",
    "**Hint:** `np.round(x, 2)`. "
   ]
  },
  {
   "cell_type": "code",
   "execution_count": null,
   "metadata": {},
   "outputs": [],
   "source": [
    "# your solution\n"
   ]
  },
  {
   "cell_type": "code",
   "execution_count": null,
   "metadata": {},
   "outputs": [],
   "source": [
    "# try it out\n",
    "a = np.random.randn(1000) # 1000 normal variables\n",
    "stats_summary(a)"
   ]
  },
  {
   "cell_type": "markdown",
   "metadata": {},
   "source": [
    "### Part C.\n",
    "\n",
    "Modify your function so that it can compute the same summaries when the input `a` contains `np.nan` values. This should require only minimal modifications. "
   ]
  },
  {
   "cell_type": "code",
   "execution_count": null,
   "metadata": {},
   "outputs": [],
   "source": [
    "# your solution: modified function here\n"
   ]
  },
  {
   "cell_type": "code",
   "execution_count": null,
   "metadata": {},
   "outputs": [],
   "source": [
    "# try it out -- should get numbers, not nan\n",
    "b = np.log(a)\n",
    "stats_summary(b)"
   ]
  },
  {
   "cell_type": "markdown",
   "metadata": {},
   "source": [
    "## Exercise 2\n",
    "\n",
    "The famous [Basel problem](https://en.wikipedia.org/wiki/Basel_problem) asks for a closed form of the infinite series \n",
    "\n",
    "$$\\sum_{n = 1}^{\\infty} \\frac{1}{n^2} = \\frac{1}{1^2} + \\frac{1}{2^2} + \\frac{1}{3^2} + \\cdots$$\n",
    "\n",
    "In 1735, Leonhard Euler, one of the all-time mathematical greats, showed that this sum is exactly equal to $\\pi^2/6$, although it wasn't until a few years later that his result would be made fully rigorous. \n",
    "\n",
    "Define a variable `n_max = 50`. Then, create the following two 1-dimensional `numpy` arrays: \n",
    "\n",
    "- `asymptote`: each entry is equal to $\\pi^2/6$. **Hint**: `np.ones()`, `np.pi`.  \n",
    "- `partial_sums`: entry `k` of `partial sums` should have value equal to \n",
    "$$\\sum_{n = 1}^{k+1}\\frac{1}{n^2} = \\frac{1}{1^2} + \\frac{1}{2^2} + \\cdots + \\cdots \\frac{1}{(k+1)^2}$$\n",
    "\n",
    "**Hint:** `np.cumsum()`. \n",
    "\n",
    "Create each of these arrays **in a single line of code each, of less than 80 characters.**"
   ]
  },
  {
   "cell_type": "code",
   "execution_count": null,
   "metadata": {},
   "outputs": [],
   "source": [
    "                                                                                # 80 characters"
   ]
  },
  {
   "cell_type": "code",
   "execution_count": null,
   "metadata": {},
   "outputs": [],
   "source": [
    "# your solution\n"
   ]
  },
  {
   "cell_type": "markdown",
   "metadata": {},
   "source": [
    "Once you've created your arrays, run the code block below to visualize the convergence of the partial sums to the theoretical asymptote. "
   ]
  },
  {
   "cell_type": "code",
   "execution_count": null,
   "metadata": {},
   "outputs": [],
   "source": [
    "# run this once you've created the two needed arrays\n",
    "plt.plot(asymptote, label = r\"$\\pi^2/6$\")\n",
    "plt.scatter(np.arange(1, n_max+1), \n",
    "            partial_sums, \n",
    "            label = r\"$\\sum_{n = 1}^k \\frac{1}{n^2}$\", \n",
    "            edgecolors = \"black\",\n",
    "            facecolors = 'none')\n",
    "plt.gca().set(xlabel = \"k\")\n",
    "plt.legend()"
   ]
  },
  {
   "cell_type": "markdown",
   "metadata": {},
   "source": [
    "If you've made it this far, great! If there are fewer than 10 minutes remaining in Discussion, feel free to submit your assignment. Otherwise, continue on to Exercise 3. \n",
    "\n",
    "---\n",
    "\n",
    "## Exercise 3\n",
    "\n",
    "The *law of large numbers* asserts that, if $X_1,\\ldots,X_k$ is a sequence of independent and identically distributed random variables with mean $\\mu$, then, if $k$ is sufficiently large, \n",
    "$$\\frac{1}{k}\\sum_{n = 1}^kX_n \\approx \\mu\\;.$$\n",
    "\n",
    "Here is some random data:"
   ]
  },
  {
   "cell_type": "code",
   "execution_count": null,
   "metadata": {},
   "outputs": [],
   "source": [
    "# run this block\n",
    "\n",
    "k = 1000\n",
    "a = np.random.randn(k) + np.random.randn()"
   ]
  },
  {
   "cell_type": "markdown",
   "metadata": {},
   "source": [
    "Create a visualization, similar to the one in Exercise 2, that illustrates the law of large numbers for this data set. You'll need to first compute the required arrays. Then, you should copy/paste the visualization code from above, and see if you can figure out what to change. It's not necessary to worry about making attractive labels for the legend, but if you'd like to, you can use the raw strings `r\"$\\frac{1}{k}\\sum_{n = 1}^k X_n$\"` and `r\"$\\mu$\"` for the series labels. "
   ]
  },
  {
   "cell_type": "code",
   "execution_count": null,
   "metadata": {},
   "outputs": [],
   "source": [
    "# your solution\n"
   ]
  }
 ],
 "metadata": {
  "kernelspec": {
   "display_name": "Python 3",
   "language": "python",
   "name": "python3"
  },
  "language_info": {
   "codemirror_mode": {
    "name": "ipython",
    "version": 3
   },
   "file_extension": ".py",
   "mimetype": "text/x-python",
   "name": "python",
   "nbconvert_exporter": "python",
   "pygments_lexer": "ipython3",
   "version": "3.8.3"
  }
 },
 "nbformat": 4,
 "nbformat_minor": 4
}
