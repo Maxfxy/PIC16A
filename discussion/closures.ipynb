{
 "cells": [
  {
   "cell_type": "markdown",
   "metadata": {},
   "source": [
    "# Discussion 4: Closures\n",
    "\n",
    "In the recorded lectures, we've mentioned the idea of \"functions with memory\" a few times, mostly in the context of bad examples. There is a good to write functions with memory -- using **closures.** A closure is just a function that returns another function. \n",
    "\n",
    "As a warmup, observe that we can freely create variables whose values are functions: "
   ]
  },
  {
   "cell_type": "code",
   "execution_count": null,
   "metadata": {},
   "outputs": [],
   "source": [
    "my_sum = sum\n",
    "my_sum([1, 2])"
   ]
  },
  {
   "cell_type": "markdown",
   "metadata": {},
   "source": [
    "This means that we can freely create closures -- functions that return other functions, and assign these new functions to values. The reason that closures can be advantageous is that the returned (\"inner\") function has access to the variables created in the \"outer\" function. This is especially useful when these variables created in the outer function are mutable. Here's a simple example. "
   ]
  },
  {
   "cell_type": "code",
   "execution_count": null,
   "metadata": {},
   "outputs": [],
   "source": [
    "def f(): # outer function\n",
    "    L = []\n",
    "    \n",
    "    def g(): # inner function\n",
    "        L.append(\"a\")\n",
    "        return(L)\n",
    "    \n",
    "    return g"
   ]
  },
  {
   "cell_type": "code",
   "execution_count": null,
   "metadata": {},
   "outputs": [],
   "source": [
    "g = f()"
   ]
  },
  {
   "cell_type": "code",
   "execution_count": null,
   "metadata": {},
   "outputs": [],
   "source": [
    "g()"
   ]
  },
  {
   "cell_type": "code",
   "execution_count": null,
   "metadata": {},
   "outputs": [],
   "source": [
    "L"
   ]
  },
  {
   "cell_type": "markdown",
   "metadata": {},
   "source": [
    "What's happening here is that `L` is available to the function `g`, but because `L` was defined inside `f`, `L` is not available as a global variable. This is super handy -- it allows us to create a function with memory without defining any global variables. "
   ]
  },
  {
   "cell_type": "markdown",
   "metadata": {},
   "source": [
    "# A Prime Checker\n",
    "\n",
    "How can we tell whether a number `n` is prime? The simplest method is to see whether any number smaller than `n` (other than `1` divides `n`). However, this is not necessary -- it suffices to check all numbers smaller than $\\sqrt{n}$. (why?). This fact can lead to big computational savings when checking large primes. \n",
    "\n",
    "However, even **that** is suboptimal. Rather than checking all numbers amller than $\\sqrt{n}$, it suffices to check only *prime* numbers smaller than $\\sqrt{n}$. The [prime number theorem](https://en.wikipedia.org/wiki/Prime_number_theorem) states that there are, asymptotically (when n is very large), roughly\n",
    "\n",
    "$$\\frac{\\sqrt{n}}{\\log \\sqrt{n}}$$ \n",
    "\n",
    "primes less than $\\sqrt{n}$. Using this fact can give substantial computational savings for large $n$. \n",
    "\n",
    "Of course, we can only realize these savings *if* we already know which numbers less than $\\sqrt{n}$ are prime. \n",
    "\n",
    "## Assignment\n",
    "\n",
    "In this assignment, you and your group will write a closure (a function returning a function) that can be used to efficiently check prime numbers. The outer function will initialize a list of known primes, which the inner function will then efficiently populate. \n",
    "\n",
    "Work creatively with your group to fill in functioning code below, guided by the comments. This problem can be solved by writing no more than 5 lines of code for each of the supplied comments. "
   ]
  },
  {
   "cell_type": "code",
   "execution_count": null,
   "metadata": {},
   "outputs": [],
   "source": [
    "import math\n",
    "\n",
    "def create_prime_checker():\n",
    "    \"\"\"\n",
    "    Return a function prime_checker() which takes a single argument n. \n",
    "    prime_checker() stores a list of known primes. If n is in the list of known primes, \n",
    "    then prime_checker() returns true. \n",
    "    Otherwise, prime_checker() will first check whether n is divisible by one of the known primes, returning False if so. \n",
    "    If not, prime_checker() will then check whether n is divisible by any number between the largest known prime and \n",
    "    math.sqrt(n), returning False if so. \n",
    "    If not, then n is added to the list of known primes and True is returned. \n",
    "    \"\"\"\n",
    "    \n",
    "    known_primes = # what's the right way to initialize? \n",
    "    \n",
    "    def prime_checker(n, verbose = False):\n",
    "                \n",
    "        # if verbose == True, print the list of known primes (this is primarily for your debugging)\n",
    "        \n",
    "        # check whether n is in the list of known primes, and act appropriately. \n",
    "        \n",
    "        # next, check whether any of the known primes divide n, and return False if so. \n",
    "        \n",
    "        # next, check possible factors up to and include math.sqrt(n), and return False if so. \n",
    "        \n",
    "        # If no factors found, add n to the list of known primes and return True\n",
    "    "
   ]
  },
  {
   "cell_type": "markdown",
   "metadata": {},
   "source": [
    "You should be able to use your code as below. Feel free to run these blocks as test cases to check the functioning of your code as you build it. "
   ]
  },
  {
   "cell_type": "code",
   "execution_count": 13,
   "metadata": {},
   "outputs": [],
   "source": [
    "prime_checker = create_prime_checker() # remember that create_prime_checker() returns a function!! "
   ]
  },
  {
   "cell_type": "code",
   "execution_count": 14,
   "metadata": {},
   "outputs": [
    {
     "name": "stdout",
     "output_type": "stream",
     "text": [
      "Known primes: [2]\n",
      "Known primes: [2, 5]\n",
      "Known primes: [2, 5, 3]\n"
     ]
    },
    {
     "data": {
      "text/plain": [
       "True"
      ]
     },
     "execution_count": 14,
     "metadata": {},
     "output_type": "execute_result"
    }
   ],
   "source": [
    "prime_checker(5, verbose = True) # for debugging \n",
    "prime_checker(3, verbose = True)\n",
    "prime_checker(7, verbose = True)\n",
    "# ---"
   ]
  },
  {
   "cell_type": "markdown",
   "metadata": {},
   "source": [
    "*Note*: 1 is not prime. "
   ]
  },
  {
   "cell_type": "markdown",
   "metadata": {},
   "source": [
    "## Advanced Use Cases"
   ]
  },
  {
   "cell_type": "code",
   "execution_count": 16,
   "metadata": {},
   "outputs": [],
   "source": [
    "prime_checker = create_prime_checker() # remember that create_prime_checker() returns a function!! "
   ]
  },
  {
   "cell_type": "code",
   "execution_count": 17,
   "metadata": {},
   "outputs": [
    {
     "name": "stdout",
     "output_type": "stream",
     "text": [
      "Known primes: [2]\n",
      "0 False\n",
      "1 False\n",
      "Known primes: [2]\n",
      "2 True\n",
      "Known primes: [2]\n",
      "3 True\n",
      "Known primes: [2, 3]\n",
      "4 False\n",
      "Known primes: [2, 3]\n",
      "5 True\n",
      "Known primes: [2, 3, 5]\n",
      "6 False\n",
      "Known primes: [2, 3, 5]\n",
      "7 True\n",
      "Known primes: [2, 3, 5, 7]\n",
      "8 False\n",
      "Known primes: [2, 3, 5, 7]\n",
      "9 False\n",
      "Known primes: [2, 3, 5, 7]\n",
      "10 False\n",
      "Known primes: [2, 3, 5, 7]\n",
      "11 True\n",
      "Known primes: [2, 3, 5, 7, 11]\n",
      "12 False\n",
      "Known primes: [2, 3, 5, 7, 11]\n",
      "13 True\n",
      "Known primes: [2, 3, 5, 7, 11, 13]\n",
      "14 False\n",
      "Known primes: [2, 3, 5, 7, 11, 13]\n",
      "15 False\n",
      "Known primes: [2, 3, 5, 7, 11, 13]\n",
      "16 False\n",
      "Known primes: [2, 3, 5, 7, 11, 13]\n",
      "17 True\n",
      "Known primes: [2, 3, 5, 7, 11, 13, 17]\n",
      "18 False\n",
      "Known primes: [2, 3, 5, 7, 11, 13, 17]\n",
      "19 True\n"
     ]
    }
   ],
   "source": [
    "for i in range(20):\n",
    "    print(i, prime_checker(i, verbose = True))\n",
    "\n",
    "# prime_checker(5, verbose = True) # for debugging \n",
    "# prime_checker(3, verbose = True)\n",
    "# prime_checker(7, verbose = True)\n",
    "# ---"
   ]
  },
  {
   "cell_type": "code",
   "execution_count": 168,
   "metadata": {},
   "outputs": [],
   "source": [
    "# primes up to 10,000\n",
    "primes = [i for i in range(10000) if prime_checker(i)]"
   ]
  }
 ],
 "metadata": {
  "kernelspec": {
   "display_name": "Python 3",
   "language": "python",
   "name": "python3"
  },
  "language_info": {
   "codemirror_mode": {
    "name": "ipython",
    "version": 3
   },
   "file_extension": ".py",
   "mimetype": "text/x-python",
   "name": "python",
   "nbconvert_exporter": "python",
   "pygments_lexer": "ipython3",
   "version": "3.8.3"
  }
 },
 "nbformat": 4,
 "nbformat_minor": 4
}
