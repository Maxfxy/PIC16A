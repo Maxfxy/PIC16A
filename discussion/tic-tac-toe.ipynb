{
 "cells": [
  {
   "cell_type": "markdown",
   "metadata": {},
   "source": [
    "# Basic Tic-Tac-Toe\n",
    "\n",
    "In this activity, we'll work in groups to write a very simple version of the game [Tic-Tac-Toe](https://en.wikipedia.org/wiki/Tic-tac-toe). As you may know, Tic-Tac-Toe is a two-player game. \n",
    "\n",
    "- The game starts with an empty 3x3 grid: \n",
    "\n",
    "``` \n",
    "_|_|_\n",
    "_|_|_\n",
    " | |\n",
    "```\n",
    "- Player 1 places an X in one of the 9 grid squares. \n",
    "- Player 2 places an O in one of the remaining 8 grid squares.\n",
    "- The players alternate until no grid squares remain. \n",
    "- A player wins if any row, column, or diagonal contains 3 copies of their symbol; if no player wins, the game ends in a draw. Here is an example of a game in which the O player has won (on the diagonal) after the 6th turn. \n",
    "\n",
    "```\n",
    "O X  \n",
    "X O \n",
    "X   O\n",
    "```\n",
    "\n",
    "In this activity, we won't worry about evaluating which player has won -- instead, we'll focus on writing code that will allow players to place their symbols and visualize the grid. \n",
    "\n",
    "This activity will ask you to write a single, large chunk of code, which may appear somewhat disorganized. In future lectures, we'll discuss *functions*, which offer convenient ways to break large operations into simpler operations that are easier to manage. "
   ]
  },
  {
   "cell_type": "markdown",
   "metadata": {},
   "source": [
    "As often in programming, we'll start from the end and work our way back toward the beginning. \n",
    "\n",
    "## (a).\n",
    "\n",
    "Write a loop that repeatedly prompts the user for input (use the `input()` function), and halts only when the user types `I win!`. The user's input should be stored as a variable called `current_move` (this will make sense shortly). The input prompt (argument to `input()` function) should ask the player to enter their move.\n",
    "\n",
    "*Hint: `break`*. "
   ]
  },
  {
   "cell_type": "code",
   "execution_count": null,
   "metadata": {},
   "outputs": [],
   "source": []
  },
  {
   "cell_type": "markdown",
   "metadata": {},
   "source": [
    "## (b). \n",
    "\n",
    "Create an `n` x `n` grid, represented as a list called `grid` containing `n` lists, each of which has length `n`. These lists should be populated with the string `\" \"`. \n",
    "\n",
    "*Hint: this can be done in a single line using a list comprehension.*"
   ]
  },
  {
   "cell_type": "code",
   "execution_count": null,
   "metadata": {},
   "outputs": [],
   "source": []
  },
  {
   "cell_type": "markdown",
   "metadata": {},
   "source": [
    "## (c). \n",
    "\n",
    "Write code to print out the contents `grid` in square format. Your code should work for general positive integer values of `n` (i.e. not just `n = 3`).\n",
    "\n",
    "It is not necessary to print the gridlines itself, just the contents of the `grid` variable. But if you'd like to try to print gridlines, please go ahead!  \n",
    "\n",
    "*Hint: By default, `print(a)` will add a newline (`\\n`) after printing `a`. You can get around this behavior (to print rows) by using `print(a, end = \" \")`.*"
   ]
  },
  {
   "cell_type": "code",
   "execution_count": null,
   "metadata": {},
   "outputs": [],
   "source": []
  },
  {
   "cell_type": "markdown",
   "metadata": {},
   "source": [
    "## (d). \n",
    "\n",
    "Combine your answers in **(a)--(c)** to create a block of code which will: \n",
    "\n",
    "- Initialize the empty `grid` as in **(b)**. \n",
    "- Prompt the user until the user says \"I win!\", as in **(a)**. \n",
    "- If the user gives any other input, print the grid, as in **(c)**. \n",
    "- *Hint*: use `if-else` to check whether to terminate the loop or print the grid. "
   ]
  },
  {
   "cell_type": "code",
   "execution_count": null,
   "metadata": {},
   "outputs": [],
   "source": []
  },
  {
   "cell_type": "markdown",
   "metadata": {},
   "source": [
    "## (e)\n",
    "\n",
    "Modify your loop to keep track of whose turn it is. Then, modify the `input()` command so that it reads \"Player X, please enter your move:\" and \"Player O, please enter your move:\" on the appropriate turns. "
   ]
  },
  {
   "cell_type": "code",
   "execution_count": null,
   "metadata": {},
   "outputs": [],
   "source": []
  },
  {
   "cell_type": "markdown",
   "metadata": {},
   "source": [
    "## (f). \n",
    "\n",
    "Finally, allow the players to make moves. If Player X enters two integers separated by a space, then place an \"X\" in the corresponding grid position. If that space is already occupied, then the player for a different move. You may assume that both players will always input either \"I win!\" or two nonnegative integers no larger than `n-1`. \n",
    "\n",
    "*Hint: `continue` will return immediately to the beginning of the `while`-loop, and may be useful for reprompting after invalid inputs.*"
   ]
  },
  {
   "cell_type": "code",
   "execution_count": null,
   "metadata": {},
   "outputs": [],
   "source": []
  },
  {
   "cell_type": "markdown",
   "metadata": {},
   "source": [
    "## (g). \n",
    "\n",
    "Add comments to he important parts of your code and turn it in. Your comments should make clear which parts of your code are: \n",
    "\n",
    "- Initializing the grid. \n",
    "- Updating the grid. \n",
    "- Prompting the user. \n",
    "- Checking for the validity of moves. \n",
    "- Keeping track of turns. "
   ]
  },
  {
   "cell_type": "code",
   "execution_count": null,
   "metadata": {},
   "outputs": [],
   "source": []
  },
  {
   "cell_type": "markdown",
   "metadata": {},
   "source": [
    "# Example Session\n",
    "\n",
    "Here is an example of the session output. In the final move, Player X types \"I win!\" instead of making their winning move at (2, 1). \n",
    "\n",
    "```\n",
    "Player X, please enter your move: 1 1\n",
    "         \n",
    "\n",
    "   X     \n",
    "\n",
    "         \n",
    "\n",
    "Player O, please enter your move: 0 0\n",
    "O        \n",
    "\n",
    "   X     \n",
    "\n",
    "         \n",
    "\n",
    "Player X, please enter your move: 0 1\n",
    "O  X     \n",
    "\n",
    "   X     \n",
    "\n",
    "         \n",
    "\n",
    "Player O, please enter your move: 2 0\n",
    "O  X     \n",
    "\n",
    "   X     \n",
    "\n",
    "O        \n",
    "\n",
    "Player X, please enter your move: I win!\n",
    "good job\n",
    "```"
   ]
  }
 ],
 "metadata": {
  "kernelspec": {
   "display_name": "Python 3.7.2 64-bit",
   "language": "python",
   "name": "python37264bit4a2e9be422294fc3a9a080314b1a5773"
  },
  "language_info": {
   "codemirror_mode": {
    "name": "ipython",
    "version": 3
   },
   "file_extension": ".py",
   "mimetype": "text/x-python",
   "name": "python",
   "nbconvert_exporter": "python",
   "pygments_lexer": "ipython3",
   "version": "3.7.2"
  }
 },
 "nbformat": 4,
 "nbformat_minor": 4
}
