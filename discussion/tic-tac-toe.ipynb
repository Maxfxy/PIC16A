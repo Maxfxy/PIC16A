{
 "cells": [
  {
   "cell_type": "markdown",
   "metadata": {},
   "source": [
    "# Basic Tic-Tac-Toe\n",
    "\n",
    "In this activity, we'll work in groups to write a very simple version of the game [Tic-Tac-Toe](https://en.wikipedia.org/wiki/Tic-tac-toe). As you may know, Tic-Tac-Toe is a two-player game. \n",
    "\n",
    "- The game starts with an empty 3x3 grid: \n",
    "\n",
    "``` \n",
    "_|_|_\n",
    "_|_|_\n",
    " | |\n",
    "```\n",
    "- Player 1 places an X in one of the 9 grid squares. \n",
    "- Player 2 places an O in one of the remaining 8 grid squares.\n",
    "- The players alternate until no grid squares remain. \n",
    "- A player wins if any row, column, or diagonal contains 3 copies of their symbol; if no player wins, the game ends in a draw. Here is an example of a game in which the O player has won (on the diagonal) after the 6th turn. \n",
    "\n",
    "```\n",
    "O X  \n",
    "X O \n",
    "X   O\n",
    "```\n",
    "\n",
    "In this activity, we won't worry about evaluating which player has won -- instead, we'll focus on writing code that will allow players to place their symbols and visualize the grid. \n",
    "\n",
    "This activity will ask you to write a single, large chunk of code, which may appear somewhat disorganized. In future lectures, we'll discuss *functions*, which offer convenient ways to break large operations into simpler operations that are easier to manage. "
   ]
  },
  {
   "cell_type": "markdown",
   "metadata": {},
   "source": [
    "As often in programming, we'll start from the end and work our way back toward the beginning. In these first few parts, I will give you the code block, and your task is to describe in words what it does. Note: the operation of several of these code blocks may appear somewhat cryptic in isolation -- just interpret what you see. \n",
    "\n",
    "**Note**: you are free to run the code! But you'll need to reason about the structure of the code, in addition to observing the output, in order to understand what is going on. \n",
    "\n",
    "## (a)."
   ]
  },
  {
   "cell_type": "code",
   "execution_count": null,
   "metadata": {},
   "outputs": [],
   "source": [
    "while True: \n",
    "    current_move = input(\"Player, please enter your move:\")\n",
    "    if current_move == \"I win!\":\n",
    "        print(\"good job\")\n",
    "        break"
   ]
  },
  {
   "cell_type": "markdown",
   "metadata": {},
   "source": [
    "## Solution\n",
    "\n",
    "\\[Your explanation of the code here\\]\n",
    "\n"
   ]
  },
  {
   "cell_type": "markdown",
   "metadata": {},
   "source": [
    "## (b). "
   ]
  },
  {
   "cell_type": "code",
   "execution_count": null,
   "metadata": {},
   "outputs": [],
   "source": [
    "n = 3\n",
    "grid = [[\" \" for i in range(n)] for j in range(n)]"
   ]
  },
  {
   "cell_type": "markdown",
   "metadata": {},
   "source": [
    "## Solution\n",
    "\n",
    "\\[Your explanation of the code here\\]\n",
    "\n",
    "\n"
   ]
  },
  {
   "cell_type": "markdown",
   "metadata": {},
   "source": [
    "## (c). \n",
    "\n",
    "Please assume that the code above in part (b) has been run already. \n",
    "\n",
    "*Hint: By default, `print(a)` will add a newline (`\\n`) after printing `a`. You can modify this behavior (to print rows) by using `print(a, end = \" \")`.*"
   ]
  },
  {
   "cell_type": "code",
   "execution_count": null,
   "metadata": {},
   "outputs": [],
   "source": [
    "for i in range(n):\n",
    "    for j in range(n):\n",
    "        print(grid[i][j], end = \" \")\n",
    "    print(\"\\n\")"
   ]
  },
  {
   "cell_type": "markdown",
   "metadata": {},
   "source": [
    "## Solution\n",
    "\n",
    "\\[Your explanation of the code here\\]\n",
    "\n",
    "\n"
   ]
  },
  {
   "cell_type": "markdown",
   "metadata": {},
   "source": [
    "## (d). \n",
    "\n",
    "Now we are going to ask you to start synthesizing and modifying the code shown in parts **(a)--(c)** to produce a functioning Tic-Tac-Toe game. \n",
    "\n",
    "Use your understanding of the code shown in parts **(a)--(c)** to create a block of code which will: \n",
    "\n",
    "- Initialize the empty `grid` as in **(b)**. \n",
    "- Prompt the user until the user says \"I win!\", as in **(a)**. \n",
    "- If the user gives any other input, print the grid, as in **(c)**. \n",
    "- *Hint*: use `if-else` to check whether to terminate the loop or print the grid. \n",
    "\n",
    "You will need to write about 3 additional lines of code (in addition to copy-paste from **(a)--(c)**)."
   ]
  },
  {
   "cell_type": "code",
   "execution_count": null,
   "metadata": {},
   "outputs": [],
   "source": [
    "# your solution here\n",
    "\n"
   ]
  },
  {
   "cell_type": "markdown",
   "metadata": {},
   "source": [
    "## (e)\n",
    "\n",
    "Now, modify your answer in **(d)** to include a variable called `turn` which increments whenever the grid is printed. \n",
    "\n",
    "Additionally, modify the `input()` command so that it reads \"Player X, please enter your move:\" and \"Player O, please enter your move:\" on the appropriate turns. \n",
    "\n",
    "*Hint*: define a variable called `player`, which takes values `\"X\"` or `\"O\"` depending on the `turn` variable. \n",
    "\n",
    "You will need to add about 6 lines of code for this exercise. Put the modified code in the block below. "
   ]
  },
  {
   "cell_type": "code",
   "execution_count": null,
   "metadata": {},
   "outputs": [],
   "source": [
    "# your solution here\n",
    "\n"
   ]
  },
  {
   "cell_type": "markdown",
   "metadata": {},
   "source": [
    "## (f). \n",
    "\n",
    "Finally, allow the players to make moves. If Player X enters two integers separated by a space, then place an \"X\" in the corresponding grid position. If that space is already occupied, then the player for a different move. You may assume that both players will always input either \"I win!\" or two nonnegative integers no larger than `n-1`. \n",
    "\n",
    "*Hint: `continue` will return immediately to the beginning of the `while`-loop, and may be useful for reprompting after invalid inputs.*\n",
    "\n",
    "You will need to add approximately 8 lines of code for this part. The best place for them is probably immediately before the grid is printed. \n",
    "\n",
    "Put the modified code in the block below. "
   ]
  },
  {
   "cell_type": "code",
   "execution_count": null,
   "metadata": {},
   "outputs": [],
   "source": [
    "# your solution here\n",
    "\n"
   ]
  },
  {
   "cell_type": "markdown",
   "metadata": {},
   "source": [
    "## (g). \n",
    "\n",
    "Add comments to the important parts of your code and turn it in. Your comments should make clear which parts of your code are: \n",
    "\n",
    "- Initializing the grid. \n",
    "- Updating the grid. \n",
    "- Prompting the user. \n",
    "- Checking for the validity of moves. \n",
    "- Keeping track of turns. \n",
    "\n",
    "Put the modified code in the block below. "
   ]
  },
  {
   "cell_type": "code",
   "execution_count": null,
   "metadata": {},
   "outputs": [],
   "source": [
    "# your solution here\n",
    "\n"
   ]
  },
  {
   "cell_type": "markdown",
   "metadata": {},
   "source": [
    "# Example Session\n",
    "\n",
    "Here is an example of the session output. In the final move, Player X types \"I win!\" instead of making their winning move at (2, 1). \n",
    "\n",
    "Feel free to try it out yourself!\n",
    "\n",
    "```\n",
    "Player X, please enter your move: 1 1\n",
    "         \n",
    "\n",
    "   X     \n",
    "\n",
    "         \n",
    "\n",
    "Player O, please enter your move: 0 0\n",
    "O        \n",
    "\n",
    "   X     \n",
    "\n",
    "         \n",
    "\n",
    "Player X, please enter your move: 0 1\n",
    "O  X     \n",
    "\n",
    "   X     \n",
    "\n",
    "         \n",
    "\n",
    "Player O, please enter your move: 2 0\n",
    "O  X     \n",
    "\n",
    "   X     \n",
    "\n",
    "O        \n",
    "\n",
    "Player X, please enter your move: I win!\n",
    "good job\n",
    "```"
   ]
  }
 ],
 "metadata": {
  "kernelspec": {
   "display_name": "Python 3.7.2 64-bit",
   "language": "python",
   "name": "python37264bit4a2e9be422294fc3a9a080314b1a5773"
  },
  "language_info": {
   "codemirror_mode": {
    "name": "ipython",
    "version": 3
   },
   "file_extension": ".py",
   "mimetype": "text/x-python",
   "name": "python",
   "nbconvert_exporter": "python",
   "pygments_lexer": "ipython3",
   "version": "3.7.2"
  }
 },
 "nbformat": 4,
 "nbformat_minor": 4
}
