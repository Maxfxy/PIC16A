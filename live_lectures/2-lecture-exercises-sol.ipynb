{
 "cells": [
  {
   "cell_type": "markdown",
   "metadata": {
    "slideshow": {
     "slide_type": "slide"
    }
   },
   "source": [
    "# Lecture 2\n",
    "\n",
    "1. Open Jupyter Notebook or Lab. \n",
    "2. Optional: [download this notebook](https://philchodrow.github.io/PIC16A/live_lectures/2-lecture-exercises.ipynb) and open it. \n",
    "3. Otherwise, open a blank notebook. \n"
   ]
  },
  {
   "cell_type": "markdown",
   "metadata": {
    "slideshow": {
     "slide_type": "slide"
    }
   },
   "source": [
    "## Announcements\n",
    "\n",
    "- Group Chaos\n",
    "- Quiz 2 Error\n",
    "- HW1 Assigned, due next Wednesday"
   ]
  },
  {
   "cell_type": "markdown",
   "metadata": {
    "slideshow": {
     "slide_type": "slide"
    }
   },
   "source": [
    "### Breakout Room 1: Introductions\n",
    "\n",
    "Briefly introduce yourselves and share your affinity vegetable (\"if you were a vegetable, what vegetable would you be, and why?\"). \n",
    "\n",
    "Write down the number of the breakout room you're in. \n",
    "\n"
   ]
  },
  {
   "cell_type": "markdown",
   "metadata": {
    "slideshow": {
     "slide_type": "skip"
    }
   },
   "source": [
    "### Instructions for Exercises\n",
    "\n",
    "- For the first exercise, the first person alphabetically by first name in each group is the **Reporter.** The Reporter's job is to closely follow the code, understand how it works, and share it with the class if I call your group number. The Reporter is also free to comment on and make suggestions related to code. \n",
    "- The second person alphabetically by name is the **Driver.**\n",
    "- The third person alphabetically by name is the **Proposer.**\n",
    "\n",
    "Each time you re-enter the breakout room, rotate. The Reporter becomes the Proposer, the Proposer becomes the Driver, the Driver becomes the Reporter. "
   ]
  },
  {
   "cell_type": "code",
   "execution_count": 29,
   "metadata": {
    "slideshow": {
     "slide_type": "slide"
    }
   },
   "outputs": [
    {
     "data": {
      "text/plain": [
       "['to', 'boldly', 'go', 'no', 'gone', 'before']"
      ]
     },
     "execution_count": 29,
     "metadata": {},
     "output_type": "execute_result"
    }
   ],
   "source": [
    "# list of words of even length in a string\n",
    "# one line of code\n",
    "# 3 minutes\n",
    "s = \"to boldly go where no one has gone before\"\n",
    "\n",
    "[w for w in s.split() if len(w) % 2 == 0]"
   ]
  },
  {
   "cell_type": "code",
   "execution_count": 23,
   "metadata": {
    "slideshow": {
     "slide_type": "slide"
    }
   },
   "outputs": [
    {
     "data": {
      "text/plain": [
       "['boldly', 'go', 'where', 'one', 'before']"
      ]
     },
     "execution_count": 23,
     "metadata": {},
     "output_type": "execute_result"
    }
   ],
   "source": [
    "# every word AFTER a word of even length in a string\n",
    "# two lines of code (or one line that's too long)\n",
    "# 5 minutes\n",
    "\n",
    "s = \"to boldly go where no one has gone before\"\n",
    "\n",
    "words = s.split()\n",
    "\n",
    "[words[i] for i in range(1,len(words)) if len(words[i-1]) % 2 == 0]"
   ]
  },
  {
   "cell_type": "markdown",
   "metadata": {
    "slideshow": {
     "slide_type": "slide"
    }
   },
   "source": [
    "## Quick Check\n",
    "\n",
    "In the breakout rooms, my group has: \n",
    "\n",
    "- (A). Not enough time. \n",
    "- (B). About the right amount of time. \n",
    "- (C). Too much time. "
   ]
  },
  {
   "cell_type": "code",
   "execution_count": 17,
   "metadata": {
    "slideshow": {
     "slide_type": "slide"
    }
   },
   "outputs": [],
   "source": [
    "# all possible pairs of words from two lists\n",
    "# one line of code\n",
    "# 5 minutes\n",
    "\n",
    "L1 = [\"red\", \"blue\", \"green\"]\n",
    "L2 = [\"animal\", \"vegetable\", \"mineral\"]\n",
    "\n",
    "L = [w1 + ' ' + w2 for w1 in L1 for w2 in L2]"
   ]
  },
  {
   "cell_type": "code",
   "execution_count": 32,
   "metadata": {
    "slideshow": {
     "slide_type": "slide"
    }
   },
   "outputs": [],
   "source": [
    "# if a number, divide by 4. If a string, multiply by 3. \n",
    "# ~ 6 lines of code. \n",
    "# may assume that L contains only strings, ints, and floats. \n",
    "# 8 minutes\n",
    "\n",
    "L = [4, \"blah\", 10]\n",
    "# desired output: [1.0, \"blahblahblah\", 2.5]\n",
    "\n",
    "P = []\n",
    "for x in L:\n",
    "    if type(x) == str:\n",
    "        P.append(3*x)\n",
    "    else:\n",
    "        P.append(x/4)"
   ]
  },
  {
   "cell_type": "code",
   "execution_count": 1,
   "metadata": {
    "slideshow": {
     "slide_type": "slide"
    }
   },
   "outputs": [
    {
     "name": "stdout",
     "output_type": "stream",
     "text": [
      "[2, 3, 5, 7, 11, 13, 17, 19, 23, 29, 31, 37, 41, 43, 47, 53, 59, 61, 67, 71, 73, 79, 83, 89, 97]\n"
     ]
    }
   ],
   "source": [
    "# Challenge: list of prime numbers up to 100. \n",
    "# 8 lines of code\n",
    "# 12 minutes\n",
    "\n",
    "primes = [2]\n",
    "for i in range(3, 101):\n",
    "    is_prime = True\n",
    "    for p in primes:\n",
    "        if i % p == 0:\n",
    "            is_prime = False\n",
    "    if is_prime:\n",
    "        primes.append(i)\n",
    "\n",
    "print(primes) # doesn't count"
   ]
  },
  {
   "cell_type": "code",
   "execution_count": 2,
   "metadata": {},
   "outputs": [
    {
     "data": {
      "text/plain": [
       "-1"
      ]
     },
     "execution_count": 2,
     "metadata": {},
     "output_type": "execute_result"
    }
   ],
   "source": [
    "i = 0\n",
    "while i < 10 | i > -10:\n",
    "    i -= 1\n",
    "i"
   ]
  },
  {
   "cell_type": "code",
   "execution_count": 6,
   "metadata": {},
   "outputs": [
    {
     "data": {
      "text/plain": [
       "False"
      ]
     },
     "execution_count": 6,
     "metadata": {},
     "output_type": "execute_result"
    }
   ],
   "source": [
    "i < 10 | i "
   ]
  },
  {
   "cell_type": "code",
   "execution_count": 17,
   "metadata": {},
   "outputs": [
    {
     "data": {
      "text/plain": [
       "True"
      ]
     },
     "execution_count": 17,
     "metadata": {},
     "output_type": "execute_result"
    }
   ],
   "source": [
    "(i < 10) | (i > -10)"
   ]
  },
  {
   "cell_type": "code",
   "execution_count": 11,
   "metadata": {},
   "outputs": [
    {
     "data": {
      "text/plain": [
       "-1"
      ]
     },
     "execution_count": 11,
     "metadata": {},
     "output_type": "execute_result"
    }
   ],
   "source": [
    "10 | i"
   ]
  },
  {
   "cell_type": "code",
   "execution_count": 14,
   "metadata": {},
   "outputs": [
    {
     "data": {
      "text/plain": [
       "7"
      ]
     },
     "execution_count": 14,
     "metadata": {},
     "output_type": "execute_result"
    }
   ],
   "source": [
    "5 | 2"
   ]
  },
  {
   "cell_type": "code",
   "execution_count": null,
   "metadata": {},
   "outputs": [],
   "source": []
  }
 ],
 "metadata": {
  "celltoolbar": "Slideshow",
  "kernelspec": {
   "display_name": "Python 3",
   "language": "python",
   "name": "python3"
  },
  "language_info": {
   "codemirror_mode": {
    "name": "ipython",
    "version": 3
   },
   "file_extension": ".py",
   "mimetype": "text/x-python",
   "name": "python",
   "nbconvert_exporter": "python",
   "pygments_lexer": "ipython3",
   "version": "3.8.3"
  }
 },
 "nbformat": 4,
 "nbformat_minor": 4
}
