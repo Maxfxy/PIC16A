{
 "cells": [
  {
   "cell_type": "markdown",
   "metadata": {},
   "source": [
    "# Object-Oriented Random Walk\n",
    "\n",
    "Let's implement a random walk similar to the exercise in HW 1, but using object-oriented programming. We will: \n",
    "\n",
    "- Create an RW class that simulates a random walker moving \"forward\" or \"backward\" with equal probability. \n",
    "- Implement *iteration* for this class. \n",
    "- See a highly efficient approach using generators. "
   ]
  },
  {
   "cell_type": "code",
   "execution_count": 35,
   "metadata": {},
   "outputs": [],
   "source": [
    "# class definition here\n",
    "\n",
    "import random\n",
    "from matplotlib import pyplot as plt\n",
    "\n",
    "# class with instance variables for current position and history of positions \n",
    "# as instance variables\n",
    "\n",
    "class random_walk:\n",
    "    \"\"\"\n",
    "    docstring here! \n",
    "    \"\"\"\n",
    "    \n",
    "    def __init__(self):\n",
    "        self.position = 0\n",
    "        self.history  = [self.position]\n",
    "        \n",
    "    def move(self):\n",
    "        \n",
    "        # pick a random direction\n",
    "        direction = random.choice([-1, 1])\n",
    "        \n",
    "        # update current position and history\n",
    "        # self.position = self.position + direction\n",
    "        self.position += direction\n",
    "        \n",
    "        self.history.append(self.position)\n",
    "\n",
    "    def multimove(self, k_steps=1):\n",
    "        \"\"\"\n",
    "        take a user-specified number of self.move()'s\n",
    "        \"\"\"\n",
    "        for i in range(k_steps):\n",
    "            self.move()\n",
    "        \n",
    "    def plot(self):\n",
    "        plt.plot(self.history)\n",
    "        \n",
    "    def __iter__(self):\n",
    "        \n",
    "        # strategy 1: implement rw_iterator and return it here\n",
    "        # strategy 2: ??\n",
    "        return iter(self.history)"
   ]
  },
  {
   "cell_type": "code",
   "execution_count": 34,
   "metadata": {},
   "outputs": [
    {
     "data": {
      "text/plain": [
       "<list_iterator at 0x7fca616c97c0>"
      ]
     },
     "execution_count": 34,
     "metadata": {},
     "output_type": "execute_result"
    }
   ],
   "source": [
    "L = [0, 1, 2]\n",
    "L.__iter__()\n",
    "iter(L)"
   ]
  },
  {
   "cell_type": "code",
   "execution_count": 36,
   "metadata": {},
   "outputs": [],
   "source": [
    "rw = random_walk()"
   ]
  },
  {
   "cell_type": "code",
   "execution_count": 27,
   "metadata": {},
   "outputs": [
    {
     "data": {
      "image/png": "[encoded data removed]",
      "text/plain": [
       "<Figure size 432x288 with 1 Axes>"
      ]
     },
     "metadata": {
      "needs_background": "light"
     },
     "output_type": "display_data"
    }
   ],
   "source": [
    "rw.multimove(100000)\n",
    "rw.plot()"
   ]
  },
  {
   "cell_type": "markdown",
   "metadata": {},
   "source": [
    "## Iteration\n",
    "\n",
    "Now let's make it possible to loop through the positions of our random walk. For example: \n",
    "\n",
    "```python\n",
    "rw = random_walk()\n",
    "rw.multimove(5)\n",
    "\n",
    "for i in rw:\n",
    "    print(i)\n",
    "```\n",
    "```\n",
    "# printed output\n",
    "0\n",
    "1\n",
    "0\n",
    "-1\n",
    "0\n",
    "1\n",
    "```"
   ]
  },
  {
   "cell_type": "code",
   "execution_count": 38,
   "metadata": {},
   "outputs": [
    {
     "name": "stdout",
     "output_type": "stream",
     "text": [
      "0\n",
      "-1\n",
      "-2\n",
      "-1\n",
      "-2\n",
      "-3\n"
     ]
    }
   ],
   "source": [
    "rw = random_walk()\n",
    "rw.multimove(5)\n",
    "\n",
    "for i in rw:\n",
    "    print(i)"
   ]
  },
  {
   "cell_type": "code",
   "execution_count": null,
   "metadata": {},
   "outputs": [],
   "source": [
    "# need rw to have an __iter__() magic method\n",
    "# need output of rw.__iter__() to have a __next__() method. "
   ]
  },
  {
   "cell_type": "markdown",
   "metadata": {},
   "source": [
    "## Random Walk Generator\n",
    "\n",
    "The primary benefit of this generator over the approach above is that we don't store the entire history of the walk in memory (although our solution above can be modified to avoid that). Another benefit is that it's much simpler to write! "
   ]
  },
  {
   "cell_type": "code",
   "execution_count": 40,
   "metadata": {},
   "outputs": [],
   "source": [
    "# RW generator\n",
    "def rw_generator(k_steps = 1):\n",
    "    position = 0\n",
    "    yield position\n",
    "    for i in range(k_steps): \n",
    "        position += random.choice([-1, 1])\n",
    "        yield position"
   ]
  },
  {
   "cell_type": "code",
   "execution_count": 42,
   "metadata": {},
   "outputs": [
    {
     "name": "stdout",
     "output_type": "stream",
     "text": [
      "0\n",
      "1\n",
      "0\n",
      "-1\n",
      "0\n",
      "1\n",
      "0\n",
      "-1\n",
      "-2\n",
      "-1\n",
      "-2\n"
     ]
    }
   ],
   "source": [
    "for i in rw_generator(k_steps = 10):\n",
    "    print(i)"
   ]
  },
  {
   "cell_type": "code",
   "execution_count": 44,
   "metadata": {},
   "outputs": [
    {
     "data": {
      "text/plain": [
       "[<matplotlib.lines.Line2D at 0x7fca61fe8d00>]"
      ]
     },
     "execution_count": 44,
     "metadata": {},
     "output_type": "execute_result"
    },
    {
     "data": {
      "image/png": "[encoded data removed]",
      "text/plain": [
       "<Figure size 432x288 with 1 Axes>"
      ]
     },
     "metadata": {
      "needs_background": "light"
     },
     "output_type": "display_data"
    }
   ],
   "source": [
    "# generators can be \"unpacked\" as lists when needed. \n",
    "# so, we can plot them! \n",
    "# this takes away the memory advantage though =(\n",
    "plt.plot(list(rw_generator(k_steps = 100000)))"
   ]
  },
  {
   "cell_type": "code",
   "execution_count": null,
   "metadata": {},
   "outputs": [],
   "source": []
  }
 ],
 "metadata": {
  "kernelspec": {
   "display_name": "Python 3",
   "language": "python",
   "name": "python3"
  },
  "language_info": {
   "codemirror_mode": {
    "name": "ipython",
    "version": 3
   },
   "file_extension": ".py",
   "mimetype": "text/x-python",
   "name": "python",
   "nbconvert_exporter": "python",
   "pygments_lexer": "ipython3",
   "version": "3.8.5"
  }
 },
 "nbformat": 4,
 "nbformat_minor": 4
}
