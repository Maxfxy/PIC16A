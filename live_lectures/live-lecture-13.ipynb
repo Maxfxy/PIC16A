{
 "cells": [
  {
   "cell_type": "markdown",
   "metadata": {},
   "source": [
    "# Regex Practice\n",
    "\n",
    "- Reporter: 1st alphabetically by affinity vegetable. \n",
    "- Driver: 2nd alphabetically by affinity vegetable. \n",
    "- Proposer: 3rd alphabetically by affinity vegetable. \n",
    "\n",
    "Feel free to stroll on over to [Pythex](https://pythex.org/) to test your solutions. \n",
    "\n",
    "## A. Capitalized Words\n",
    "\n",
    "Import the `re` module. Write a regular expression that matches Capitalized Words but neither lowercase words nor UPPERCASE WORDS. Enclose your regex in a function `get_capitalized_words` that returns a list of all Capitalized Words.  \n",
    "\n",
    "Test it on the following string: \n",
    "\n",
    "> #FakeNews CNN trying to RUIN MY IMAGE analysis. Convolutional Neural Nets are WEAK!! Deep learning?? More like DEEP STATE HOAX!! Back to tough American logistic regs!\n",
    "#epitwitter #rstats #EconTwitter #AcademicChatter #Statistics #MachineLearning #DataScience #AI #FridayFeeling\n",
    "\n",
    "**Hint**: While there are multiple solutions, you might find it useful to use the `\\b` special character. This special character matches the end of a word, but not the following space. "
   ]
  },
  {
   "cell_type": "code",
   "execution_count": 6,
   "metadata": {},
   "outputs": [],
   "source": [
    "import re\n",
    "\n",
    "s = \" I #FakeNews CNN trying to RUIN MY IMAGE analysis. Convolutional Neural Nets are WEAK!! Deep learning?? More like DEEP STATE HOAX!! Back to tough American logistic regs! #epitwitter #rstats #EconTwitter #AcademicChatter #Statistics #MachineLearning #DataScience #AI #FridayFeeling\"\n",
    "\n",
    "def get_capitalized_words(s):\n",
    "    pattern = r\"\\s([A-Z][a-z]*)\\b\"\n",
    "    matches = re.findall(pattern, s)\n",
    "    return(matches)"
   ]
  },
  {
   "cell_type": "code",
   "execution_count": 7,
   "metadata": {},
   "outputs": [
    {
     "data": {
      "text/plain": [
       "['I', 'Convolutional', 'Neural', 'Nets', 'Deep', 'More', 'Back', 'American']"
      ]
     },
     "execution_count": 7,
     "metadata": {},
     "output_type": "execute_result"
    }
   ],
   "source": [
    "get_capitalized_words(s)"
   ]
  },
  {
   "cell_type": "markdown",
   "metadata": {},
   "source": [
    "# B. Fixing Dates\n",
    "\n",
    "The great tragedies of America are:\n",
    "\n",
    "1. Our democracy is broken, millions are incarcerated, and we cannot protect our most vulnerable from disease and brutality. \n",
    "2. We abbreviate dates using the `mm-dd-yyyy` format, while all the civilized nations of the world use either `dd-mm-yyyy` or `yyyy-mm-dd`. \n",
    "\n",
    "In this exercise, you will use regular expressions to address the second great tragedy of America. \n",
    "\n",
    "**Write a function** that converts `mm-dd-yyyy`-formatted dates into either `dd-mm-yyyy` or `yyyy-mm-dd` formatted dates. Your code should be able to handle a range of barbaric inputs, such as:\n",
    "\n",
    "- `11-02-2020`\n",
    "- `11/2/20`\n",
    "- `Nov/2nd/2020`\n",
    "\n",
    "In each case, rearrange these inputs into your specified order. For example, using `dd-mm-yyyy`, your outputs should be: \n",
    "\n",
    "- `02-11-2020`\n",
    "- `02-11-20`\n",
    "- `2nd-Nov-2020`\n",
    "\n",
    "It's fine for you to hardcode in a delimiter (i.e. you can transform `/` into `-` or vice versa). \n",
    "\n",
    "To pad a string on the left with zeros, try the method `\"9\".zfill(3)`. \n",
    "\n",
    "While it's possible to approach this problem using familiar methods like `str.split()`, for this exercise you should use regular expressions with grouping. "
   ]
  },
  {
   "cell_type": "code",
   "execution_count": 13,
   "metadata": {},
   "outputs": [],
   "source": [
    "def fix_dates(datestring):\n",
    "    pattern = r\"([A-z0-9]+)[-/]([A-z0-9]+)[-/]([A-z0-9]+)\"\n",
    "    matches = re.findall(pattern, datestring)[0]\n",
    "    \n",
    "    day = matches[1].zfill(2)\n",
    "    month = matches[0]\n",
    "    year = matches[2]\n",
    "    \n",
    "    return \"{}-{}-{}\".format(day, month, year)"
   ]
  },
  {
   "cell_type": "code",
   "execution_count": 15,
   "metadata": {},
   "outputs": [
    {
     "data": {
      "text/plain": [
       "'02-11-2020'"
      ]
     },
     "execution_count": 15,
     "metadata": {},
     "output_type": "execute_result"
    }
   ],
   "source": [
    "fix_dates(\"Nov/2nd/2020\")\n",
    "fix_dates(\"11/2/2020\")"
   ]
  }
 ],
 "metadata": {
  "kernelspec": {
   "display_name": "Python 3",
   "language": "python",
   "name": "python3"
  },
  "language_info": {
   "codemirror_mode": {
    "name": "ipython",
    "version": 3
   },
   "file_extension": ".py",
   "mimetype": "text/x-python",
   "name": "python",
   "nbconvert_exporter": "python",
   "pygments_lexer": "ipython3",
   "version": "3.8.5"
  }
 },
 "nbformat": 4,
 "nbformat_minor": 4
}
