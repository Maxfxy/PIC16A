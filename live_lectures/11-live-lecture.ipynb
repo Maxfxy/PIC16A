{
 "cells": [
  {
   "cell_type": "markdown",
   "metadata": {},
   "source": [
    "# Live Lecture 11\n",
    "\n",
    "## Review of Quiz from Monday\n",
    "\n",
    "Which of the following **must be true** for the following code to execute without error? \n",
    "\n",
    "```python\n",
    "for x in C:\n",
    "    print(x)\n",
    "```\n",
    "\n",
    "```\n",
    "(A): C has a __next__() method. \n",
    "(B): C has an __iter__() method.\n",
    "(C): C is a container. \n",
    "(D): The code len(C) executes without error. \n",
    "(E): The output of iter(C) has a __next__() method. \n",
    "(F): C possesses an instance variable i. \n",
    "```"
   ]
  },
  {
   "cell_type": "code",
   "execution_count": 14,
   "metadata": {},
   "outputs": [],
   "source": [
    "class my_class:\n",
    "    def __iter__(self):\n",
    "        return my_iterator()\n",
    "    \n",
    "    def __len__(self):\n",
    "        return 9\n",
    "    \n",
    "class my_iterator:\n",
    "    def __next__(self):\n",
    "        return 1\n",
    "\n",
    "C = my_class()\n",
    "\n",
    "# for x in C:\n",
    "#     print(x)"
   ]
  },
  {
   "cell_type": "code",
   "execution_count": 15,
   "metadata": {},
   "outputs": [
    {
     "data": {
      "text/plain": [
       "9"
      ]
     },
     "execution_count": 15,
     "metadata": {},
     "output_type": "execute_result"
    }
   ],
   "source": [
    "# type(C)\n",
    "len(C)"
   ]
  },
  {
   "cell_type": "markdown",
   "metadata": {},
   "source": [
    "<br> <br> <br> <br> <br> <br> <br> <br>\n",
    "\n",
    "## Example from Recorded Lecture on Iteration\n",
    "\n",
    "```python\n",
    "class sortedDict(dict):\n",
    "    \n",
    "    def __iter__(self):\n",
    "        return sortedDictIterator(self)\n",
    "\n",
    "class sortedDictIterator():\n",
    "    \n",
    "    def __init__(self, sD):\n",
    "        self.i = 0\n",
    "        self.keys = list(sD.keys())\n",
    "        self.keys.sort()\n",
    "    \n",
    "    def __next__(self):\n",
    "        if self.i == len(self.keys):\n",
    "            raise StopIteration\n",
    "        \n",
    "        key = self.keys[self.i]\n",
    "        self.i += 1\n",
    "        \n",
    "        return(key, sD[key])\n",
    "```\n",
    "\n",
    "\n",
    "Why does this work??? \n",
    "\n",
    "```python\n",
    "for (key, val) in sD:\n",
    "    print(key, val)\n",
    "```\n",
    "\n",
    "Don't we need to do `for (key, val) in sD.items()`? "
   ]
  },
  {
   "cell_type": "markdown",
   "metadata": {},
   "source": [
    "<br> <br> <br> <br> <br> <br> <br> <br>\n",
    "\n",
    "## Accessing Variables from Other Classes\n",
    "\n",
    "*code above gives an example, but we can do more here if needed*"
   ]
  },
  {
   "cell_type": "code",
   "execution_count": null,
   "metadata": {},
   "outputs": [],
   "source": []
  },
  {
   "cell_type": "markdown",
   "metadata": {},
   "source": [
    "<br> <br> <br> <br> <br> <br> <br> <br>\n",
    "\n",
    "# `np.random.rand`\n",
    "\n",
    "Does this always return a number between 0 and 1?"
   ]
  },
  {
   "cell_type": "code",
   "execution_count": 23,
   "metadata": {},
   "outputs": [
    {
     "data": {
      "text/plain": [
       "0.6932895286070694"
      ]
     },
     "execution_count": 23,
     "metadata": {},
     "output_type": "execute_result"
    }
   ],
   "source": [
    "import numpy as np\n",
    "\n",
    "np.random.rand()"
   ]
  },
  {
   "cell_type": "code",
   "execution_count": 24,
   "metadata": {},
   "outputs": [],
   "source": [
    "?np.random.rand"
   ]
  }
 ],
 "metadata": {
  "kernelspec": {
   "display_name": "Python 3",
   "language": "python",
   "name": "python3"
  },
  "language_info": {
   "codemirror_mode": {
    "name": "ipython",
    "version": 3
   },
   "file_extension": ".py",
   "mimetype": "text/x-python",
   "name": "python",
   "nbconvert_exporter": "python",
   "pygments_lexer": "ipython3",
   "version": "3.8.5"
  }
 },
 "nbformat": 4,
 "nbformat_minor": 4
}
