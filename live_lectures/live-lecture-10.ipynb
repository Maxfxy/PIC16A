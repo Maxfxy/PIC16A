{
 "cells": [
  {
   "cell_type": "markdown",
   "metadata": {},
   "source": [
    "# Unit Testing Practice\n",
    "\n",
    "Today, we will write unit tests for a version of the `ArithmeticDict` class that we studied in a recent lecture. \n",
    "\n",
    "### (A) Assign Roles (3 minutes)\n",
    "\n",
    "Recall your affinity vegetable (\"If you were a vegetable, which vegetable would you be and why?\"). Feel free to share with your group both your vegetable and the justification. \n",
    "\n",
    "- The first person alphabetically *by their affinity vegetable* is the **Reporter**. Your main responsibility is to understand the code and share with the group if I call on you later. You can also help the Proposer and Driver generate and execute ideas. \n",
    "- The second person alphabetically is the **Proposer**, just like in Discussion. \n",
    "- The third person alphabetically is the **Driver**, again just like in Discussion. The Driver should share their screen. \n",
    "\n",
    "### (B) Review `ArithmeticDict` (5 minutes)\n",
    "\n",
    "Recall that an `ArithmeticDict` is a subclass which inherits from the superclass `dict`, and extends `dict` by supporting entrywise addition. Please review the below code for `ArithmeticDict` to remind yourself how it works. You should also run the example usage supplied below and convince yourself that you're happy with how it works. \n",
    "\n",
    "If you're playing along at home, you'll notice that I've also added a custom `__init__()` method. What does it do? "
   ]
  },
  {
   "cell_type": "code",
   "execution_count": 4,
   "metadata": {},
   "outputs": [],
   "source": [
    "class ArithmeticDict(dict):\n",
    "    \"\"\"\n",
    "    A dictionary class that supports entrywise addition.\n",
    "    \"\"\"\n",
    "    \n",
    "    def __init__(self, d):\n",
    "        \"\"\"\n",
    "        call the standard __init__ method for dictionaries, but\n",
    "        add type checking to ensure that the values of d are \n",
    "        ints or floats\n",
    "        \"\"\"\n",
    "        super().__init__(d)\n",
    "        for v in d.values():\n",
    "            if type(v) not in [int, float]:\n",
    "                raise TypeError(\"Values of input dict must be numeric\")\n",
    "    \n",
    "    def __add__(self, to_add):\n",
    "        \"\"\"\n",
    "        Add two ArithmeticDicts entrywise. \n",
    "        \"\"\"\n",
    "        \n",
    "        new = {}\n",
    "        keys1 = set(self.keys())\n",
    "        keys2 = set(to_add.keys())\n",
    "        all_keys = keys1.union(keys2) # set of keys in either self or to_add\n",
    "        \n",
    "        for key in all_keys:\n",
    "            new.update({key : self.get(key, 0) + to_add.get(key, 0)})\n",
    "            \n",
    "        return ArithmeticDict(new)"
   ]
  },
  {
   "cell_type": "code",
   "execution_count": 5,
   "metadata": {},
   "outputs": [
    {
     "data": {
      "text/plain": [
       "{'a': 2, 'b': 5, 'c': 7}"
      ]
     },
     "execution_count": 5,
     "metadata": {},
     "output_type": "execute_result"
    }
   ],
   "source": [
    "# example usage \n",
    "x = ArithmeticDict({'a' : 1, 'b' : 2})\n",
    "y = ArithmeticDict({'a' : 1, 'b' : 3, 'c' : 7})\n",
    "\n",
    "x+y"
   ]
  },
  {
   "cell_type": "markdown",
   "metadata": {},
   "source": [
    "### (C) Write Unit Tests (20 minutes) "
   ]
  },
  {
   "cell_type": "markdown",
   "metadata": {},
   "source": [
    "Working with your partners, write as many unit tests for the `ArithmeticDict` class as you can think of. Fill in your tests in the class outline below. You can execute your tests in Part (D). Feel free to alternate between these two steps to check that your tests are behaving as expected.  \n",
    "\n",
    "The two tests you should implement first are: \n",
    "\n",
    "1. Test that initializing with a `dict` whose keys are not numeric raises a `TypeError`. \n",
    "2. Test that \"addition works\" (there are many ways to do this -- try one or more). \n",
    "\n",
    "What other tests can you come up with? "
   ]
  },
  {
   "cell_type": "code",
   "execution_count": 34,
   "metadata": {},
   "outputs": [],
   "source": [
    "import unittest\n",
    "\n",
    "class TestArithmeticDict(unittest.TestCase):\n",
    "    \n",
    "    \n",
    "    \n",
    "    def TestTypeError(self):    \n",
    "        with self.assertRaises(TypeError):\n",
    "            d = {'a' : 'a', 'b' : 1}\n",
    "            A = ArithmeticDict(d)\n",
    "    \n",
    "    def TestAddition(self):\n",
    "        # one idea: check that the length of the resulting \n",
    "        # dictionary would be the length of the longer of the two inputs\n",
    "        \n",
    "        # another idea: did addition \n",
    "        \n",
    "        d1 = ArithmeticDict({'a' : 1, 'b' : 1})\n",
    "        d2 = ArithmeticDict({'b' : 1, 'c' : 2})\n",
    "        \n",
    "        d = d1 + d2\n",
    "        \n",
    "        self.assertEqual(d['b'], 2)\n",
    "        "
   ]
  },
  {
   "cell_type": "markdown",
   "metadata": {},
   "source": [
    "### (D) Run Unit Tests \n"
   ]
  },
  {
   "cell_type": "code",
   "execution_count": 35,
   "metadata": {},
   "outputs": [],
   "source": [
    "tester = TestArithmeticDict()\n",
    "tester.TestTypeError()\n",
    "tester.TestAddition()\n",
    "# call methods of tester here"
   ]
  }
 ],
 "metadata": {
  "kernelspec": {
   "display_name": "Python 3",
   "language": "python",
   "name": "python3"
  },
  "language_info": {
   "codemirror_mode": {
    "name": "ipython",
    "version": 3
   },
   "file_extension": ".py",
   "mimetype": "text/x-python",
   "name": "python",
   "nbconvert_exporter": "python",
   "pygments_lexer": "ipython3",
   "version": "3.8.3"
  }
 },
 "nbformat": 4,
 "nbformat_minor": 4
}
