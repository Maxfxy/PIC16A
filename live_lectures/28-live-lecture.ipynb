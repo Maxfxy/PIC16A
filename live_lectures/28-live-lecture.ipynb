{
 "cells": [
  {
   "cell_type": "markdown",
   "metadata": {},
   "source": [
    "# Regex Practice\n",
    "\n",
    "We're going to use [Pythex](https://pythex.org/) to help us test our solutions here. \n",
    "\n",
    "## A. Capitalized Words\n",
    "\n",
    "Import the `re` module. Write a regular expression that matches Capitalized Words but neither lowercase words nor UPPERCASE WORDS. Enclose your regex in a function `get_capitalized_words` that returns a list of all Capitalized Words.  \n",
    "\n",
    "Test it on the following string: \n",
    "\n",
    "> #FakeNews CNN trying to RUIN MY IMAGE analysis. Convolutional Neural Nets are WEAK!! Deep learning?? More like DEEP STATE HOAX!! Back to tough American logistic regs!\n",
    "#epitwitter #rstats #EconTwitter #AcademicChatter #Statistics #MachineLearning #DataScience #AI #FridayFeeling\n",
    "\n",
    "**Hint**: While there are multiple solutions, you might find it useful to use the `\\b` special character. This special character matches the end of a word, but not the following space. "
   ]
  },
  {
   "cell_type": "code",
   "execution_count": 1,
   "metadata": {},
   "outputs": [],
   "source": [
    "import re\n",
    "\n",
    "s = \"#FakeNews CNN trying to RUIN MY IMAGE analysis. Convolutional Neural Nets are WEAK!! Deep learning?? More like DEEP STATE HOAX!! Back to tough American logistic regs! #epitwitter #rstats #EconTwitter #AcademicChatter #Statistics #MachineLearning #DataScience #AI #FridayFeeling\"\n",
    "\n",
    "def get_capitalized_words(s):\n",
    "    pattern = r\"\\s([A-Z][a-z]*)\\b\"\n",
    "    matches = re.findall(pattern, s)\n",
    "    return(matches)"
   ]
  },
  {
   "cell_type": "code",
   "execution_count": 2,
   "metadata": {},
   "outputs": [
    {
     "data": {
      "text/plain": [
       "['Convolutional', 'Neural', 'Nets', 'Deep', 'More', 'Back', 'American']"
      ]
     },
     "execution_count": 2,
     "metadata": {},
     "output_type": "execute_result"
    }
   ],
   "source": [
    "get_capitalized_words(s)"
   ]
  },
  {
   "cell_type": "markdown",
   "metadata": {},
   "source": [
    "# B. Fixing Dates\n",
    "\n",
    "The great tragedies of America are:\n",
    "\n",
    "1. Our democracy is broken, millions are incarcerated, and we cannot protect our most vulnerable from disease and brutality. \n",
    "2. We abbreviate dates using the `mm-dd-yyyy` format, while all the civilized nations of the world use either `dd-mm-yyyy` or `yyyy-mm-dd`. \n",
    "\n",
    "In this exercise, you will use regular expressions to address the second great tragedy of America. \n",
    "\n",
    "**Write a function** that converts `mm-dd-yyyy`-formatted dates into either `dd-mm-yyyy` or `yyyy-mm-dd` formatted dates. Your code should be able to handle a range of barbaric inputs, such as:\n",
    "\n",
    "- `11-02-2020`\n",
    "- `11/2/20`\n",
    "- `Nov/2nd/2020`\n",
    "\n",
    "In each case, rearrange these inputs into your specified order. For example, using `dd-mm-yyyy`, your outputs should be: \n",
    "\n",
    "- `02-11-2020`\n",
    "- `02-11-20`\n",
    "- `2nd-Nov-2020`\n",
    "\n",
    "It's fine for you to hardcode in a delimiter (i.e. you can transform `/` into `-` or vice versa). \n",
    "\n",
    "To pad a string on the left with zeros, try the method `\"9\".zfill(3)`. \n",
    "\n",
    "While it's possible to approach this problem using familiar methods like `str.split()`, for this exercise you should use regular expressions with grouping. "
   ]
  },
  {
   "cell_type": "code",
   "execution_count": 3,
   "metadata": {},
   "outputs": [],
   "source": [
    "def fix_dates(datestring):\n",
    "    pattern = r\"([A-z0-9]+)[-/]([A-z0-9]+)[-/]([A-z0-9]+)\"\n",
    "    matches = re.findall(pattern, datestring)[0]\n",
    "    \n",
    "    day = matches[1].zfill(2)\n",
    "    month = matches[0]\n",
    "    year = matches[2]\n",
    "    \n",
    "    return \"{}-{}-{}\".format(day, month, year)"
   ]
  },
  {
   "cell_type": "code",
   "execution_count": 4,
   "metadata": {},
   "outputs": [
    {
     "data": {
      "text/plain": [
       "('8th-Mar-2021', '08-03-2021')"
      ]
     },
     "execution_count": 4,
     "metadata": {},
     "output_type": "execute_result"
    }
   ],
   "source": [
    "fix_dates(\"Mar/8th/2021\"), fix_dates(\"03/08/2021\")"
   ]
  },
  {
   "cell_type": "markdown",
   "metadata": {},
   "source": [
    "# Python Documentation: How Does It Work?\n",
    "\n",
    "Recall that we can use `?` to retrieve information about how a Python function or class works. "
   ]
  },
  {
   "cell_type": "code",
   "execution_count": 5,
   "metadata": {},
   "outputs": [],
   "source": [
    "import re"
   ]
  },
  {
   "cell_type": "code",
   "execution_count": 6,
   "metadata": {},
   "outputs": [],
   "source": [
    "?re.findall"
   ]
  },
  {
   "cell_type": "code",
   "execution_count": 7,
   "metadata": {},
   "outputs": [],
   "source": [
    "from sklearn.linear_model import LogisticRegression"
   ]
  },
  {
   "cell_type": "code",
   "execution_count": 8,
   "metadata": {},
   "outputs": [],
   "source": [
    "?LogisticRegression"
   ]
  },
  {
   "cell_type": "markdown",
   "metadata": {},
   "source": [
    "Here's a question: how does the Python documentation \"know\" which part of the function is the signature, and which part is the docstring? It would be tedious to manually input all this information for each function that one wrote. How could one create a \"code parser\" that would enable partially automated generation of documentation? "
   ]
  },
  {
   "cell_type": "markdown",
   "metadata": {},
   "source": [
    "## Part C\n",
    "\n",
    "Write a regular expression that identifies the names of all classes and functions/methods defined in a piece of correct Python code. For example, in the string \n",
    "\n",
    "```\n",
    "s = \"\"\"\n",
    "    class foo:\n",
    "        \n",
    "        def __init__(self):\n",
    "            pass\n",
    "        \n",
    "        def bar(self, x):\n",
    "            print(x)\n",
    "            \n",
    "        def baz(self, y):\n",
    "            self.y = y\n",
    "\"\"\"\n",
    "```\n",
    "\n",
    "your regex should match `foo`, `__init__`, `bar`, and `baz`. You will likely need a lookbehind. You may also want to remember the `or` operator `|`. Use `re.findall` to demonstrate your result. "
   ]
  },
  {
   "cell_type": "code",
   "execution_count": 9,
   "metadata": {},
   "outputs": [
    {
     "data": {
      "text/plain": [
       "['foo', '__init__', 'bar', 'baz']"
      ]
     },
     "execution_count": 9,
     "metadata": {},
     "output_type": "execute_result"
    }
   ],
   "source": [
    "import re\n",
    "\n",
    "s = \"\"\"\n",
    "    class foo:\n",
    "        \n",
    "        def __init__(self):\n",
    "            pass\n",
    "        \n",
    "        def bar(self, x):\n",
    "            print(x)\n",
    "            \n",
    "        def baz(self, y):\n",
    "            self.y = y\n",
    "\"\"\"\n",
    "\n",
    "# solution here\n",
    "pattern = r\"(?<=[class|def] )[A-z0-9]+\"\n",
    "pattern = r\"(?<=[class|def] )\\w+\"\n",
    "\n",
    "re.findall(pattern, s)"
   ]
  },
  {
   "cell_type": "markdown",
   "metadata": {},
   "source": [
    "## Part D\n",
    "\n",
    "Now, write an expression that will match the name of each function and its arguments (you don't need to capture the class name in this part). The arguments may be given as a single string with `,` commas. For example, if `s` is as above, then the list of matches should be: \n",
    "\n",
    "```\n",
    "[('__init__', 'self'), ('bar', 'self, x'), ('baz', 'self, y')]\n",
    "```\n"
   ]
  },
  {
   "cell_type": "code",
   "execution_count": 10,
   "metadata": {},
   "outputs": [
    {
     "data": {
      "text/plain": [
       "[('__init__', 'self'), ('bar', 'self, x'), ('baz', 'self, y')]"
      ]
     },
     "execution_count": 10,
     "metadata": {},
     "output_type": "execute_result"
    }
   ],
   "source": [
    "# your solution here\n",
    "pattern = r\"(?<=[def] )([A-z0-9]+)\\(([A-z0-9,\\s]+)\\)\"\n",
    "results = re.findall(pattern, s)\n",
    "results"
   ]
  },
  {
   "cell_type": "code",
   "execution_count": 11,
   "metadata": {},
   "outputs": [
    {
     "data": {
      "text/plain": [
       "{'__init__': ['self'], 'bar': ['self', 'x'], 'baz': ['self', 'y']}"
      ]
     },
     "execution_count": 11,
     "metadata": {},
     "output_type": "execute_result"
    }
   ],
   "source": [
    "# maybe a bit more useful for future processing\n",
    "args = {item[0] : item[1].split(\", \") for item in results}\n",
    "args"
   ]
  },
  {
   "cell_type": "code",
   "execution_count": 12,
   "metadata": {},
   "outputs": [
    {
     "data": {
      "text/plain": [
       "['self', 'x']"
      ]
     },
     "execution_count": 12,
     "metadata": {},
     "output_type": "execute_result"
    }
   ],
   "source": [
    "args[\"bar\"]"
   ]
  }
 ],
 "metadata": {
  "kernelspec": {
   "display_name": "Python 3",
   "language": "python",
   "name": "python3"
  },
  "language_info": {
   "codemirror_mode": {
    "name": "ipython",
    "version": 3
   },
   "file_extension": ".py",
   "mimetype": "text/x-python",
   "name": "python",
   "nbconvert_exporter": "python",
   "pygments_lexer": "ipython3",
   "version": "3.8.5"
  }
 },
 "nbformat": 4,
 "nbformat_minor": 4
}
