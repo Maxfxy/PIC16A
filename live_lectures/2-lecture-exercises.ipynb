{
 "cells": [
  {
   "cell_type": "markdown",
   "metadata": {
    "slideshow": {
     "slide_type": "slide"
    }
   },
   "source": [
    "# Live Lecture 3\n",
    "\n"
   ]
  },
  {
   "cell_type": "markdown",
   "metadata": {
    "slideshow": {
     "slide_type": "slide"
    }
   },
   "source": [
    "## Plan for Today\n",
    "\n",
    "- When to initialize loop counters? \n",
    "    - Iterator counters and global scope.\n",
    "- `break` and `continue`\n",
    "- `[*]`?\n",
    "- Group HW help (breakout rooms)"
   ]
  },
  {
   "cell_type": "markdown",
   "metadata": {
    "slideshow": {
     "slide_type": "slide"
    }
   },
   "source": [
    "### When to initialize loop counters? "
   ]
  },
  {
   "cell_type": "code",
   "execution_count": 4,
   "metadata": {
    "slideshow": {
     "slide_type": "slide"
    }
   },
   "outputs": [
    {
     "data": {
      "text/plain": [
       "True"
      ]
     },
     "execution_count": 4,
     "metadata": {},
     "output_type": "execute_result"
    }
   ],
   "source": [
    "# (A) This works, l has value \"o\"\n",
    "# (B) This works, l has value \"t\"\n",
    "# (C) This errors, l is not defined\n",
    "# (D) This errors, can't iterate over strings. \n",
    "# (E) This runs in an infinite loop\n",
    "\n",
    "# l = \"0\"\n",
    "# while l in \"to boldly go\":\n",
    "#     print(l)\n",
    "\n",
    "\"o\" in \"to boldly go\""
   ]
  },
  {
   "cell_type": "code",
   "execution_count": 6,
   "metadata": {
    "slideshow": {
     "slide_type": "slide"
    }
   },
   "outputs": [
    {
     "data": {
      "text/plain": [
       "0"
      ]
     },
     "execution_count": 6,
     "metadata": {},
     "output_type": "execute_result"
    }
   ],
   "source": [
    "# (A) This works, i has value 0\n",
    "# (B) This works, i has value 10\n",
    "# (C) This errors, i is not defined\n",
    "# (D) This errors, can't use variables previously \n",
    "#       defined in a while loop\n",
    "# (E) This runs in an infinite loop\n",
    "\n",
    "# i = 0\n",
    "# while i in range(10):\n",
    "#     print(i)\n",
    "\n",
    "i"
   ]
  },
  {
   "cell_type": "code",
   "execution_count": 7,
   "metadata": {
    "slideshow": {
     "slide_type": "slide"
    }
   },
   "outputs": [
    {
     "data": {
      "text/plain": [
       "10"
      ]
     },
     "execution_count": 7,
     "metadata": {},
     "output_type": "execute_result"
    }
   ],
   "source": [
    "# (A) This works, i has value 0\n",
    "# (B) This works, i has value 9\n",
    "# (C) This works, i has value 10\n",
    "# (D) This errors, can't use variables previously defined in a while loop\n",
    "# (E) This runs in an infinite loop\n",
    "\n",
    "i = 0\n",
    "while i in range(10):\n",
    "#     print(i)\n",
    "    i += 1\n",
    "i"
   ]
  },
  {
   "cell_type": "code",
   "execution_count": 9,
   "metadata": {
    "slideshow": {
     "slide_type": "slide"
    }
   },
   "outputs": [
    {
     "name": "stdout",
     "output_type": "stream",
     "text": [
      "to\n",
      "boldly\n",
      "go\n"
     ]
    },
    {
     "data": {
      "text/plain": [
       "'go'"
      ]
     },
     "execution_count": 9,
     "metadata": {},
     "output_type": "execute_result"
    }
   ],
   "source": [
    "# (A) This works, w has value \"o\"\n",
    "# (B) This works, w has value \"go\"\n",
    "# (C) This works, but variable w has no value. \n",
    "# (D) This errors, must define index variable prior to for loop.\n",
    "# (E) This runs in an infinite loop\n",
    "\n",
    "for w in \"to boldly go\".split():\n",
    "    print(w)\n",
    "w    "
   ]
  },
  {
   "cell_type": "markdown",
   "metadata": {
    "slideshow": {
     "slide_type": "slide"
    }
   },
   "source": [
    "### `[*]`"
   ]
  },
  {
   "cell_type": "code",
   "execution_count": 12,
   "metadata": {
    "slideshow": {
     "slide_type": "slide"
    }
   },
   "outputs": [],
   "source": [
    "# infinite loop here\n"
   ]
  },
  {
   "cell_type": "code",
   "execution_count": 11,
   "metadata": {
    "slideshow": {
     "slide_type": "-"
    }
   },
   "outputs": [
    {
     "data": {
      "text/plain": [
       "4"
      ]
     },
     "execution_count": 11,
     "metadata": {},
     "output_type": "execute_result"
    }
   ],
   "source": [
    "# try to run some other code\n",
    "2+2"
   ]
  },
  {
   "cell_type": "code",
   "execution_count": 13,
   "metadata": {
    "slideshow": {
     "slide_type": "slide"
    }
   },
   "outputs": [
    {
     "name": "stdout",
     "output_type": "stream",
     "text": [
      "Found letter y at position 8\n"
     ]
    }
   ],
   "source": [
    "# find first y in \"to boldly go\"\n",
    "\n",
    "s = \"to boldly go\"\n",
    "i = 0\n",
    "while True:\n",
    "    letter = s[i]\n",
    "    if letter == \"y\":\n",
    "        print(\"Found letter y at position \" + str(i))\n",
    "        break\n",
    "    i += 1"
   ]
  },
  {
   "cell_type": "code",
   "execution_count": 15,
   "metadata": {
    "slideshow": {
     "slide_type": "slide"
    }
   },
   "outputs": [
    {
     "name": "stdout",
     "output_type": "stream",
     "text": [
      "o\n",
      "o\n",
      "o\n"
     ]
    }
   ],
   "source": [
    "# continue\n",
    "s = \"to boldly go\"\n",
    "\n",
    "for letter in s:\n",
    "    if letter != \"o\":\n",
    "        continue\n",
    "    print(letter)"
   ]
  },
  {
   "cell_type": "code",
   "execution_count": 17,
   "metadata": {
    "slideshow": {
     "slide_type": "slide"
    }
   },
   "outputs": [
    {
     "name": "stdout",
     "output_type": "stream",
     "text": [
      "0\n",
      "1\n",
      "2\n",
      "3\n",
      "4\n"
     ]
    }
   ],
   "source": [
    "for i in range(10):\n",
    "    pass\n",
    "\n",
    "for i in range(5):\n",
    "    print(i)"
   ]
  },
  {
   "cell_type": "markdown",
   "metadata": {
    "slideshow": {
     "slide_type": "slide"
    }
   },
   "source": [
    "### HW Group Work\n",
    "\n",
    "- (A): Problem 1\n",
    "- (B): Problem 2\n",
    "- (C): Problem 3\n",
    "- (D): Problem 4\n",
    "- (E): Problem 5\n",
    "- (F): Qs for prof. "
   ]
  },
  {
   "cell_type": "code",
   "execution_count": null,
   "metadata": {},
   "outputs": [],
   "source": []
  }
 ],
 "metadata": {
  "celltoolbar": "Slideshow",
  "kernelspec": {
   "display_name": "Python 3",
   "language": "python",
   "name": "python3"
  },
  "language_info": {
   "codemirror_mode": {
    "name": "ipython",
    "version": 3
   },
   "file_extension": ".py",
   "mimetype": "text/x-python",
   "name": "python",
   "nbconvert_exporter": "python",
   "pygments_lexer": "ipython3",
   "version": "3.8.3"
  }
 },
 "nbformat": 4,
 "nbformat_minor": 4
}
