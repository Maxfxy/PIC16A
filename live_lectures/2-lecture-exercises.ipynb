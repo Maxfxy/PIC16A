{
 "cells": [
  {
   "cell_type": "markdown",
   "metadata": {},
   "source": [
    "# Code Exercises: Iteration, List Comprehensions"
   ]
  },
  {
   "cell_type": "markdown",
   "metadata": {},
   "source": [
    "## Instructions\n",
    "\n",
    "1. Open Jupyter Notebook or Lab. \n",
    "2. Optional: [download this notebook](https://philchodrow.github.io/PIC16A/live_lectures/2-lecture-exercises.ipynb) and open it. \n",
    "3. Otherwise, open a blank notebook. \n",
    "\n",
    "### Breakout Room 1: Introductions\n",
    "\n",
    "Briefly introduce yourselves and share your affinity vegetable (\"if you were a vegetable, what vegetable would you be, and why?\"). \n",
    "\n",
    "Write down the number of the breakout room you're in. \n",
    "\n",
    "### Instructions for Exercises\n",
    "\n",
    "- For the first exercise, the first person alphabetically by first name in each group is the **Reporter.** The Reporter's job is to closely follow the code, understand how it works, and share it with the class if I call your group number. The Reporter is also free to comment on and make suggestions related to code. \n",
    "- The second person alphabetically by name is the **Driver.**\n",
    "- The third person alphabetically by name is the **Proposer.**\n",
    "\n",
    "Each time you re-enter the breakout room, rotate. The Reporter becomes the Proposer, the Proposer becomes the Driver, the Driver becomes the Reporter. "
   ]
  },
  {
   "cell_type": "markdown",
   "metadata": {},
   "source": [
    "# Exercises\n",
    "\n",
    "Create the following lists. Some of them can be constructed easily via list comprehensions, while others are more complex and may require the use of `for` or `while` loops. "
   ]
  },
  {
   "cell_type": "code",
   "execution_count": null,
   "metadata": {
    "slideshow": {
     "slide_type": "slide"
    }
   },
   "outputs": [],
   "source": [
    "# 1. list of words of even length in a string\n",
    "# one line of code\n",
    "# 3 minutes\n",
    "\n",
    "s = \"to boldly go where no one has gone before\"\n",
    "\n"
   ]
  },
  {
   "cell_type": "code",
   "execution_count": null,
   "metadata": {
    "slideshow": {
     "slide_type": "slide"
    }
   },
   "outputs": [],
   "source": [
    "# 2. every word AFTER a word of even length in a string\n",
    "# two lines of code (or one line that's too long)\n",
    "# 5 minutes\n",
    "\n",
    "s = \"to boldly go where no one has gone before\"\n",
    "\n"
   ]
  },
  {
   "cell_type": "code",
   "execution_count": null,
   "metadata": {
    "slideshow": {
     "slide_type": "slide"
    }
   },
   "outputs": [],
   "source": [
    "# 3. all possible pairs of words from two lists\n",
    "# one line of code\n",
    "# 5 minutes\n",
    "\n",
    "L1 = [\"red\", \"blue\", \"green\"]\n",
    "L2 = [\"animal\", \"vegetable\", \"mineral\"]\n",
    "\n"
   ]
  },
  {
   "cell_type": "code",
   "execution_count": null,
   "metadata": {
    "slideshow": {
     "slide_type": "slide"
    }
   },
   "outputs": [],
   "source": [
    "# 4. if a number, divide by 4. If a string, multiply by 3. \n",
    "# ~ 6 lines of code. \n",
    "# may assume that L contains only strings, ints, and floats. \n",
    "# 8 minutes\n",
    "\n",
    "L = [4, \"blah\", 10]\n",
    "# desired output: [1.0, \"blahblahblah\", 2.5]\n",
    "\n",
    "\n",
    "\n",
    "\n",
    "\n",
    "\n"
   ]
  },
  {
   "cell_type": "code",
   "execution_count": null,
   "metadata": {
    "slideshow": {
     "slide_type": "slide"
    }
   },
   "outputs": [],
   "source": [
    "# 5. Challenge: list of prime numbers up to 100. \n",
    "# 8 lines of code\n",
    "# 12 minutes\n",
    "\n",
    "\n",
    "\n",
    "\n",
    "\n",
    "\n",
    "\n",
    "\n",
    "\n",
    "\n",
    "print(primes) # doesn't count"
   ]
  }
 ],
 "metadata": {
  "celltoolbar": "Slideshow",
  "kernelspec": {
   "display_name": "Python 3",
   "language": "python",
   "name": "python3"
  },
  "language_info": {
   "codemirror_mode": {
    "name": "ipython",
    "version": 3
   },
   "file_extension": ".py",
   "mimetype": "text/x-python",
   "name": "python",
   "nbconvert_exporter": "python",
   "pygments_lexer": "ipython3",
   "version": "3.8.3"
  }
 },
 "nbformat": 4,
 "nbformat_minor": 4
}
