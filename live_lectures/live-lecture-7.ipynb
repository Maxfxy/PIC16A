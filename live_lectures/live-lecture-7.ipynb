{
 "cells": [
  {
   "cell_type": "markdown",
   "metadata": {},
   "source": [
    "## Instructions\n",
    "\n",
    "### Roles\n",
    "\n",
    "- **Facilitator:** Ask questions, keep the conversation flowing. \n",
    "- **Recorder:** Keep notes in the chat on important answers / examples. \n",
    "- **Reporter:** Share the team's solutions when called on. \n",
    "\n",
    "First alphabetical by first name is the Facilitator, second is the Reporter, third is the Recorder. \n",
    "\n",
    "\n",
    "### Question 1\n",
    "\n",
    "For each of the following statements, determine whether it is true or false. \n",
    "- **If the statement is false**, give a counterexample through a piece of working code. \n",
    "- **If the statement is true**, identify a reasonable mistake that could lead someone to believe that it was false. \n",
    "\n",
    "Spend about 3-4 minutes on each question. \n",
    "\n",
    "**(A)**. Every class definition requires an `__init__()` method in order for the definition to run without an error. \n",
    "\n",
    "**(B)**. Both class and instance variables must be preceded by self when referenced inside the class definition. \n",
    "\n",
    "**(C)**. Class and instance variables can be accessed either by custom-designed functions or by direct reference. \n",
    "\n",
    "**(D)**. Every class definition requires an `__init__()` method in order to instantiate objects in that class without error. "
   ]
  },
  {
   "cell_type": "markdown",
   "metadata": {},
   "source": [
    "### Question 2\n",
    "\n",
    "Same instructions as above: each of the following statements, determine whether it is true or false. \n",
    "- **If the statement is false**, give a counterexample through a piece of working code. \n",
    "- **If the statement is true**, identify a reasonable mistake that could lead someone to believe that it was false. \n",
    "\n",
    "Spend about 3-4 minutes on each question. \n",
    "\n",
    "**(A)**. If `classB` inherits from `classA`, and `classB` has method `foo()`, then `classA` **cannot** have method `foo()`. \n",
    "\n",
    "**(B)**. If `classB` inherits from `classA`, and `classB` has method `foo()`, then `classA` **must** have method `foo()`. "
   ]
  },
  {
   "cell_type": "code",
   "execution_count": null,
   "metadata": {},
   "outputs": [],
   "source": []
  }
 ],
 "metadata": {
  "kernelspec": {
   "display_name": "Python 3",
   "language": "python",
   "name": "python3"
  },
  "language_info": {
   "codemirror_mode": {
    "name": "ipython",
    "version": 3
   },
   "file_extension": ".py",
   "mimetype": "text/x-python",
   "name": "python",
   "nbconvert_exporter": "python",
   "pygments_lexer": "ipython3",
   "version": "3.8.3"
  }
 },
 "nbformat": 4,
 "nbformat_minor": 4
}
