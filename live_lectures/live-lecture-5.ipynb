{
 "cells": [
  {
   "cell_type": "markdown",
   "metadata": {
    "slideshow": {
     "slide_type": "slide"
    }
   },
   "source": [
    "# Lecture 5\n",
    "\n",
    "Roles for today's exercises: \n",
    "- **Facilitator**: (ask questions, keep the convo moving) \n",
    "- **Recorder**: take notes and put them in the chat. \n",
    "- **Reporter**: (share with the class if called. Should copy/paste the notes of the Recorder)\n",
    "\n",
    "First person alphabetically is the Facilitator. Rotate each time. "
   ]
  },
  {
   "cell_type": "markdown",
   "metadata": {
    "slideshow": {
     "slide_type": "subslide"
    }
   },
   "source": [
    "1. What possible inputs did you consider? \n",
    "2. If you said that a certain behavior is *not* possible, what is the reason? "
   ]
  },
  {
   "cell_type": "code",
   "execution_count": 1,
   "metadata": {
    "slideshow": {
     "slide_type": "slide"
    }
   },
   "outputs": [],
   "source": [
    "# It is possible to make this function...\n",
    "### (A): Raise a TypeError\n",
    "# (B): Print a message\n",
    "### (C): Return x.keys()\n",
    "# (D): Return 2\n",
    "# (E): Return 6\n",
    "# (F): Return [2, 6]\n",
    "\n",
    "# DISCUSSION: In this case, there are only two possibilities. \n",
    "# If a dict is supplied, then we return x.keys(). \n",
    "# Because the return statement has executed, no other lines of \n",
    "# the function are evaluated. \n",
    "# If, on the other hand, anything else is supplied, then we raise \n",
    "# a TypeError. Similarly to return, the function execution halts \n",
    "# as soon as we raise a TypeError, and no other commands are executed.\n",
    "# NOTE: one could reasonably argue that \"(B): Print a message\" is not\n",
    "# wrong, since error messages are indeed printed when exceptions are \n",
    "# raised. \n",
    "\n",
    "\n",
    "def f(x):\n",
    "    if type(x) == dict:\n",
    "        return(x.keys())\n",
    "    \n",
    "    raise TypeError(\"I was expecting a dict!\")\n",
    "    return(2)\n",
    "    return(6)"
   ]
  },
  {
   "cell_type": "code",
   "execution_count": 2,
   "metadata": {
    "slideshow": {
     "slide_type": "slide"
    }
   },
   "outputs": [],
   "source": [
    "# It is possible to make this function...\n",
    "### (A): Raise a TypeError\n",
    "# (B): Print a message\n",
    "### (C): Return x.keys()\n",
    "# (D): Return 2\n",
    "# (E): Return 6\n",
    "# (F): Return [2, 6]\n",
    "\n",
    "# DISCUSSION: While the layout has changed slightly, this function\n",
    "# actually behaves identically to the previous one. The else clause\n",
    "# is unnecessary here, since, as shown above, the TypeError is raised\n",
    "# if and only if the test type(x) == dict evaluates to false. \n",
    "\n",
    "def f(x):\n",
    "    if type(x) == dict:\n",
    "        return(x.keys())\n",
    "    else:\n",
    "        raise TypeError(\"I was expecting a dict!\")\n",
    "    return(2)\n",
    "    return(6)"
   ]
  },
  {
   "cell_type": "code",
   "execution_count": 3,
   "metadata": {
    "slideshow": {
     "slide_type": "slide"
    }
   },
   "outputs": [],
   "source": [
    "# It is possible to make this function...\n",
    "### (A): Raise a TypeError\n",
    "# (B): Print a message\n",
    "### (C): Return x.keys()\n",
    "# (D): Return 2\n",
    "# (E): Return 6\n",
    "# (F): Return [2, 6]\n",
    "\n",
    "# DISCUSSION: This is similar to the previous example. 2 can\n",
    "# never be returned, because the return(x.keys()) statement will\n",
    "# always be evaluated first, immediately halting the operation \n",
    "# of the function. \n",
    "\n",
    "def f(x):\n",
    "    if type(x) == dict:\n",
    "        return(x.keys())\n",
    "        return(2)\n",
    "    else:\n",
    "        raise TypeError(\"I was expecting a dict!\") \n",
    "    return(6) "
   ]
  },
  {
   "cell_type": "code",
   "execution_count": 4,
   "metadata": {
    "slideshow": {
     "slide_type": "slide"
    }
   },
   "outputs": [],
   "source": [
    "# It is possible to make this function...\n",
    "### (A): Raise a TypeError\n",
    "### (B): Print a message\n",
    "# (C): Return x.keys()\n",
    "### (D): Return 2\n",
    "### (E): Return 6\n",
    "# (F): Return [2, 6]\n",
    "\n",
    "# DISCUSSION: This problem is somewhat more complex than the others. \n",
    "\n",
    "# (A) can occur when the user supplies, say, x = \"bananas\" rather \n",
    "# than the apparently expected integer input. \n",
    "# (B) can occur when a dict is provided. Note that printing the word\n",
    "# \"TypeError\" is not the same as raising a TypeError. \n",
    "# (C) is not possible because there is no call to x.keys() in the \n",
    "# function definition. \n",
    "# (D) can occur when the user provides an integer x between 0 and 6. \n",
    "# In this case, the test if i > 5 never evaluates to true. After \n",
    "# exhausting the loop, we move on to the next statement, return(2).\n",
    "# (E) can occur, but not via the final line of the function!! Instead, \n",
    "# if x is an integer of value 7 or larger, then we will evaluate the \n",
    "# line return(i) when i has value 6. \n",
    "# (F) cannot occur -- multiple return calls don't \"stack.\" \n",
    "\n",
    "\n",
    "def f(x):\n",
    "    if type(x) == dict:\n",
    "        print(\"TypeError: I wasn't expecting a dict!\")\n",
    "    for i in range(x):\n",
    "        if i > 5:\n",
    "            return(i)\n",
    "    return(2)\n",
    "    return(6)"
   ]
  },
  {
   "cell_type": "markdown",
   "metadata": {},
   "source": [
    "## Functions with Exception Handling\n",
    "\n",
    "The code below shows a very simple example of using exception handling to write a function that is able to operate on heterogeneous kinds of data. In this example, the user supplies a dictionary of item labels and quantities, but may have forgotten to \"quote\" the integer values. We use a `try`-`except` block to: \n",
    "\n",
    "1. First, \"try\" the simplest version of the concatenation operation. \n",
    "2. If that doesn't work (raises a TypeError), we'll instead convert to a string. "
   ]
  },
  {
   "cell_type": "code",
   "execution_count": 5,
   "metadata": {
    "slideshow": {
     "slide_type": "skip"
    }
   },
   "outputs": [],
   "source": [
    "def i_have(D):\n",
    "    for key, val in D.items():\n",
    "        try: \n",
    "            phrase = val + \" \" + key\n",
    "        except TypeError:\n",
    "            phrase = str(val) + \" \" + key\n",
    "        print(\"I have \" + phrase)"
   ]
  },
  {
   "cell_type": "code",
   "execution_count": 6,
   "metadata": {
    "slideshow": {
     "slide_type": "slide"
    }
   },
   "outputs": [
    {
     "name": "stdout",
     "output_type": "stream",
     "text": [
      "I have 3 apples\n",
      "I have 6 oranges\n",
      "I have 2 jackfruits\n"
     ]
    }
   ],
   "source": [
    "D = {\"apples\" : 3, \"oranges\" : 6, \"jackfruits\" : \"2\"}\n",
    "i_have(D)"
   ]
  }
 ],
 "metadata": {
  "celltoolbar": "Slideshow",
  "kernelspec": {
   "display_name": "Python 3",
   "language": "python",
   "name": "python3"
  },
  "language_info": {
   "codemirror_mode": {
    "name": "ipython",
    "version": 3
   },
   "file_extension": ".py",
   "mimetype": "text/x-python",
   "name": "python",
   "nbconvert_exporter": "python",
   "pygments_lexer": "ipython3",
   "version": "3.8.3"
  }
 },
 "nbformat": 4,
 "nbformat_minor": 4
}
