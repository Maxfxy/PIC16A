{
 "cells": [
  {
   "cell_type": "markdown",
   "metadata": {
    "slideshow": {
     "slide_type": "slide"
    }
   },
   "source": [
    "# Lecture 5\n",
    "\n",
    "Roles for today's exercises: \n",
    "- **Facilitator**: (ask questions, keep the convo moving) \n",
    "- **Reporter**: (share with the class if called. Should copy/paste the notes of the Recorder)\n",
    "- **Recorder**: take notes and put them in the chat. \n",
    "\n",
    "First person alphabetically is the Facilitator. Rotate each time. "
   ]
  },
  {
   "cell_type": "markdown",
   "metadata": {
    "slideshow": {
     "slide_type": "subslide"
    }
   },
   "source": [
    "1. What possible inputs did you consider? \n",
    "2. If you said that a certain behavior is *not* possible, what is the reason? "
   ]
  },
  {
   "cell_type": "code",
   "execution_count": 1,
   "metadata": {
    "slideshow": {
     "slide_type": "slide"
    }
   },
   "outputs": [],
   "source": [
    "# It is possible to make this function...\n",
    "# (A): Raise a TypeError\n",
    "# (B): Print a message\n",
    "# (C): Return x.keys()\n",
    "# (D): Return 2\n",
    "# (E): Return 6\n",
    "# (F): Return [2, 6]\n",
    "\n",
    "def f(x):\n",
    "    if type(x) == dict:\n",
    "        return(x.keys())\n",
    "    \n",
    "    raise TypeError(\"I was expecting a dict!\")\n",
    "    return(2)\n",
    "    return(6)"
   ]
  },
  {
   "cell_type": "code",
   "execution_count": 2,
   "metadata": {
    "slideshow": {
     "slide_type": "slide"
    }
   },
   "outputs": [],
   "source": [
    "# It is possible to make this function...\n",
    "# (A): Raise a TypeError\n",
    "# (B): Print a message\n",
    "# (C): Return x.keys()\n",
    "# (D): Return 2\n",
    "# (E): Return 6\n",
    "# (F): Return [2, 6]\n",
    "\n",
    "def f(x):\n",
    "    if type(x) == dict:\n",
    "        return(x.keys())\n",
    "    else:\n",
    "        raise TypeError(\"I was expecting a dict!\")\n",
    "    return(2)\n",
    "    return(6)"
   ]
  },
  {
   "cell_type": "code",
   "execution_count": 3,
   "metadata": {
    "slideshow": {
     "slide_type": "slide"
    }
   },
   "outputs": [],
   "source": [
    "# It is possible to make this function...\n",
    "# (A): Raise a TypeError\n",
    "# (B): Print a message\n",
    "# (C): Return x.keys()\n",
    "# (D): Return 2\n",
    "# (E): Return 6\n",
    "# (F): Return [2, 6]\n",
    "\n",
    "def f(x):\n",
    "    if type(x) == dict:\n",
    "        return(x.keys())\n",
    "        return(2)\n",
    "    else:\n",
    "        raise TypeError(\"I was expecting a dict!\") \n",
    "    return(6)"
   ]
  },
  {
   "cell_type": "code",
   "execution_count": 4,
   "metadata": {
    "slideshow": {
     "slide_type": "slide"
    }
   },
   "outputs": [],
   "source": [
    "# It is possible to make this function...\n",
    "# (A): Raise a TypeError\n",
    "# (B): Print a message\n",
    "# (C): Return x.keys()\n",
    "# (D): Return 2\n",
    "# (E): Return 6\n",
    "# (F): Return [2, 6]\n",
    "\n",
    "def f(x):\n",
    "    if type(x) == dict:\n",
    "        print(\"TypeError: I wasn't expecting a dict!\")\n",
    "    for i in range(x):\n",
    "        if i > 5:\n",
    "            return(i)\n",
    "    return(2)\n",
    "    return(6)"
   ]
  },
  {
   "cell_type": "code",
   "execution_count": 2,
   "metadata": {
    "slideshow": {
     "slide_type": "skip"
    }
   },
   "outputs": [],
   "source": [
    "D = {\"apples\" : 3, \"oranges\" : 6, \"jackfruits\" : \"2\"}\n",
    "\n",
    "def i_have(D):\n",
    "    for key, val in D.items():\n",
    "        try: \n",
    "            phrase = val + \" \" + key\n",
    "        except TypeError:\n",
    "            phrase = str(val) + \" \" + key\n",
    "        print(\"I have \" + phrase)"
   ]
  },
  {
   "cell_type": "code",
   "execution_count": 3,
   "metadata": {
    "slideshow": {
     "slide_type": "slide"
    }
   },
   "outputs": [
    {
     "name": "stdout",
     "output_type": "stream",
     "text": [
      "I have 3 apples\n",
      "I have 6 oranges\n",
      "I have 2 jackfruits\n"
     ]
    }
   ],
   "source": [
    "# Let's write a function that prints output with numbers, which works whether\n",
    "# the user supplies numbers as \"2\" or 2 \n",
    "\n",
    "D = {\"apples\" : 3, \"oranges\" : 6, \"jackfruits\" : \"2\"}\n",
    "i_have(D)"
   ]
  },
  {
   "cell_type": "code",
   "execution_count": null,
   "metadata": {
    "slideshow": {
     "slide_type": "slide"
    }
   },
   "outputs": [],
   "source": []
  }
 ],
 "metadata": {
  "celltoolbar": "Slideshow",
  "kernelspec": {
   "display_name": "Python 3",
   "language": "python",
   "name": "python3"
  },
  "language_info": {
   "codemirror_mode": {
    "name": "ipython",
    "version": 3
   },
   "file_extension": ".py",
   "mimetype": "text/x-python",
   "name": "python",
   "nbconvert_exporter": "python",
   "pygments_lexer": "ipython3",
   "version": "3.8.3"
  }
 },
 "nbformat": 4,
 "nbformat_minor": 4
}
