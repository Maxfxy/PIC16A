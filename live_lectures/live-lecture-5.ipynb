{
 "cells": [
  {
   "cell_type": "markdown",
   "metadata": {
    "slideshow": {
     "slide_type": "slide"
    }
   },
   "source": [
    "# Lecture 5\n",
    "\n",
    "For each question, we'll first do a class-wide poll, and then team up into groups to discuss. \n",
    "- **Facilitator**: (ask questions, keep the convo moving) \n",
    "- **Reporter**: (share with the class if called. Should copy/paste the notes of the Recorder)\n",
    "- **Recorder**: take notes and put them in the chat. "
   ]
  },
  {
   "cell_type": "markdown",
   "metadata": {
    "slideshow": {
     "slide_type": "subslide"
    }
   },
   "source": [
    "1. What possible inputs did you consider? \n",
    "2. If you said that a certain behavior is *not* possible, what is the reason? "
   ]
  },
  {
   "cell_type": "code",
   "execution_count": null,
   "metadata": {
    "slideshow": {
     "slide_type": "slide"
    }
   },
   "outputs": [],
   "source": [
    "# It is possible to make this function...\n",
    "# (A): Raise a TypeError\n",
    "# (B): Print a message\n",
    "# (C): Return x.keys()\n",
    "# (D): Return 2\n",
    "# (E): Return 6\n",
    "\n",
    "def f(x):\n",
    "    if type(x) == dict:\n",
    "        return(x.keys())\n",
    "    \n",
    "    raise TypeError(\"I was expecting a dict!\")\n",
    "    return(2)\n",
    "    return(6)"
   ]
  },
  {
   "cell_type": "code",
   "execution_count": 1,
   "metadata": {
    "slideshow": {
     "slide_type": "slide"
    }
   },
   "outputs": [],
   "source": [
    "# It is possible to make this function...\n",
    "# (A): Raise a TypeError\n",
    "# (B): Print a message\n",
    "# (C): Return x.keys()\n",
    "# (D): Return 2\n",
    "# (E): Return 6\n",
    "\n",
    "def f(x):\n",
    "    if type(x) == dict:\n",
    "        return(x.keys())\n",
    "    else:\n",
    "        raise TypeError(\"I was expecting a dict!\")\n",
    "    return(2)\n",
    "    return(6)"
   ]
  },
  {
   "cell_type": "code",
   "execution_count": 3,
   "metadata": {
    "slideshow": {
     "slide_type": "slide"
    }
   },
   "outputs": [],
   "source": [
    "# It is possible to make this function...\n",
    "# (A): Raise a TypeError\n",
    "# (B): Print a message\n",
    "# (C): Return x.keys()\n",
    "# (D): Return 2\n",
    "# (E): Return 6\n",
    "\n",
    "def f(x):\n",
    "    if type(x) == dict:\n",
    "        return(x.keys())\n",
    "        return(2)\n",
    "    else:\n",
    "        raise TypeError(\"I was expecting a dict!\") \n",
    "    return(6)"
   ]
  },
  {
   "cell_type": "code",
   "execution_count": null,
   "metadata": {
    "slideshow": {
     "slide_type": "slide"
    }
   },
   "outputs": [],
   "source": [
    "# It is possible to make this function...\n",
    "# (A): Raise a TypeError\n",
    "# (B): Print a message\n",
    "# (C): Return x.keys()\n",
    "# (D): Return 2\n",
    "# (E): Return 6\n",
    "\n",
    "def f(x):\n",
    "    if type(x) == dict:\n",
    "        print(\"TypeError: I wasn't expecting a dict!\")\n",
    "    for i in range(x):\n",
    "        if i > 5:\n",
    "            return(i)\n",
    "    return(2)\n",
    "    return(6)"
   ]
  }
 ],
 "metadata": {
  "celltoolbar": "Slideshow",
  "kernelspec": {
   "display_name": "Python 3",
   "language": "python",
   "name": "python3"
  },
  "language_info": {
   "codemirror_mode": {
    "name": "ipython",
    "version": 3
   },
   "file_extension": ".py",
   "mimetype": "text/x-python",
   "name": "python",
   "nbconvert_exporter": "python",
   "pygments_lexer": "ipython3",
   "version": "3.8.3"
  }
 },
 "nbformat": 4,
 "nbformat_minor": 4
}
