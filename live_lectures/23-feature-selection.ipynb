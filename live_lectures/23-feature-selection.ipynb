{
 "cells": [
  {
   "cell_type": "markdown",
   "metadata": {},
   "source": [
    "# Automated Feature Selection\n",
    "\n",
    "In this live lecture activity, we are going to consider the problem of how to write algorithms that automatically make reasonable choices about which features to include in machine learning models. There are many approaches to this problem, but here are two. "
   ]
  },
  {
   "cell_type": "markdown",
   "metadata": {},
   "source": [
    "## Grab and Prepare the Titanic Data"
   ]
  },
  {
   "cell_type": "code",
   "execution_count": 2,
   "metadata": {},
   "outputs": [],
   "source": [
    "import pandas as pd\n",
    "from matplotlib import pyplot as plt\n",
    "import numpy as np"
   ]
  },
  {
   "cell_type": "code",
   "execution_count": 3,
   "metadata": {},
   "outputs": [],
   "source": [
    "url = \"https://philchodrow.github.io/PIC16A/datasets/titanic.csv\"\n",
    "        \n",
    "titanic = pd.read_csv(url)\n",
    "\n",
    "from sklearn import preprocessing\n",
    "le = preprocessing.LabelEncoder()\n",
    "titanic[\"Sex\"] = le.fit_transform(titanic['Sex'])\n",
    "titanic = titanic.drop([\"Name\"], axis = 1)\n",
    "\n",
    "X = titanic.drop(['Survived'], axis = 1)\n",
    "y = titanic['Survived']"
   ]
  },
  {
   "cell_type": "code",
   "execution_count": null,
   "metadata": {},
   "outputs": [],
   "source": [
    "y"
   ]
  },
  {
   "cell_type": "markdown",
   "metadata": {},
   "source": [
    "## Exhaustive Search\n",
    "\n",
    "The problem of enumerating combinations of objects gets very difficult very quickly: for example, in a data set with 10 predictor columns, there are $2^{10} = 1024$  possible subsets of these columns. Worse, many data sets have many more columns than this! But, for relatively small data sets, it can sometimes be practical to simply try all possible combinations of columns, assessing them using cross-validation in order to settle on a good solution. \n",
    "\n",
    "The `itertools` module is exceptionally useful for this. "
   ]
  },
  {
   "cell_type": "code",
   "execution_count": 30,
   "metadata": {},
   "outputs": [
    {
     "data": {
      "text/plain": [
       "[('Picard', 'Sisko', 'Janeway'),\n",
       " ('Picard', 'Sisko', 'Georgiou'),\n",
       " ('Picard', 'Janeway', 'Georgiou'),\n",
       " ('Sisko', 'Janeway', 'Georgiou')]"
      ]
     },
     "execution_count": 30,
     "metadata": {},
     "output_type": "execute_result"
    }
   ],
   "source": [
    "from itertools import combinations\n",
    "\n",
    "captains = [\"Picard\", \"Sisko\", \"Janeway\", \"Georgiou\"]\n",
    "\n",
    "# all pairs\n",
    "list(combinations(captains,2))\n",
    "\n",
    "# all triples\n",
    "\n",
    "list(combinations(captains,3))"
   ]
  },
  {
   "cell_type": "code",
   "execution_count": 42,
   "metadata": {},
   "outputs": [],
   "source": [
    "def exhaustive_search(model, X, y, min_cols, max_cols):\n",
    "    best_cv = 0\n",
    "    best_cols = None\n",
    "    for n_cols in range(min_cols, max_cols + 1):\n",
    "        for cols in combinations(X.columns, n_cols):\n",
    "            cv = cross_val_score(model, X[list(cols)], y, cv = 10).mean()\n",
    "            if cv > best_cv:\n",
    "                best_cv = cv\n",
    "                best_cols = cols\n",
    "    \n",
    "    return best_cv, best_cols"
   ]
  },
  {
   "cell_type": "code",
   "execution_count": 49,
   "metadata": {},
   "outputs": [],
   "source": [
    "from sklearn.linear_model import LogisticRegression\n",
    "LR = LogisticRegression()\n",
    "\n",
    "best_cv, best_cols = exhaustive_search(LR, X, y, 2, 5)"
   ]
  },
  {
   "cell_type": "code",
   "execution_count": 50,
   "metadata": {},
   "outputs": [
    {
     "data": {
      "text/plain": [
       "(0.8016215526046986,\n",
       " ('Pclass', 'Sex', 'Age', 'Siblings/Spouses Aboard', 'Fare'))"
      ]
     },
     "execution_count": 50,
     "metadata": {},
     "output_type": "execute_result"
    }
   ],
   "source": [
    "best_cv, best_cols"
   ]
  },
  {
   "cell_type": "markdown",
   "metadata": {},
   "source": [
    "## Greedy Stagewise Feature Selection\n",
    "\n",
    "Here's what we are going to do. We will start with one randomly-chosen \"active\" column. Then, we will do the following a user-specified number of times: \n",
    "\n",
    "1. Compute the CV score of a model using only the active columns, and save it. \n",
    "2. Propose either \"activating\" or \"deactivating\" a column (i.e. adding or removing it from the list of active columns). Compute the CV score. If the CV score has improved, accept the proposal (i.e. add that column to the active set, or remove it)."
   ]
  },
  {
   "cell_type": "markdown",
   "metadata": {},
   "source": [
    "## Part A: Setup"
   ]
  },
  {
   "cell_type": "code",
   "execution_count": 9,
   "metadata": {},
   "outputs": [],
   "source": [
    "# import logistic regression and cross-validation\n",
    "\n",
    "from sklearn.model_selection import cross_val_score\n",
    "\n",
    "# create a logistic regression model\n",
    "LR = LogisticRegression(solver = \"liblinear\")"
   ]
  },
  {
   "cell_type": "code",
   "execution_count": 10,
   "metadata": {},
   "outputs": [],
   "source": [
    "def initialize_lists():\n",
    "    \"\"\"\n",
    "    Create an \"active\" list with a single random column\n",
    "    from X.columns and an \"inactive\" list with \n",
    "    all remaining columns. \n",
    "    \"\"\"\n",
    "    # grab a single random column\n",
    "    active = [np.random.choice(X.columns)]\n",
    "    \n",
    "    # make a list of all the other columns\n",
    "    inactive = list(X.columns)\n",
    "    inactive.remove(active[0])\n",
    "    return active, inactive\n",
    "    \n",
    "def move(col, active, inactive, mode = \"activate\"):\n",
    "    \"\"\"\n",
    "    Activate or deactivate a single column\n",
    "    by moving it between the active and inactive\n",
    "    lists. \n",
    "    Does not modify active or inactive -- instead \n",
    "    returns copies. \n",
    "    \"\"\"\n",
    "    # create copies\n",
    "    new_active = active.copy()\n",
    "    new_inactive = inactive.copy()\n",
    "    \n",
    "    if mode == \"activate\":\n",
    "        # if we are activating a column\n",
    "        new_inactive.remove(col)\n",
    "        # add col to the active list\n",
    "        new_active.append(col)\n",
    "    \n",
    "    # if we are deactivating a column\n",
    "    \n",
    "    if mode == \"deactivate\":\n",
    "        new_active.remove(col)\n",
    "        new_inactive.append(col)\n",
    "    \n",
    "    # return copies\n",
    "    return new_active, new_inactive"
   ]
  },
  {
   "cell_type": "markdown",
   "metadata": {},
   "source": [
    "### Illustrations"
   ]
  },
  {
   "cell_type": "code",
   "execution_count": 11,
   "metadata": {},
   "outputs": [
    {
     "data": {
      "text/plain": [
       "(['Fare'],\n",
       " ['Pclass',\n",
       "  'Sex',\n",
       "  'Age',\n",
       "  'Siblings/Spouses Aboard',\n",
       "  'Parents/Children Aboard'])"
      ]
     },
     "execution_count": 11,
     "metadata": {},
     "output_type": "execute_result"
    }
   ],
   "source": [
    "active, inactive = initialize_lists()\n",
    "active, inactive"
   ]
  },
  {
   "cell_type": "code",
   "execution_count": 12,
   "metadata": {},
   "outputs": [
    {
     "data": {
      "text/plain": [
       "(['Fare', 'Age'],\n",
       " ['Pclass', 'Sex', 'Siblings/Spouses Aboard', 'Parents/Children Aboard'])"
      ]
     },
     "execution_count": 12,
     "metadata": {},
     "output_type": "execute_result"
    }
   ],
   "source": [
    "move(\"Age\", active, inactive, mode = \"activate\")"
   ]
  },
  {
   "cell_type": "markdown",
   "metadata": {},
   "source": [
    "## Part B: Greedy Stagewise Selection"
   ]
  },
  {
   "cell_type": "code",
   "execution_count": 13,
   "metadata": {},
   "outputs": [],
   "source": [
    "def greedy_stagewise_feature_selection(model, X, y, n_iters = 20):\n",
    "    \n",
    "    # initialize with a single, randomly selected column\n",
    "    active, inactive = initialize_lists()\n",
    "    \n",
    "    # initialize the best CV score\n",
    "    best_CV = 0\n",
    "    \n",
    "    # main loop, n_iters times\n",
    "    for i in range(n_iters):\n",
    "        # alternate between activating and deactivating\n",
    "        for mode in [\"activate\", \"deactivate\"]:\n",
    "        \n",
    "            # if mode is \"activate\" and there are any remaining inactive\n",
    "            # columns, randomly select one. Otherwise, continue\n",
    "            if (mode == \"activate\"):\n",
    "                if len(inactive) > 0:\n",
    "                    col = np.random.choice(inactive)\n",
    "                else: \n",
    "                    continue\n",
    "            \n",
    "            # if mode is \"deactivate\" and if there at least 2 active\n",
    "            # columns then pick a random active column\n",
    "            if (mode == \"deactivate\") and (len(active) >= 2):\n",
    "                col = np.random.choice(active)\n",
    "            \n",
    "            # create a new, proposed active list by moving\n",
    "            # col between lists\n",
    "            \n",
    "            new_active, new_inactive = move(col, active, inactive, mode)\n",
    "            \n",
    "            # compute the CV score\n",
    "            CV_score = cross_val_score(LR, X[new_active], y, cv = 10).mean()\n",
    "            \n",
    "            # if the CV score is an improvement, update the \n",
    "            # active and inactive column sets. \n",
    "            \n",
    "            if (CV_score > best_CV) and (len(new_active) >=1):\n",
    "                best_CV = CV_score\n",
    "                active = new_active\n",
    "                inactive = new_inactive\n",
    "            \n",
    "            print(\"Number of columns: \" + str(len(active)) + \". CV score: \" + str(best_CV))\n",
    "    return active"
   ]
  },
  {
   "cell_type": "code",
   "execution_count": 21,
   "metadata": {},
   "outputs": [
    {
     "name": "stdout",
     "output_type": "stream",
     "text": [
      "Number of columns: 2. CV score: 0.7812862677879551\n",
      "Number of columns: 2. CV score: 0.7812862677879551\n",
      "Number of columns: 3. CV score: 0.7880532790544039\n",
      "Number of columns: 3. CV score: 0.7880532790544039\n",
      "Number of columns: 3. CV score: 0.7880532790544039\n",
      "Number of columns: 3. CV score: 0.7880532790544039\n",
      "Number of columns: 4. CV score: 0.7891870659024764\n",
      "Number of columns: 4. CV score: 0.7891870659024764\n",
      "Number of columns: 4. CV score: 0.7891870659024764\n",
      "Number of columns: 4. CV score: 0.7891870659024764\n",
      "Number of columns: 5. CV score: 0.7948202903208527\n",
      "Number of columns: 5. CV score: 0.7948202903208527\n",
      "Number of columns: 5. CV score: 0.7948202903208527\n",
      "Number of columns: 5. CV score: 0.7948202903208527\n",
      "Number of columns: 5. CV score: 0.7948202903208527\n",
      "Number of columns: 4. CV score: 0.7981680861320906\n",
      "Number of columns: 4. CV score: 0.7981680861320906\n",
      "Number of columns: 3. CV score: 0.8004178049172425\n",
      "Number of columns: 3. CV score: 0.8004178049172425\n",
      "Number of columns: 3. CV score: 0.8004178049172425\n"
     ]
    }
   ],
   "source": [
    "best_cols = greedy_stagewise_feature_selection(LR, X, y, n_iters = 10)"
   ]
  },
  {
   "cell_type": "code",
   "execution_count": 22,
   "metadata": {},
   "outputs": [
    {
     "data": {
      "text/plain": [
       "['Sex', 'Siblings/Spouses Aboard', 'Pclass']"
      ]
     },
     "execution_count": 22,
     "metadata": {},
     "output_type": "execute_result"
    }
   ],
   "source": [
    "cols"
   ]
  }
 ],
 "metadata": {
  "kernelspec": {
   "display_name": "Python 3",
   "language": "python",
   "name": "python3"
  },
  "language_info": {
   "codemirror_mode": {
    "name": "ipython",
    "version": 3
   },
   "file_extension": ".py",
   "mimetype": "text/x-python",
   "name": "python",
   "nbconvert_exporter": "python",
   "pygments_lexer": "ipython3",
   "version": "3.7.1"
  }
 },
 "nbformat": 4,
 "nbformat_minor": 4
}
