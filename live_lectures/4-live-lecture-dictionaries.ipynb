{
 "cells": [
  {
   "cell_type": "markdown",
   "metadata": {
    "slideshow": {
     "slide_type": "slide"
    }
   },
   "source": [
    "# Review + Examples:  Dictionaries"
   ]
  },
  {
   "cell_type": "code",
   "execution_count": 35,
   "metadata": {
    "slideshow": {
     "slide_type": "slide"
    }
   },
   "outputs": [
    {
     "name": "stdout",
     "output_type": "stream",
     "text": [
      "Picard\n",
      "The Next Generation\n"
     ]
    }
   ],
   "source": [
    "# Quick Dictionaries Review\n",
    "\n",
    "S = {\"Picard\", \"The Next Generation\"}\n",
    "for item in S:\n",
    "    print(item)"
   ]
  },
  {
   "cell_type": "code",
   "execution_count": 14,
   "metadata": {
    "slideshow": {
     "slide_type": "slide"
    }
   },
   "outputs": [
    {
     "data": {
      "text/plain": [
       "{'Picard': 'The Next Generation',\n",
       " 'Riker': 'The Next Generation',\n",
       " 1: 'make it so',\n",
       " 7: 'make it so'}"
      ]
     },
     "execution_count": 14,
     "metadata": {},
     "output_type": "execute_result"
    }
   ],
   "source": [
    "d[7] = \"make it so\"\n",
    "d"
   ]
  },
  {
   "cell_type": "markdown",
   "metadata": {
    "slideshow": {
     "slide_type": "slide"
    }
   },
   "source": [
    "# List Comprehensions"
   ]
  },
  {
   "cell_type": "code",
   "execution_count": 30,
   "metadata": {
    "slideshow": {
     "slide_type": "slide"
    }
   },
   "outputs": [
    {
     "data": {
      "text/plain": [
       "['red animal',\n",
       " 'red vegetable',\n",
       " 'red mineral',\n",
       " 'green animal',\n",
       " 'green vegetable',\n",
       " 'green mineral',\n",
       " 'blue animal',\n",
       " 'blue vegetable',\n",
       " 'blue mineral']"
      ]
     },
     "execution_count": 30,
     "metadata": {},
     "output_type": "execute_result"
    }
   ],
   "source": [
    "# all possible pairs from two lists\n",
    "\n",
    "L1 = [\"red\", \"green\", \"blue\"]\n",
    "L2 = [\"animal\", \"vegetable\", \"mineral\"]\n",
    "\n",
    "# list with entries \"red animal\", \"green vegetable\", etc. \n",
    "L = [c + \" \" + t for c in L1 for t in L2]\n",
    "L"
   ]
  },
  {
   "cell_type": "code",
   "execution_count": 17,
   "metadata": {
    "slideshow": {
     "slide_type": "slide"
    }
   },
   "outputs": [
    {
     "data": {
      "text/plain": [
       "['to', 'boldly', 'go', 'no', 'gone', 'before']"
      ]
     },
     "execution_count": 17,
     "metadata": {},
     "output_type": "execute_result"
    }
   ],
   "source": [
    "# all words of even length\n",
    "\n",
    "s = \"to boldly go where no one has gone before\"\n",
    "[w for w in s.split() if len(w) % 2 == 0]"
   ]
  },
  {
   "cell_type": "markdown",
   "metadata": {
    "slideshow": {
     "slide_type": "slide"
    }
   },
   "source": [
    "# Dictionary Comprehensions\n",
    "\n",
    "A handy shortcut for making dictionaries. \n",
    "\n",
    "Very similar to list comprehensions! "
   ]
  },
  {
   "cell_type": "code",
   "execution_count": 25,
   "metadata": {
    "slideshow": {
     "slide_type": "slide"
    }
   },
   "outputs": [
    {
     "data": {
      "text/plain": [
       "{'Emperor': 'chonky', 'Adelie': 'smol', 'Gentoo': \"l'il\"}"
      ]
     },
     "execution_count": 25,
     "metadata": {},
     "output_type": "execute_result"
    }
   ],
   "source": [
    "# penguin sizes by species, tuple\n",
    "L = [(\"Emperor\", \"chonky\"), \n",
    "     (\"Adelie\", \"smol\"), \n",
    "     (\"Gentoo\", \"l'il\")]\n",
    "\n",
    "d = {}\n",
    "for tup in L:\n",
    "    # species   size\n",
    "    # \"Emperor\"  \"chonky\"\n",
    "    d[tup[0]] = tup[1]\n",
    "d"
   ]
  },
  {
   "cell_type": "markdown",
   "metadata": {
    "slideshow": {
     "slide_type": "slide"
    }
   },
   "source": [
    "# DRY Code\n",
    "\n",
    "#### DRY: Don't Repeat Yourself!\n",
    "\n",
    "DRY code is easier to troubleshoot, maintain, and modify. \n",
    "\n",
    "Control flow and dictionaries are some key tools for writing DRY code. "
   ]
  },
  {
   "cell_type": "markdown",
   "metadata": {
    "slideshow": {
     "slide_type": "slide"
    }
   },
   "source": [
    "#  Code Makeover! \n",
    "\n",
    "![](https://hips.hearstapps.com/hmg-prod.s3.amazonaws.com/images/queereye2-1553708815.png?crop=0.889xw:1.00xh;0.0561xw,0&resize=640:*)"
   ]
  },
  {
   "cell_type": "code",
   "execution_count": 21,
   "metadata": {
    "slideshow": {
     "slide_type": "slide"
    }
   },
   "outputs": [
    {
     "name": "stdout",
     "output_type": "stream",
     "text": [
      "tired, wired, or inspired?wired\n",
      "wired: using a dictionary for branching logic.\n"
     ]
    }
   ],
   "source": [
    "word = input(\"tired, wired, or inspired?\")\n",
    "if word == \"tired\":\n",
    "    print(\"tired: hardcoding different branching conditions.\")\n",
    "elif word == \"wired\":\n",
    "    print(\"wired: using a dictionary for branching logic.\")\n",
    "elif word == \"inspired\": \n",
    "    print(\"inspired: using a dictionary for everything else, too.\")"
   ]
  },
  {
   "cell_type": "code",
   "execution_count": 24,
   "metadata": {},
   "outputs": [
    {
     "name": "stdout",
     "output_type": "stream",
     "text": [
      "tired, wired, or inspired?inspired\n",
      "inspired: using a dictionary for everything else, too.\n"
     ]
    }
   ],
   "source": [
    "# makeover here! \n",
    "d = {\"tired\"    : \"hardcoding different branching conditions.\",\n",
    "     \"wired\"    : \"using a dictionary for branching logic.\",\n",
    "     \"inspired\" : \"using a dictionary for everything else, too.\"}\n",
    "word = input(\"tired, wired, or inspired?\")\n",
    "print(word + \": \" + d[word])"
   ]
  }
 ],
 "metadata": {
  "celltoolbar": "Slideshow",
  "kernelspec": {
   "display_name": "Python 3",
   "language": "python",
   "name": "python3"
  },
  "language_info": {
   "codemirror_mode": {
    "name": "ipython",
    "version": 3
   },
   "file_extension": ".py",
   "mimetype": "text/x-python",
   "name": "python",
   "nbconvert_exporter": "python",
   "pygments_lexer": "ipython3",
   "version": "3.8.5"
  }
 },
 "nbformat": 4,
 "nbformat_minor": 4
}
