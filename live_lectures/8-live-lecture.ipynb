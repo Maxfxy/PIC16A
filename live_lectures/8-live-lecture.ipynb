{
 "cells": [
  {
   "cell_type": "markdown",
   "metadata": {},
   "source": [
    "# Live Lecture 8: Linked Lists\n",
    "\n",
    "In this live lecture, we'll discuss a very common and useful data type -- the linked list. We'll show how to construct a simple linked list using our new skills with object-oriented programming. We'll also use some exception-handling techniques from our recent lectures on functions. \n",
    "\n",
    "A linked list is a special kind of list, each of whose values (\"links\") contains two parts. The first part is the **data**, i.e. the main informationt that you would like to store in the list. The second part is a **reference** to the next item in the list. Here's an example, courtesy of my colleague, Professor Wikipedia: \n",
    "\n",
    "<figure class=\"image\" style=\"width:80%\">\n",
    "  <img src=\"https://upload.wikimedia.org/wikipedia/commons/thumb/6/6d/Singly-linked-list.svg/1920px-Singly-linked-list.svg.png\" alt=\"\">\n",
    "  <figcaption><i></i></figcaption>\n",
    "</figure>\n",
    "\n",
    "Our implementation is just a bit different from the one above. Rather than including a special terminal element of the list, we'll just handle the case in which a value in the list does not have a reference to a next element. \n",
    "\n",
    "The first and most important step is to design the a class that models each link in the linked list. This link should contain data, a reference to the next link in the list, and methods for moving to the next link. "
   ]
  },
  {
   "cell_type": "code",
   "execution_count": 18,
   "metadata": {},
   "outputs": [],
   "source": [
    "class link:\n",
    "    \"\"\"\n",
    "    \"\"\"\n",
    "    # allow a link to accept and store data\n",
    "    # L = link(\"picard\")\n",
    "    # L.data == \"picard\"\n",
    "    \n",
    "    def __init__(self, data):\n",
    "        self.data = data\n",
    "        \n",
    "    # return the next link \n",
    "    # i.e. the link in self.next\n",
    "    # method should be self.follow()\n",
    "    def follow(self):\n",
    "        \"\"\"\n",
    "        \"\"\"\n",
    "        try: \n",
    "            return self.next\n",
    "        except AttributeError:\n",
    "            print(\"no next link, returning self\")\n",
    "            return self\n",
    "        \n",
    "    # make L1 += L2 work, L1.next == L2\n",
    "    def __add__(self, other):\n",
    "        \"\"\"\n",
    "        \"\"\"\n",
    "        self.next = other\n",
    "        return self"
   ]
  },
  {
   "cell_type": "code",
   "execution_count": 17,
   "metadata": {},
   "outputs": [
    {
     "name": "stdout",
     "output_type": "stream",
     "text": [
      "no next link, returning self\n"
     ]
    },
    {
     "data": {
      "text/plain": [
       "'sisko'"
      ]
     },
     "execution_count": 17,
     "metadata": {},
     "output_type": "execute_result"
    }
   ],
   "source": [
    "L1 = link(\"picard\")\n",
    "L2 = link(\"sisko\")\n",
    "\n",
    "# create an instance variable in L1\n",
    "# called next with value L2\n",
    "L1.next = L2\n",
    "\n",
    "# want: print a message and return L2\n",
    "L1.follow().follow().data"
   ]
  },
  {
   "cell_type": "code",
   "execution_count": 19,
   "metadata": {},
   "outputs": [],
   "source": [
    "# syntactic sugar\n",
    "L1 = link(\"picard\")\n",
    "L2 = link(\"sisko\")\n",
    "L3 = link(\"archer\")\n",
    "\n",
    "# want to work\n",
    "L1 += L2 # L1.__add__(L2)\n",
    "L2 += L3\n",
    "# desired result: L1.next == L2, L2.next == L3\n"
   ]
  },
  {
   "cell_type": "code",
   "execution_count": 22,
   "metadata": {},
   "outputs": [
    {
     "data": {
      "text/plain": [
       "'archer'"
      ]
     },
     "execution_count": 22,
     "metadata": {},
     "output_type": "execute_result"
    }
   ],
   "source": [
    "# L1 -> L2 -> L3\n",
    "L1.follow().follow().data"
   ]
  },
  {
   "cell_type": "code",
   "execution_count": 24,
   "metadata": {},
   "outputs": [],
   "source": [
    "captains = [\"picard\", \"sisko\", \"archer\"]\n",
    "# want: \"picard\" -> \"sisko\" -> \"archer\" as linked list"
   ]
  },
  {
   "cell_type": "code",
   "execution_count": 25,
   "metadata": {},
   "outputs": [],
   "source": [
    "def to_linked_list(A):\n",
    "    \"\"\"\n",
    "    create a linked list from input list A\n",
    "    returns an object of class link with data A[0] and next attribute\n",
    "    equal to a link with data A[1], whose next attribute is a link with\n",
    "    data A[2]....\n",
    "    \"\"\"\n",
    "    L = link(A[0])\n",
    "    l = L\n",
    "    for i in range(1, len(A)):\n",
    "        l += link(A[i])\n",
    "        l  = l.follow()\n",
    "    return L"
   ]
  },
  {
   "cell_type": "code",
   "execution_count": 27,
   "metadata": {},
   "outputs": [],
   "source": [
    "L = to_linked_list([\"picard\", \"sisko\", \"archer\"])"
   ]
  },
  {
   "cell_type": "code",
   "execution_count": 32,
   "metadata": {},
   "outputs": [
    {
     "name": "stdout",
     "output_type": "stream",
     "text": [
      "no next link, returning self\n"
     ]
    },
    {
     "data": {
      "text/plain": [
       "'archer'"
      ]
     },
     "execution_count": 32,
     "metadata": {},
     "output_type": "execute_result"
    }
   ],
   "source": [
    "L.follow().follow().follow().data"
   ]
  },
  {
   "cell_type": "code",
   "execution_count": null,
   "metadata": {},
   "outputs": [],
   "source": []
  }
 ],
 "metadata": {
  "kernelspec": {
   "display_name": "Python 3",
   "language": "python",
   "name": "python3"
  },
  "language_info": {
   "codemirror_mode": {
    "name": "ipython",
    "version": 3
   },
   "file_extension": ".py",
   "mimetype": "text/x-python",
   "name": "python",
   "nbconvert_exporter": "python",
   "pygments_lexer": "ipython3",
   "version": "3.8.5"
  }
 },
 "nbformat": 4,
 "nbformat_minor": 4
}
