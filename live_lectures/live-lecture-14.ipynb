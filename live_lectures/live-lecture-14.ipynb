{
 "cells": [
  {
   "cell_type": "markdown",
   "metadata": {},
   "source": [
    "# More Regex Practice\n",
    "\n",
    "- **Driver**: 1st person by last name\n",
    "- **Reporter**: 2nd person by last name\n",
    "- **Proposer**: 3rd person by last name\n",
    "\n",
    "As usual, I recommend taking your test string over to [Pythex](https://pythex.org/) so that you can visually observe how your code operates. \n",
    "\n",
    "## Part A\n",
    "\n",
    "Write a regular expression that identifies the names of all classes and functions/methods defined in a piece of correct Python code. For example, in the string \n",
    "\n",
    "```\n",
    "s = \"\"\"\n",
    "    class foo:\n",
    "        \n",
    "        def __init__(self):\n",
    "            pass\n",
    "        \n",
    "        def bar(self, x):\n",
    "            print(x)\n",
    "            \n",
    "        def baz(self, y):\n",
    "            self.y = y\n",
    "\"\"\"\n",
    "```\n",
    "\n",
    "your regex should match `foo`, `__init__`, `bar`, and `baz`. You will likely need a lookbehind. You may also want to remember the `or` operator `|`. Use `re.findall` to demonstrate your result. "
   ]
  },
  {
   "cell_type": "code",
   "execution_count": 7,
   "metadata": {},
   "outputs": [
    {
     "data": {
      "text/plain": [
       "['foo', '__init__', 'bar', 'baz']"
      ]
     },
     "execution_count": 7,
     "metadata": {},
     "output_type": "execute_result"
    }
   ],
   "source": [
    "import re\n",
    "\n",
    "s = \"\"\"\n",
    "    class foo:\n",
    "        \n",
    "        def __init__(self):\n",
    "            pass\n",
    "        \n",
    "        def bar(self, x):\n",
    "            print(x)\n",
    "            \n",
    "        def baz(self, y):\n",
    "            self.y = y\n",
    "\"\"\"\n",
    "pattern = r\"(?<=[def|class] )[A-z0-9]+\"\n",
    "pattern = r\"(?<=[def|class] )\\w+\"       # shortcut\n",
    "\n",
    "re.findall(pattern, s)"
   ]
  },
  {
   "cell_type": "markdown",
   "metadata": {},
   "source": [
    "## Part B\n",
    "\n",
    "Now, write an expression that will match the name of each function and its arguments (you don't need to capture the class name in this part). The arguments may be given as a single string with `,` commas. For example, if `s` is as above, then the list of matches should be: \n",
    "\n",
    "```\n",
    "[('__init__', 'self'), ('bar', 'self, x'), ('baz', 'self, y')]\n",
    "```\n"
   ]
  },
  {
   "cell_type": "code",
   "execution_count": 8,
   "metadata": {},
   "outputs": [
    {
     "data": {
      "text/plain": [
       "[('__init__', 'self'), ('bar', 'self, x'), ('baz', 'self, y')]"
      ]
     },
     "execution_count": 8,
     "metadata": {},
     "output_type": "execute_result"
    }
   ],
   "source": [
    "pattern = r\"(?<=[def] )([A-z0-9]+)\\(([A-z0-9, ]+)\\)\"\n",
    "pattern = r\"(?<=[def] )(\\w+)\\(([\\w, ]+)\\)\" # shortcut\n",
    "re.findall(pattern, s)"
   ]
  }
 ],
 "metadata": {
  "kernelspec": {
   "display_name": "Python 3",
   "language": "python",
   "name": "python3"
  },
  "language_info": {
   "codemirror_mode": {
    "name": "ipython",
    "version": 3
   },
   "file_extension": ".py",
   "mimetype": "text/x-python",
   "name": "python",
   "nbconvert_exporter": "python",
   "pygments_lexer": "ipython3",
   "version": "3.8.3"
  }
 },
 "nbformat": 4,
 "nbformat_minor": 4
}
