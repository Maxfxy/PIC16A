{
 "cells": [
  {
   "cell_type": "markdown",
   "metadata": {},
   "source": [
    "Which of the following **must be true** for the following code to execute without error? \n",
    "\n",
    "```python\n",
    "for x in C:\n",
    "    print(x)\n",
    "```\n",
    "\n",
    "If one of the choices **must be true**, then explain. If not, write a (tiny!) class + iterator such that the code above runs. Note: the same class + iterator might serve as a counterexample for multiple parts, in which case you can just say so. \n",
    "\n",
    "First alphabetical by first name is the **Recorder**. Second is the **Facilitator**. Third is the **Reporter**. "
   ]
  },
  {
   "cell_type": "code",
   "execution_count": null,
   "metadata": {},
   "outputs": [],
   "source": [
    "# (A): C has a __next__() method. \n",
    "\n",
    "# Explanation or counterexample here.\n",
    "\n"
   ]
  },
  {
   "cell_type": "code",
   "execution_count": null,
   "metadata": {},
   "outputs": [],
   "source": [
    "# (B): C has an __iter__() method.\n",
    "\n",
    "# Explanation or counterexample here.\n",
    "\n"
   ]
  },
  {
   "cell_type": "code",
   "execution_count": null,
   "metadata": {},
   "outputs": [],
   "source": [
    "# (C): C is a container. \n",
    "\n",
    "# Explanation or counterexample here.\n",
    "\n"
   ]
  },
  {
   "cell_type": "code",
   "execution_count": null,
   "metadata": {},
   "outputs": [],
   "source": [
    "# (D): The code len(C) executes without error. \n",
    "\n",
    "# Explanation or counterexample here.\n",
    "\n"
   ]
  },
  {
   "cell_type": "code",
   "execution_count": null,
   "metadata": {},
   "outputs": [],
   "source": [
    "# (E): The output of iter(C) has a __next__() method. \n",
    "\n",
    "# Explanation or counterexample here.\n",
    "\n"
   ]
  },
  {
   "cell_type": "code",
   "execution_count": null,
   "metadata": {},
   "outputs": [],
   "source": [
    "# (D): C possesses an instance variable i \n",
    "# which represents the current state of iteration. \n",
    "\n",
    "# Explanation or counterexample here.\n",
    "\n"
   ]
  }
 ],
 "metadata": {
  "kernelspec": {
   "display_name": "Python 3",
   "language": "python",
   "name": "python3"
  },
  "language_info": {
   "codemirror_mode": {
    "name": "ipython",
    "version": 3
   },
   "file_extension": ".py",
   "mimetype": "text/x-python",
   "name": "python",
   "nbconvert_exporter": "python",
   "pygments_lexer": "ipython3",
   "version": "3.8.3"
  }
 },
 "nbformat": 4,
 "nbformat_minor": 4
}
