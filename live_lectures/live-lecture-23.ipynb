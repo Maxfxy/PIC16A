{
 "cells": [
  {
   "cell_type": "markdown",
   "metadata": {},
   "source": [
    "# Automated Feature Selection\n",
    "\n",
    "In this live lecture activity, we are going to consider the problem of how to write algorithms that automatically make reasonable choices about which features to include in machine learning models. There are many approaches to this problem, and we will look at just one. "
   ]
  },
  {
   "cell_type": "markdown",
   "metadata": {},
   "source": [
    "## Grab and Prepare the Titanic Data"
   ]
  },
  {
   "cell_type": "code",
   "execution_count": 1,
   "metadata": {},
   "outputs": [],
   "source": [
    "import pandas as pd\n",
    "from matplotlib import pyplot as plt\n",
    "import numpy as np"
   ]
  },
  {
   "cell_type": "code",
   "execution_count": 2,
   "metadata": {},
   "outputs": [],
   "source": [
    "import urllib\n",
    "def retrieve_data(url):\n",
    "    \"\"\"\n",
    "    Retrieve a file from the specified url and save it in a local file \n",
    "    called data.csv. The intended values of url are:     \n",
    "    \"\"\"\n",
    "    \n",
    "    # grab the data and parse it\n",
    "    filedata = urllib.request.urlopen(url) \n",
    "    to_write = filedata.read()\n",
    "    \n",
    "    # write to file\n",
    "    with open(\"data.csv\", \"wb\") as f:\n",
    "        f.write(to_write)\n",
    "\n",
    "retrieve_data(\"https://philchodrow.github.io/PIC16A/datasets/titanic.csv\")\n",
    "titanic = pd.read_csv(\"data.csv\")\n",
    "\n",
    "from sklearn import preprocessing\n",
    "le = preprocessing.LabelEncoder()\n",
    "titanic[\"Sex\"] = le.fit_transform(titanic['Sex'])\n",
    "titanic = titanic.drop([\"Name\"], axis = 1)\n",
    "\n",
    "X = titanic.drop(['Survived'], axis = 1)\n",
    "y = titanic['Survived']"
   ]
  },
  {
   "cell_type": "code",
   "execution_count": 4,
   "metadata": {},
   "outputs": [
    {
     "data": {
      "text/plain": [
       "0      0\n",
       "1      1\n",
       "2      1\n",
       "3      1\n",
       "4      0\n",
       "      ..\n",
       "882    0\n",
       "883    1\n",
       "884    0\n",
       "885    1\n",
       "886    0\n",
       "Name: Survived, Length: 887, dtype: int64"
      ]
     },
     "execution_count": 4,
     "metadata": {},
     "output_type": "execute_result"
    }
   ],
   "source": [
    "y"
   ]
  },
  {
   "cell_type": "markdown",
   "metadata": {},
   "source": [
    "## Greedy Stagewise Feature Selection\n",
    "\n",
    "Here's what we are going to do. We will start with one randomly-chosen \"active\" column. Then, we will do the following a user-specified number of times: \n",
    "\n",
    "1. Compute the CV score of a model using only the active columns, and save it. \n",
    "2. Propose either \"activating\" or \"deactivating\" a column (i.e. adding or removing it from the list of active columns). Compute the CV score. If the CV score has improved, accept the proposal (i.e. add that column to the active set, or remove it)."
   ]
  },
  {
   "cell_type": "markdown",
   "metadata": {},
   "source": [
    "## Part A: Setup"
   ]
  },
  {
   "cell_type": "code",
   "execution_count": 5,
   "metadata": {},
   "outputs": [],
   "source": [
    "# import logistic regression and cross-validation\n",
    "from sklearn.linear_model import LogisticRegression\n",
    "from sklearn.model_selection import cross_val_score\n",
    "\n",
    "# create a logistic regression model\n",
    "LR = LogisticRegression(solver = \"liblinear\")"
   ]
  },
  {
   "cell_type": "code",
   "execution_count": 10,
   "metadata": {},
   "outputs": [],
   "source": [
    "list(X.columns).remove('Siblings/Spouses Aboard')"
   ]
  },
  {
   "cell_type": "code",
   "execution_count": 15,
   "metadata": {},
   "outputs": [],
   "source": [
    "def initialize_lists():\n",
    "    \"\"\"\n",
    "    Create an \"active\" list with a single random column\n",
    "    from X.columns and an \"inactive\" list with \n",
    "    all remaining columns. \n",
    "    \"\"\"\n",
    "    # grab a single random column\n",
    "    active = [np.random.choice(X.columns)]\n",
    "    \n",
    "    # make a list of all the other columns\n",
    "    inactive = list(X.columns)\n",
    "    inactive.remove(active[0])\n",
    "    return active, inactive\n",
    "    \n",
    "def move(col, active, inactive, mode = \"activate\"):\n",
    "    \"\"\"\n",
    "    Activate or deactivate a single column\n",
    "    by moving it between the active and inactive\n",
    "    lists. \n",
    "    Does not modify active or inactive -- instead \n",
    "    returns copies. \n",
    "    \"\"\"\n",
    "    # create copies\n",
    "    new_active = active.copy()\n",
    "    new_inactive = inactive.copy()\n",
    "    \n",
    "    if mode == \"activate\":\n",
    "        # if we are activating a column\n",
    "        new_inactive.remove(col)\n",
    "        # add col to the active list\n",
    "        new_active.append(col)\n",
    "    \n",
    "    # if we are deactivating a column\n",
    "    \n",
    "    if mode == \"deactivate\":\n",
    "        new_active.remove(col)\n",
    "        new_inactive.append(col)\n",
    "    \n",
    "    # return copies\n",
    "    return new_active, new_inactive"
   ]
  },
  {
   "cell_type": "markdown",
   "metadata": {},
   "source": [
    "### Illustrations"
   ]
  },
  {
   "cell_type": "code",
   "execution_count": 17,
   "metadata": {},
   "outputs": [
    {
     "data": {
      "text/plain": [
       "(['Pclass'],\n",
       " ['Sex', 'Age', 'Siblings/Spouses Aboard', 'Parents/Children Aboard', 'Fare'])"
      ]
     },
     "execution_count": 17,
     "metadata": {},
     "output_type": "execute_result"
    }
   ],
   "source": [
    "active, inactive = initialize_lists()\n",
    "active, inactive"
   ]
  },
  {
   "cell_type": "code",
   "execution_count": 18,
   "metadata": {},
   "outputs": [
    {
     "data": {
      "text/plain": [
       "(['Pclass', 'Age'],\n",
       " ['Sex', 'Siblings/Spouses Aboard', 'Parents/Children Aboard', 'Fare'])"
      ]
     },
     "execution_count": 18,
     "metadata": {},
     "output_type": "execute_result"
    }
   ],
   "source": [
    "move(\"Age\", active, inactive, mode = \"activate\")"
   ]
  },
  {
   "cell_type": "markdown",
   "metadata": {},
   "source": [
    "## Part B: Feature Selection"
   ]
  },
  {
   "cell_type": "code",
   "execution_count": 22,
   "metadata": {},
   "outputs": [],
   "source": [
    "def greedy_stagewise_feature_selection(model, X, y, n_iters = 20):\n",
    "    \n",
    "    # initialize with a single, randomly selected column\n",
    "    active, inactive = initialize_lists()\n",
    "    \n",
    "    # initialize the best CV score\n",
    "    best_CV = 0\n",
    "    \n",
    "    # main loop, n_iters times\n",
    "    for i in range(n_iters):\n",
    "        # alternate between activating and deactivating\n",
    "        for mode in [\"activate\", \"deactivate\"]:\n",
    "        \n",
    "            # if mode is \"activate\" and there are any remaining inactive\n",
    "            # columns, randomly select one. Otherwise, continue\n",
    "            if (mode == \"activate\"):\n",
    "                if len(inactive) > 0:\n",
    "                    col = np.random.choice(inactive)\n",
    "                else: \n",
    "                    continue\n",
    "            \n",
    "            # if mode is \"deactivate\" and if there at least 2 active\n",
    "            # columns then pick a random active column\n",
    "            if (mode == \"deactivate\") and (len(active) >= 2):\n",
    "                col = np.random.choice(active)\n",
    "            \n",
    "            # create a new, proposed active list by moving\n",
    "            # col between lists\n",
    "            \n",
    "            new_active, new_inactive = move(col, active, inactive, mode)\n",
    "            \n",
    "            # compute the CV score\n",
    "            CV_score = cross_val_score(LR, X[new_active], y, cv = 7).mean()\n",
    "            \n",
    "            # if the CV score is an improvement, update the \n",
    "            # active and inactive column sets. \n",
    "            \n",
    "            if (CV_score > best_CV) and (len(new_active) >=1):\n",
    "                best_CV = CV_score\n",
    "                active = new_active\n",
    "                inactive = new_inactive\n",
    "            \n",
    "            print(\"Number of columns: \" + str(len(active)) + \". CV score: \" + str(best_CV))\n",
    "    return active"
   ]
  },
  {
   "cell_type": "code",
   "execution_count": 27,
   "metadata": {},
   "outputs": [
    {
     "name": "stdout",
     "output_type": "stream",
     "text": [
      "Number of columns: 2. CV score: 0.7857678504472655\n",
      "Number of columns: 2. CV score: 0.7857678504472655\n",
      "Number of columns: 2. CV score: 0.7857678504472655\n",
      "Number of columns: 2. CV score: 0.7857678504472655\n",
      "Number of columns: 2. CV score: 0.7857678504472655\n",
      "Number of columns: 2. CV score: 0.7857678504472655\n",
      "Number of columns: 3. CV score: 0.7891602835359866\n",
      "Number of columns: 3. CV score: 0.7891602835359866\n",
      "Number of columns: 4. CV score: 0.7937043583837734\n",
      "Number of columns: 3. CV score: 0.8004178049172425\n",
      "Number of columns: 3. CV score: 0.8004178049172425\n",
      "Number of columns: 3. CV score: 0.8004178049172425\n",
      "Number of columns: 3. CV score: 0.8004178049172425\n",
      "Number of columns: 3. CV score: 0.8004178049172425\n",
      "Number of columns: 3. CV score: 0.8004178049172425\n",
      "Number of columns: 3. CV score: 0.8004178049172425\n",
      "Number of columns: 3. CV score: 0.8004178049172425\n",
      "Number of columns: 3. CV score: 0.8004178049172425\n",
      "Number of columns: 3. CV score: 0.8004178049172425\n",
      "Number of columns: 3. CV score: 0.8004178049172425\n"
     ]
    }
   ],
   "source": [
    "cols = greedy_stagewise_feature_selection(LR, X, y, n_iters = 10)"
   ]
  },
  {
   "cell_type": "code",
   "execution_count": 37,
   "metadata": {},
   "outputs": [],
   "source": [
    "from sklearn.tree import DecisionTreeClassifier\n",
    "T = DecisionTreeClassifier(max_depth = 10)"
   ]
  },
  {
   "cell_type": "code",
   "execution_count": 38,
   "metadata": {},
   "outputs": [
    {
     "name": "stdout",
     "output_type": "stream",
     "text": [
      "Number of columns: 2. CV score: 0.614432124555859\n",
      "Number of columns: 2. CV score: 0.614432124555859\n",
      "Number of columns: 3. CV score: 0.6899851804238757\n",
      "Number of columns: 3. CV score: 0.6899851804238757\n",
      "Number of columns: 4. CV score: 0.691101112360955\n",
      "Number of columns: 4. CV score: 0.691101112360955\n",
      "Number of columns: 5. CV score: 0.7903387076615422\n",
      "Number of columns: 5. CV score: 0.7903387076615422\n",
      "Number of columns: 5. CV score: 0.7903387076615422\n",
      "Number of columns: 4. CV score: 0.7925616440802042\n",
      "Number of columns: 4. CV score: 0.7925616440802042\n",
      "Number of columns: 3. CV score: 0.8004178049172425\n",
      "Number of columns: 3. CV score: 0.8004178049172425\n",
      "Number of columns: 3. CV score: 0.8004178049172425\n",
      "Number of columns: 3. CV score: 0.8004178049172425\n",
      "Number of columns: 3. CV score: 0.8004178049172425\n",
      "Number of columns: 3. CV score: 0.8004178049172425\n",
      "Number of columns: 3. CV score: 0.8004178049172425\n",
      "Number of columns: 3. CV score: 0.8004178049172425\n",
      "Number of columns: 3. CV score: 0.8004178049172425\n"
     ]
    }
   ],
   "source": [
    "cols = greedy_stagewise_feature_selection(T, X, y, n_iters = 10)"
   ]
  },
  {
   "cell_type": "code",
   "execution_count": 39,
   "metadata": {},
   "outputs": [
    {
     "data": {
      "text/plain": [
       "['Siblings/Spouses Aboard', 'Pclass', 'Sex']"
      ]
     },
     "execution_count": 39,
     "metadata": {},
     "output_type": "execute_result"
    }
   ],
   "source": [
    "cols"
   ]
  },
  {
   "cell_type": "code",
   "execution_count": null,
   "metadata": {},
   "outputs": [],
   "source": []
  }
 ],
 "metadata": {
  "kernelspec": {
   "display_name": "Python 3",
   "language": "python",
   "name": "python3"
  },
  "language_info": {
   "codemirror_mode": {
    "name": "ipython",
    "version": 3
   },
   "file_extension": ".py",
   "mimetype": "text/x-python",
   "name": "python",
   "nbconvert_exporter": "python",
   "pygments_lexer": "ipython3",
   "version": "3.8.3"
  }
 },
 "nbformat": 4,
 "nbformat_minor": 4
}
