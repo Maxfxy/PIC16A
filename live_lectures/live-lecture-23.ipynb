{
 "cells": [
  {
   "cell_type": "markdown",
   "metadata": {},
   "source": [
    "# Automated Feature Selection\n",
    "\n",
    "In this live lecture activity, we are going to consider the problem of how to write algorithms that automatically make reasonable choices about which features to include in machine learning models. There are many approaches to this problem, and we will look at just one. "
   ]
  },
  {
   "cell_type": "markdown",
   "metadata": {},
   "source": [
    "## Grab and Prepare the Titanic Data"
   ]
  },
  {
   "cell_type": "code",
   "execution_count": 160,
   "metadata": {},
   "outputs": [],
   "source": [
    "import pandas as pd\n",
    "from matplotlib import pyplot as plt\n",
    "import numpy as np"
   ]
  },
  {
   "cell_type": "code",
   "execution_count": 161,
   "metadata": {},
   "outputs": [],
   "source": [
    "import urllib\n",
    "def retrieve_data(url):\n",
    "    \"\"\"\n",
    "    Retrieve a file from the specified url and save it in a local file \n",
    "    called data.csv. The intended values of url are:     \n",
    "    \"\"\"\n",
    "    \n",
    "    # grab the data and parse it\n",
    "    filedata = urllib.request.urlopen(url) \n",
    "    to_write = filedata.read()\n",
    "    \n",
    "    # write to file\n",
    "    with open(\"data.csv\", \"wb\") as f:\n",
    "        f.write(to_write)\n",
    "\n",
    "retrieve_data(\"https://philchodrow.github.io/PIC16A/datasets/titanic.csv\")\n",
    "titanic = pd.read_csv(\"data.csv\")\n",
    "\n",
    "from sklearn import preprocessing\n",
    "le = preprocessing.LabelEncoder()\n",
    "titanic[\"Sex\"] = le.fit_transform(titanic['Sex'])\n",
    "titanic = titanic.drop([\"Name\"], axis = 1)\n",
    "\n",
    "X = titanic.drop(['Survived'], axis = 1)\n",
    "y = titanic['Survived']"
   ]
  },
  {
   "cell_type": "markdown",
   "metadata": {},
   "source": [
    "## Greedy Stagewise Feature Selection\n",
    "\n",
    "Here's what we are going to do. We will start with one randomly-chosen \"active\" column. Then, we will do the following a user-specified number of times: \n",
    "\n",
    "1. Compute the CV score of a model using only the active columns, and save it. \n",
    "2. Propose either \"activating\" or \"deactivating\" a column (i.e. adding or removing it from the list of active columns). Compute the CV score. If the CV score has improved, accept the proposal (i.e. add that column to the active set, or remove it)."
   ]
  },
  {
   "cell_type": "markdown",
   "metadata": {},
   "source": [
    "## Part A: Setup"
   ]
  },
  {
   "cell_type": "code",
   "execution_count": 186,
   "metadata": {},
   "outputs": [],
   "source": [
    "# import logistic regression and cross-validation\n",
    "from sklearn.linear_model import LogisticRegression\n",
    "from sklearn.model_selection import cross_val_score\n",
    "\n",
    "# create a logistic regression model\n",
    "LR = LogisticRegression(solver = \"liblinear\")"
   ]
  },
  {
   "cell_type": "code",
   "execution_count": 163,
   "metadata": {},
   "outputs": [],
   "source": [
    "def initialize_lists():\n",
    "    \"\"\"\n",
    "    Create an \"active\" list with a single column\n",
    "    from X.columns() and an \"inactive\" list with \n",
    "    all remaining columns. \n",
    "    \"\"\"\n",
    "    active = [np.random.choice(X.columns)]\n",
    "    inactive = list(X.columns)\n",
    "    inactive.remove(active[0])\n",
    "    return active, inactive\n",
    "\n",
    "def move(col, active, inactive, mode = \"activate\"):\n",
    "    \"\"\"\n",
    "    Activate or deactivate a single column\n",
    "    by moving it between the active and inactive\n",
    "    lists. \n",
    "    Does not modify active or inactive -- instead \n",
    "    returns copies. \n",
    "    \"\"\"\n",
    "    # create copies\n",
    "    new_active = active.copy()\n",
    "    new_inactive = inactive.copy()\n",
    "    \n",
    "    # if we are activating a column\n",
    "    if mode == \"activate\":\n",
    "        new_active.append(col)\n",
    "        new_inactive.remove(col)\n",
    "    # if we are deactivating a column\n",
    "    else:\n",
    "        new_active.remove(col)\n",
    "        new_inactive.append(col)\n",
    "    \n",
    "    # return copies\n",
    "    return new_active, new_inactive    "
   ]
  },
  {
   "cell_type": "markdown",
   "metadata": {},
   "source": [
    "### Illustrations"
   ]
  },
  {
   "cell_type": "code",
   "execution_count": 187,
   "metadata": {},
   "outputs": [
    {
     "name": "stdout",
     "output_type": "stream",
     "text": [
      "['Sex'] ['Pclass', 'Age', 'Siblings/Spouses Aboard', 'Parents/Children Aboard', 'Fare']\n"
     ]
    }
   ],
   "source": [
    "active, inactive = initialize_lists()\n",
    "print(active, inactive)"
   ]
  },
  {
   "cell_type": "code",
   "execution_count": 188,
   "metadata": {},
   "outputs": [
    {
     "data": {
      "text/plain": [
       "(['Sex', 'Age'],\n",
       " ['Pclass', 'Siblings/Spouses Aboard', 'Parents/Children Aboard', 'Fare'])"
      ]
     },
     "execution_count": 188,
     "metadata": {},
     "output_type": "execute_result"
    }
   ],
   "source": [
    "move(\"Age\", active, inactive, mode = \"activate\")"
   ]
  },
  {
   "cell_type": "markdown",
   "metadata": {},
   "source": [
    "## Part B: Feature Selection"
   ]
  },
  {
   "cell_type": "code",
   "execution_count": 177,
   "metadata": {},
   "outputs": [],
   "source": [
    "def greedy_stagewise_feature_selection(model, X, y, n_iters = 20):\n",
    "    \n",
    "    # initialize with a single, randomly selected column\n",
    "    active, inactive = initialize_lists()\n",
    "    \n",
    "    # initialize the best CV score\n",
    "    best_CV = 0\n",
    "    \n",
    "    # main loop, n_iters times\n",
    "    \n",
    "    for i in range(n_iters):\n",
    "        # alternate between activating and deactivating\n",
    "        for mode in [\"activate\", \"deactivate\"]:\n",
    "            # if mode is \"activate\" and there are any remaining inactive\n",
    "            # columns, randomly select one. Otherwise, continue\n",
    "            if mode == \"activate\":\n",
    "                if len(inactive) > 0:\n",
    "                    col = np.random.choice(inactive)\n",
    "                else:\n",
    "                    continue\n",
    "            # if mode is \"deactivate\", then pick a random \n",
    "            # active column\n",
    "            else:\n",
    "                col = np.random.choice(active)\n",
    "            \n",
    "            # create a new, proposed active set by moving\n",
    "            # col between sets\n",
    "            new_active, new_inactive = move(col, active, inactive, mode)\n",
    "            \n",
    "            # compute the CV score\n",
    "            CV_score = cross_val_score(LR, X[new_active], y, cv = 5).mean()\n",
    "            \n",
    "            # if the CV score is an improvement, update the \n",
    "            # active and inactive column sets. \n",
    "            if (CV_score > best_CV) and (len(new_active) >= 1):\n",
    "                best_CV = CV_score\n",
    "                active = new_active\n",
    "                inactive = new_inactive\n",
    "        # \n",
    "        print(\"Number of columns: \" + str(len(active)) + \". CV score: \" + str(best_CV))\n",
    "    return active    "
   ]
  },
  {
   "cell_type": "code",
   "execution_count": 185,
   "metadata": {},
   "outputs": [
    {
     "name": "stdout",
     "output_type": "stream",
     "text": [
      "Number of columns: 2. CV score: 0.6629340443090206\n",
      "Number of columns: 2. CV score: 0.6753380308512665\n",
      "Number of columns: 3. CV score: 0.6754015108233352\n",
      "Number of columns: 4. CV score: 0.7925411032819145\n",
      "Number of columns: 4. CV score: 0.7925411032819145\n",
      "Number of columns: 3. CV score: 0.798178124801625\n",
      "Number of columns: 3. CV score: 0.798178124801625\n",
      "Number of columns: 3. CV score: 0.798178124801625\n",
      "Number of columns: 3. CV score: 0.798178124801625\n",
      "Number of columns: 3. CV score: 0.798178124801625\n",
      "Number of columns: 3. CV score: 0.798178124801625\n",
      "Number of columns: 3. CV score: 0.798178124801625\n",
      "Number of columns: 3. CV score: 0.798178124801625\n",
      "Number of columns: 3. CV score: 0.798178124801625\n",
      "Number of columns: 3. CV score: 0.798178124801625\n",
      "Number of columns: 3. CV score: 0.798178124801625\n",
      "Number of columns: 3. CV score: 0.798178124801625\n",
      "Number of columns: 3. CV score: 0.798178124801625\n",
      "Number of columns: 3. CV score: 0.798178124801625\n",
      "Number of columns: 3. CV score: 0.798178124801625\n"
     ]
    }
   ],
   "source": [
    "cols = greedy_stagewise_feature_selection(LR, X, y, n_iters = 20)"
   ]
  }
 ],
 "metadata": {
  "kernelspec": {
   "display_name": "Python 3",
   "language": "python",
   "name": "python3"
  },
  "language_info": {
   "codemirror_mode": {
    "name": "ipython",
    "version": 3
   },
   "file_extension": ".py",
   "mimetype": "text/x-python",
   "name": "python",
   "nbconvert_exporter": "python",
   "pygments_lexer": "ipython3",
   "version": "3.8.3"
  }
 },
 "nbformat": 4,
 "nbformat_minor": 4
}
